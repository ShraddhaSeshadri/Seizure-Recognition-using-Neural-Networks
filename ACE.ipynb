{
  "nbformat": 4,
  "nbformat_minor": 0,
  "metadata": {
    "colab": {
      "provenance": []
    },
    "kernelspec": {
      "name": "python3",
      "display_name": "Python 3"
    },
    "language_info": {
      "name": "python"
    }
  },
  "cells": [
    {
      "cell_type": "code",
      "metadata": {
        "colab": {
          "base_uri": "https://localhost:8080/"
        },
        "id": "TYFE6kZcGTpi",
        "outputId": "6be53c69-c7d7-47dd-8b23-e4e65ba9f743"
      },
      "source": [
        "!unzip Z.zip -d 'Set A'\n",
        "!unzip O.zip -d 'Set B'\n",
        "!unzip N.zip -d 'Set C'\n",
        "!unzip F.zip -d 'Set D'\n",
        "!unzip S.zip -d 'Set E'"
      ],
      "execution_count": null,
      "outputs": [
        {
          "output_type": "stream",
          "text": [
            "Archive:  Z.zip\n",
            "  inflating: Set A/Z092.txt          \n",
            "  inflating: Set A/Z002.txt          \n",
            "  inflating: Set A/Z003.txt          \n",
            "  inflating: Set A/Z004.txt          \n",
            "  inflating: Set A/Z005.txt          \n",
            "  inflating: Set A/Z006.txt          \n",
            "  inflating: Set A/Z007.txt          \n",
            "  inflating: Set A/Z008.txt          \n",
            "  inflating: Set A/Z009.txt          \n",
            "  inflating: Set A/Z010.txt          \n",
            "  inflating: Set A/Z011.txt          \n",
            "  inflating: Set A/Z012.txt          \n",
            "  inflating: Set A/Z013.txt          \n",
            "  inflating: Set A/Z014.txt          \n",
            "  inflating: Set A/Z015.txt          \n",
            "  inflating: Set A/Z016.txt          \n",
            "  inflating: Set A/Z017.txt          \n",
            "  inflating: Set A/Z018.txt          \n",
            "  inflating: Set A/Z019.txt          \n",
            "  inflating: Set A/Z020.txt          \n",
            "  inflating: Set A/Z021.txt          \n",
            "  inflating: Set A/Z022.txt          \n",
            "  inflating: Set A/Z023.txt          \n",
            "  inflating: Set A/Z024.txt          \n",
            "  inflating: Set A/Z025.txt          \n",
            "  inflating: Set A/Z026.txt          \n",
            "  inflating: Set A/Z027.txt          \n",
            "  inflating: Set A/Z028.txt          \n",
            "  inflating: Set A/Z029.txt          \n",
            "  inflating: Set A/Z030.txt          \n",
            "  inflating: Set A/Z031.txt          \n",
            "  inflating: Set A/Z032.txt          \n",
            "  inflating: Set A/Z033.txt          \n",
            "  inflating: Set A/Z034.txt          \n",
            "  inflating: Set A/Z035.txt          \n",
            "  inflating: Set A/Z036.txt          \n",
            "  inflating: Set A/Z037.txt          \n",
            "  inflating: Set A/Z038.txt          \n",
            "  inflating: Set A/Z039.txt          \n",
            "  inflating: Set A/Z040.txt          \n",
            "  inflating: Set A/Z041.txt          \n",
            "  inflating: Set A/Z042.txt          \n",
            "  inflating: Set A/Z043.txt          \n",
            "  inflating: Set A/Z044.txt          \n",
            "  inflating: Set A/Z045.txt          \n",
            "  inflating: Set A/Z046.txt          \n",
            "  inflating: Set A/Z047.txt          \n",
            "  inflating: Set A/Z048.txt          \n",
            "  inflating: Set A/Z049.txt          \n",
            "  inflating: Set A/Z050.txt          \n",
            "  inflating: Set A/Z051.txt          \n",
            "  inflating: Set A/Z052.txt          \n",
            "  inflating: Set A/Z053.txt          \n",
            "  inflating: Set A/Z054.txt          \n",
            "  inflating: Set A/Z055.txt          \n",
            "  inflating: Set A/Z056.txt          \n",
            "  inflating: Set A/Z057.txt          \n",
            "  inflating: Set A/Z058.txt          \n",
            "  inflating: Set A/Z059.txt          \n",
            "  inflating: Set A/Z060.txt          \n",
            "  inflating: Set A/Z061.txt          \n",
            "  inflating: Set A/Z062.txt          \n",
            "  inflating: Set A/Z063.txt          \n",
            "  inflating: Set A/Z064.txt          \n",
            "  inflating: Set A/Z065.txt          \n",
            "  inflating: Set A/Z066.txt          \n",
            "  inflating: Set A/Z067.txt          \n",
            "  inflating: Set A/Z068.txt          \n",
            "  inflating: Set A/Z069.txt          \n",
            "  inflating: Set A/Z070.txt          \n",
            "  inflating: Set A/Z071.txt          \n",
            "  inflating: Set A/Z072.txt          \n",
            "  inflating: Set A/Z073.txt          \n",
            "  inflating: Set A/Z074.txt          \n",
            "  inflating: Set A/Z075.txt          \n",
            "  inflating: Set A/Z076.txt          \n",
            "  inflating: Set A/Z077.txt          \n",
            "  inflating: Set A/Z078.txt          \n",
            "  inflating: Set A/Z079.txt          \n",
            "  inflating: Set A/Z080.txt          \n",
            "  inflating: Set A/Z081.txt          \n",
            "  inflating: Set A/Z082.txt          \n",
            "  inflating: Set A/Z083.txt          \n",
            "  inflating: Set A/Z084.txt          \n",
            "  inflating: Set A/Z085.txt          \n",
            "  inflating: Set A/Z086.txt          \n",
            "  inflating: Set A/Z087.txt          \n",
            "  inflating: Set A/Z088.txt          \n",
            "  inflating: Set A/Z089.txt          \n",
            "  inflating: Set A/Z090.txt          \n",
            "  inflating: Set A/Z091.txt          \n",
            "  inflating: Set A/Z001.txt          \n",
            "  inflating: Set A/Z093.txt          \n",
            "  inflating: Set A/Z094.txt          \n",
            "  inflating: Set A/Z095.txt          \n",
            "  inflating: Set A/Z096.txt          \n",
            "  inflating: Set A/Z097.txt          \n",
            "  inflating: Set A/Z098.txt          \n",
            "  inflating: Set A/Z099.txt          \n",
            "  inflating: Set A/Z100.txt          \n",
            "Archive:  O.zip\n",
            "  inflating: Set B/O099.txt          \n",
            "  inflating: Set B/O100.txt          \n",
            "  inflating: Set B/O098.txt          \n",
            "  inflating: Set B/O097.txt          \n",
            "  inflating: Set B/O096.txt          \n",
            "  inflating: Set B/O095.txt          \n",
            "  inflating: Set B/O094.txt          \n",
            "  inflating: Set B/O093.txt          \n",
            "  inflating: Set B/O092.txt          \n",
            "  inflating: Set B/O091.txt          \n",
            "  inflating: Set B/O090.txt          \n",
            "  inflating: Set B/O089.txt          \n",
            "  inflating: Set B/O088.txt          \n",
            "  inflating: Set B/O087.txt          \n",
            "  inflating: Set B/O086.txt          \n",
            "  inflating: Set B/O085.txt          \n",
            "  inflating: Set B/O084.txt          \n",
            "  inflating: Set B/O083.txt          \n",
            "  inflating: Set B/O082.txt          \n",
            "  inflating: Set B/O081.txt          \n",
            "  inflating: Set B/O080.txt          \n",
            "  inflating: Set B/O079.txt          \n",
            "  inflating: Set B/O078.txt          \n",
            "  inflating: Set B/O077.txt          \n",
            "  inflating: Set B/O076.txt          \n",
            "  inflating: Set B/O075.txt          \n",
            "  inflating: Set B/O074.txt          \n",
            "  inflating: Set B/O073.txt          \n",
            "  inflating: Set B/O072.txt          \n",
            "  inflating: Set B/O071.txt          \n",
            "  inflating: Set B/O070.txt          \n",
            "  inflating: Set B/O069.txt          \n",
            "  inflating: Set B/O068.txt          \n",
            "  inflating: Set B/O067.txt          \n",
            "  inflating: Set B/O066.txt          \n",
            "  inflating: Set B/O065.txt          \n",
            "  inflating: Set B/O064.txt          \n",
            "  inflating: Set B/O063.txt          \n",
            "  inflating: Set B/O062.txt          \n",
            "  inflating: Set B/O061.txt          \n",
            "  inflating: Set B/O060.txt          \n",
            "  inflating: Set B/O059.txt          \n",
            "  inflating: Set B/O058.txt          \n",
            "  inflating: Set B/O057.txt          \n",
            "  inflating: Set B/O056.txt          \n",
            "  inflating: Set B/O055.txt          \n",
            "  inflating: Set B/O054.txt          \n",
            "  inflating: Set B/O053.txt          \n",
            "  inflating: Set B/O052.txt          \n",
            "  inflating: Set B/O051.txt          \n",
            "  inflating: Set B/O050.txt          \n",
            "  inflating: Set B/O049.txt          \n",
            "  inflating: Set B/O048.txt          \n",
            "  inflating: Set B/O047.txt          \n",
            "  inflating: Set B/O046.txt          \n",
            "  inflating: Set B/O045.txt          \n",
            "  inflating: Set B/O044.txt          \n",
            "  inflating: Set B/O043.txt          \n",
            "  inflating: Set B/O042.txt          \n",
            "  inflating: Set B/O041.txt          \n",
            "  inflating: Set B/O040.txt          \n",
            "  inflating: Set B/O039.txt          \n",
            "  inflating: Set B/O038.txt          \n",
            "  inflating: Set B/O037.txt          \n",
            "  inflating: Set B/O036.txt          \n",
            "  inflating: Set B/O035.txt          \n",
            "  inflating: Set B/O034.txt          \n",
            "  inflating: Set B/O033.txt          \n",
            "  inflating: Set B/O032.txt          \n",
            "  inflating: Set B/O031.txt          \n",
            "  inflating: Set B/O030.txt          \n",
            "  inflating: Set B/O029.txt          \n",
            "  inflating: Set B/O028.txt          \n",
            "  inflating: Set B/O027.txt          \n",
            "  inflating: Set B/O026.txt          \n",
            "  inflating: Set B/O025.txt          \n",
            "  inflating: Set B/O024.txt          \n",
            "  inflating: Set B/O023.txt          \n",
            "  inflating: Set B/O022.txt          \n",
            "  inflating: Set B/O021.txt          \n",
            "  inflating: Set B/O020.txt          \n",
            "  inflating: Set B/O019.txt          \n",
            "  inflating: Set B/O018.txt          \n",
            "  inflating: Set B/O017.txt          \n",
            "  inflating: Set B/O016.txt          \n",
            "  inflating: Set B/O015.txt          \n",
            "  inflating: Set B/O014.txt          \n",
            "  inflating: Set B/O013.txt          \n",
            "  inflating: Set B/O012.txt          \n",
            "  inflating: Set B/O011.txt          \n",
            "  inflating: Set B/O010.txt          \n",
            "  inflating: Set B/O009.txt          \n",
            "  inflating: Set B/O008.txt          \n",
            "  inflating: Set B/O007.txt          \n",
            "  inflating: Set B/O006.txt          \n",
            "  inflating: Set B/O005.txt          \n",
            "  inflating: Set B/O004.txt          \n",
            "  inflating: Set B/O003.txt          \n",
            "  inflating: Set B/O002.txt          \n",
            "  inflating: Set B/O001.txt          \n",
            "Archive:  N.zip\n",
            "  inflating: Set C/N001.TXT          \n",
            "  inflating: Set C/N099.TXT          \n",
            "  inflating: Set C/N098.TXT          \n",
            "  inflating: Set C/N097.TXT          \n",
            "  inflating: Set C/N096.TXT          \n",
            "  inflating: Set C/N095.TXT          \n",
            "  inflating: Set C/N094.TXT          \n",
            "  inflating: Set C/N093.TXT          \n",
            "  inflating: Set C/N092.TXT          \n",
            "  inflating: Set C/N091.TXT          \n",
            "  inflating: Set C/N090.TXT          \n",
            "  inflating: Set C/N089.TXT          \n",
            "  inflating: Set C/N088.TXT          \n",
            "  inflating: Set C/N087.TXT          \n",
            "  inflating: Set C/N086.TXT          \n",
            "  inflating: Set C/N085.TXT          \n",
            "  inflating: Set C/N084.TXT          \n",
            "  inflating: Set C/N083.TXT          \n",
            "  inflating: Set C/N082.TXT          \n",
            "  inflating: Set C/N081.TXT          \n",
            "  inflating: Set C/N080.TXT          \n",
            "  inflating: Set C/N079.TXT          \n",
            "  inflating: Set C/N078.TXT          \n",
            "  inflating: Set C/N077.TXT          \n",
            "  inflating: Set C/N076.TXT          \n",
            "  inflating: Set C/N075.TXT          \n",
            "  inflating: Set C/N074.TXT          \n",
            "  inflating: Set C/N073.TXT          \n",
            "  inflating: Set C/N072.TXT          \n",
            "  inflating: Set C/N071.TXT          \n",
            "  inflating: Set C/N070.TXT          \n",
            "  inflating: Set C/N069.TXT          \n",
            "  inflating: Set C/N068.TXT          \n",
            "  inflating: Set C/N067.TXT          \n",
            "  inflating: Set C/N066.TXT          \n",
            "  inflating: Set C/N065.TXT          \n",
            "  inflating: Set C/N064.TXT          \n",
            "  inflating: Set C/N063.TXT          \n",
            "  inflating: Set C/N062.TXT          \n",
            "  inflating: Set C/N061.TXT          \n",
            "  inflating: Set C/N060.TXT          \n",
            "  inflating: Set C/N059.TXT          \n",
            "  inflating: Set C/N058.TXT          \n",
            "  inflating: Set C/N057.TXT          \n",
            "  inflating: Set C/N056.TXT          \n",
            "  inflating: Set C/N055.TXT          \n",
            "  inflating: Set C/N054.TXT          \n",
            "  inflating: Set C/N053.TXT          \n",
            "  inflating: Set C/N052.TXT          \n",
            "  inflating: Set C/N051.TXT          \n",
            "  inflating: Set C/N050.TXT          \n",
            "  inflating: Set C/N049.TXT          \n",
            "  inflating: Set C/N048.TXT          \n",
            "  inflating: Set C/N047.TXT          \n",
            "  inflating: Set C/N046.TXT          \n",
            "  inflating: Set C/N045.TXT          \n",
            "  inflating: Set C/N044.TXT          \n",
            "  inflating: Set C/N043.TXT          \n",
            "  inflating: Set C/N042.TXT          \n",
            "  inflating: Set C/N041.TXT          \n",
            "  inflating: Set C/N040.TXT          \n",
            "  inflating: Set C/N039.TXT          \n",
            "  inflating: Set C/N038.TXT          \n",
            "  inflating: Set C/N037.TXT          \n",
            "  inflating: Set C/N036.TXT          \n",
            "  inflating: Set C/N035.TXT          \n",
            "  inflating: Set C/N034.TXT          \n",
            "  inflating: Set C/N033.TXT          \n",
            "  inflating: Set C/N032.TXT          \n",
            "  inflating: Set C/N031.TXT          \n",
            "  inflating: Set C/N030.TXT          \n",
            "  inflating: Set C/N029.TXT          \n",
            "  inflating: Set C/N028.TXT          \n",
            "  inflating: Set C/N027.TXT          \n",
            "  inflating: Set C/N026.TXT          \n",
            "  inflating: Set C/N025.TXT          \n",
            "  inflating: Set C/N024.TXT          \n",
            "  inflating: Set C/N023.TXT          \n",
            "  inflating: Set C/N022.TXT          \n",
            "  inflating: Set C/N021.TXT          \n",
            "  inflating: Set C/N020.TXT          \n",
            "  inflating: Set C/N019.TXT          \n",
            "  inflating: Set C/N018.TXT          \n",
            "  inflating: Set C/N017.TXT          \n",
            "  inflating: Set C/N016.TXT          \n",
            "  inflating: Set C/N015.TXT          \n",
            "  inflating: Set C/N014.TXT          \n",
            "  inflating: Set C/N013.TXT          \n",
            "  inflating: Set C/N012.TXT          \n",
            "  inflating: Set C/N011.TXT          \n",
            "  inflating: Set C/N010.TXT          \n",
            "  inflating: Set C/N009.TXT          \n",
            "  inflating: Set C/N008.TXT          \n",
            "  inflating: Set C/N007.TXT          \n",
            "  inflating: Set C/N006.TXT          \n",
            "  inflating: Set C/N005.TXT          \n",
            "  inflating: Set C/N004.TXT          \n",
            "  inflating: Set C/N003.TXT          \n",
            "  inflating: Set C/N002.TXT          \n",
            "  inflating: Set C/N100.TXT          \n",
            "Archive:  F.zip\n",
            "  inflating: Set D/F100.txt          \n",
            "  inflating: Set D/F002.txt          \n",
            "  inflating: Set D/F003.txt          \n",
            "  inflating: Set D/F004.txt          \n",
            "  inflating: Set D/F005.txt          \n",
            "  inflating: Set D/F006.txt          \n",
            "  inflating: Set D/F007.txt          \n",
            "  inflating: Set D/F008.txt          \n",
            "  inflating: Set D/F009.txt          \n",
            "  inflating: Set D/F010.txt          \n",
            "  inflating: Set D/F011.txt          \n",
            "  inflating: Set D/F012.txt          \n",
            "  inflating: Set D/F013.txt          \n",
            "  inflating: Set D/F014.txt          \n",
            "  inflating: Set D/F015.txt          \n",
            "  inflating: Set D/F016.txt          \n",
            "  inflating: Set D/F017.txt          \n",
            "  inflating: Set D/F018.txt          \n",
            "  inflating: Set D/F019.txt          \n",
            "  inflating: Set D/F020.txt          \n",
            "  inflating: Set D/F021.txt          \n",
            "  inflating: Set D/F022.txt          \n",
            "  inflating: Set D/F023.txt          \n",
            "  inflating: Set D/F024.txt          \n",
            "  inflating: Set D/F025.txt          \n",
            "  inflating: Set D/F026.txt          \n",
            "  inflating: Set D/F027.txt          \n",
            "  inflating: Set D/F028.txt          \n",
            "  inflating: Set D/F029.txt          \n",
            "  inflating: Set D/F030.txt          \n",
            "  inflating: Set D/F031.txt          \n",
            "  inflating: Set D/F032.txt          \n",
            "  inflating: Set D/F033.txt          \n",
            "  inflating: Set D/F034.txt          \n",
            "  inflating: Set D/F035.txt          \n",
            "  inflating: Set D/F036.txt          \n",
            "  inflating: Set D/F037.txt          \n",
            "  inflating: Set D/F038.txt          \n",
            "  inflating: Set D/F039.txt          \n",
            "  inflating: Set D/F040.txt          \n",
            "  inflating: Set D/F041.txt          \n",
            "  inflating: Set D/F042.txt          \n",
            "  inflating: Set D/F043.txt          \n",
            "  inflating: Set D/F044.txt          \n",
            "  inflating: Set D/F045.txt          \n",
            "  inflating: Set D/F046.txt          \n",
            "  inflating: Set D/F047.txt          \n",
            "  inflating: Set D/F048.txt          \n",
            "  inflating: Set D/F049.txt          \n",
            "  inflating: Set D/F050.txt          \n",
            "  inflating: Set D/F051.txt          \n",
            "  inflating: Set D/F052.txt          \n",
            "  inflating: Set D/F053.txt          \n",
            "  inflating: Set D/F054.txt          \n",
            "  inflating: Set D/F055.txt          \n",
            "  inflating: Set D/F056.txt          \n",
            "  inflating: Set D/F057.txt          \n",
            "  inflating: Set D/F058.txt          \n",
            "  inflating: Set D/F059.txt          \n",
            "  inflating: Set D/F060.txt          \n",
            "  inflating: Set D/F061.txt          \n",
            "  inflating: Set D/F062.txt          \n",
            "  inflating: Set D/F063.txt          \n",
            "  inflating: Set D/F064.txt          \n",
            "  inflating: Set D/F065.txt          \n",
            "  inflating: Set D/F066.txt          \n",
            "  inflating: Set D/F067.txt          \n",
            "  inflating: Set D/F068.txt          \n",
            "  inflating: Set D/F069.txt          \n",
            "  inflating: Set D/F070.txt          \n",
            "  inflating: Set D/F071.txt          \n",
            "  inflating: Set D/F072.txt          \n",
            "  inflating: Set D/F073.txt          \n",
            "  inflating: Set D/F074.txt          \n",
            "  inflating: Set D/F075.txt          \n",
            "  inflating: Set D/F076.txt          \n",
            "  inflating: Set D/F077.txt          \n",
            "  inflating: Set D/F078.txt          \n",
            "  inflating: Set D/F079.txt          \n",
            "  inflating: Set D/F080.txt          \n",
            "  inflating: Set D/F081.txt          \n",
            "  inflating: Set D/F082.txt          \n",
            "  inflating: Set D/F083.txt          \n",
            "  inflating: Set D/F084.txt          \n",
            "  inflating: Set D/F085.txt          \n",
            "  inflating: Set D/F086.txt          \n",
            "  inflating: Set D/F087.txt          \n",
            "  inflating: Set D/F088.txt          \n",
            "  inflating: Set D/F089.txt          \n",
            "  inflating: Set D/F090.txt          \n",
            "  inflating: Set D/F091.txt          \n",
            "  inflating: Set D/F092.txt          \n",
            "  inflating: Set D/F093.txt          \n",
            "  inflating: Set D/F094.txt          \n",
            "  inflating: Set D/F095.txt          \n",
            "  inflating: Set D/F096.txt          \n",
            "  inflating: Set D/F097.txt          \n",
            "  inflating: Set D/F098.txt          \n",
            "  inflating: Set D/F099.txt          \n",
            "  inflating: Set D/F001.txt          \n",
            "Archive:  S.zip\n",
            "  inflating: Set E/S011.txt          \n",
            "  inflating: Set E/S099.txt          \n",
            "  inflating: Set E/S098.txt          \n",
            "  inflating: Set E/S097.txt          \n",
            "  inflating: Set E/S096.txt          \n",
            "  inflating: Set E/S095.txt          \n",
            "  inflating: Set E/S094.txt          \n",
            "  inflating: Set E/S093.txt          \n",
            "  inflating: Set E/S092.txt          \n",
            "  inflating: Set E/S091.txt          \n",
            "  inflating: Set E/S090.txt          \n",
            "  inflating: Set E/S089.txt          \n",
            "  inflating: Set E/S088.txt          \n",
            "  inflating: Set E/S087.txt          \n",
            "  inflating: Set E/S086.txt          \n",
            "  inflating: Set E/S085.txt          \n",
            "  inflating: Set E/S084.txt          \n",
            "  inflating: Set E/S083.txt          \n",
            "  inflating: Set E/S082.txt          \n",
            "  inflating: Set E/S081.txt          \n",
            "  inflating: Set E/S080.txt          \n",
            "  inflating: Set E/S079.txt          \n",
            "  inflating: Set E/S078.txt          \n",
            "  inflating: Set E/S077.txt          \n",
            "  inflating: Set E/S076.txt          \n",
            "  inflating: Set E/S075.txt          \n",
            "  inflating: Set E/S074.txt          \n",
            "  inflating: Set E/S073.txt          \n",
            "  inflating: Set E/S072.txt          \n",
            "  inflating: Set E/S071.txt          \n",
            "  inflating: Set E/S070.txt          \n",
            "  inflating: Set E/S069.txt          \n",
            "  inflating: Set E/S068.txt          \n",
            "  inflating: Set E/S067.txt          \n",
            "  inflating: Set E/S066.txt          \n",
            "  inflating: Set E/S065.txt          \n",
            "  inflating: Set E/S064.txt          \n",
            "  inflating: Set E/S063.txt          \n",
            "  inflating: Set E/S062.txt          \n",
            "  inflating: Set E/S061.txt          \n",
            "  inflating: Set E/S060.txt          \n",
            "  inflating: Set E/S059.txt          \n",
            "  inflating: Set E/S058.txt          \n",
            "  inflating: Set E/S057.txt          \n",
            "  inflating: Set E/S056.txt          \n",
            "  inflating: Set E/S055.txt          \n",
            "  inflating: Set E/S054.txt          \n",
            "  inflating: Set E/S053.txt          \n",
            "  inflating: Set E/S052.txt          \n",
            "  inflating: Set E/S051.txt          \n",
            "  inflating: Set E/S050.txt          \n",
            "  inflating: Set E/S049.txt          \n",
            "  inflating: Set E/S048.txt          \n",
            "  inflating: Set E/S047.txt          \n",
            "  inflating: Set E/S046.txt          \n",
            "  inflating: Set E/S045.txt          \n",
            "  inflating: Set E/S044.txt          \n",
            "  inflating: Set E/S043.txt          \n",
            "  inflating: Set E/S042.txt          \n",
            "  inflating: Set E/S041.txt          \n",
            "  inflating: Set E/S040.txt          \n",
            "  inflating: Set E/S039.txt          \n",
            "  inflating: Set E/S038.txt          \n",
            "  inflating: Set E/S037.txt          \n",
            "  inflating: Set E/S036.txt          \n",
            "  inflating: Set E/S035.txt          \n",
            "  inflating: Set E/S034.txt          \n",
            "  inflating: Set E/S033.txt          \n",
            "  inflating: Set E/S032.txt          \n",
            "  inflating: Set E/S031.txt          \n",
            "  inflating: Set E/S030.txt          \n",
            "  inflating: Set E/S029.txt          \n",
            "  inflating: Set E/S028.txt          \n",
            "  inflating: Set E/S027.txt          \n",
            "  inflating: Set E/S026.txt          \n",
            "  inflating: Set E/S025.txt          \n",
            "  inflating: Set E/S024.txt          \n",
            "  inflating: Set E/S023.txt          \n",
            "  inflating: Set E/S022.txt          \n",
            "  inflating: Set E/S021.txt          \n",
            "  inflating: Set E/S020.txt          \n",
            "  inflating: Set E/S019.txt          \n",
            "  inflating: Set E/S018.txt          \n",
            "  inflating: Set E/S017.txt          \n",
            "  inflating: Set E/S016.txt          \n",
            "  inflating: Set E/S015.txt          \n",
            "  inflating: Set E/S014.txt          \n",
            "  inflating: Set E/S013.txt          \n",
            "  inflating: Set E/S012.txt          \n",
            "  inflating: Set E/S100.txt          \n",
            "  inflating: Set E/S010.txt          \n",
            "  inflating: Set E/S009.txt          \n",
            "  inflating: Set E/S008.txt          \n",
            "  inflating: Set E/S007.txt          \n",
            "  inflating: Set E/S006.txt          \n",
            "  inflating: Set E/S005.txt          \n",
            "  inflating: Set E/S004.txt          \n",
            "  inflating: Set E/S003.txt          \n",
            "  inflating: Set E/S002.txt          \n",
            "  inflating: Set E/S001.txt          \n"
          ],
          "name": "stdout"
        }
      ]
    },
    {
      "cell_type": "markdown",
      "source": [
        "# Import Libraries"
      ],
      "metadata": {
        "id": "oG7sWc3lQe6E"
      }
    },
    {
      "cell_type": "code",
      "metadata": {
        "id": "uNGjJvBKID3V"
      },
      "source": [
        "import glob\n",
        "import numpy as np\n",
        "import matplotlib as mpl\n",
        "import matplotlib.pyplot as plt"
      ],
      "execution_count": null,
      "outputs": []
    },
    {
      "cell_type": "code",
      "metadata": {
        "colab": {
          "base_uri": "https://localhost:8080/"
        },
        "id": "DkMJFLlAIFuJ",
        "outputId": "81f3ef72-70cc-4f9b-a0f2-b918c8c391b7"
      },
      "source": [
        "GColab = False\n",
        "\n",
        "if GColab:\n",
        "  !pip install tqdm\n",
        "  \n",
        "import os\n",
        "from tqdm import tqdm\n",
        "\n",
        "DATA_DIR_A = '/content/Set A/'\n",
        "DATA_DIR_B = '/content/Set B/'\n",
        "DATA_DIR_C = '/content/Set C/'\n",
        "DATA_DIR_D = '/content/Set D/'\n",
        "DATA_DIR_E = '/content/Set E/'\n",
        "\n",
        "  \n",
        "LABEL_C1 = 0\n",
        "LABEL_C2 = 1\n",
        "LABEL_C3 = 2\n",
        "\n",
        "def load_data():\n",
        "    data = []\n",
        "    nbFiles = 0\n",
        "    for fname in tqdm(os.listdir(DATA_DIR_A)):\n",
        "        img = np.loadtxt(DATA_DIR_A + fname)\n",
        "        data.append([img, np.array(LABEL_C1)])\n",
        "        nbFiles+=1\n",
        "\n",
        "    #for fname in tqdm(os.listdir(DATA_DIR_B)):\n",
        "     #   img = np.loadtxt(DATA_DIR_B + fname)\n",
        "     #   data.append([img, np.array(LABEL_C1)])\n",
        "     #   nbFiles+=1    \n",
        "    \n",
        "    for fname in tqdm(os.listdir(DATA_DIR_C)):\n",
        "        img = np.loadtxt(DATA_DIR_C + fname)\n",
        "        data.append([np.array(img), np.array(LABEL_C2)])\n",
        "        nbFiles+=1\n",
        "\n",
        "    #for fname in tqdm(os.listdir(DATA_DIR_D)):\n",
        "        #img = np.loadtxt(DATA_DIR_D + fname)\n",
        "        #data.append([np.array(img), np.array(LABEL_C2)])\n",
        "        #nbFiles+=1\n",
        "\n",
        "    for fname in tqdm(os.listdir(DATA_DIR_E)):\n",
        "        img = np.loadtxt(DATA_DIR_E + fname)\n",
        "        data.append([np.array(img), np.array(LABEL_C2)])\n",
        "        nbFiles+=1\n",
        "        \n",
        "    return data\n",
        "\n",
        "\n",
        "data = load_data()\n",
        "print(len(data), \"Files\")"
      ],
      "execution_count": null,
      "outputs": [
        {
          "output_type": "stream",
          "text": [
            "100%|██████████| 100/100 [00:01<00:00, 71.10it/s]\n",
            "100%|██████████| 100/100 [00:01<00:00, 69.18it/s]\n",
            "100%|██████████| 100/100 [00:01<00:00, 67.88it/s]"
          ],
          "name": "stderr"
        },
        {
          "output_type": "stream",
          "text": [
            "300 Files\n"
          ],
          "name": "stdout"
        },
        {
          "output_type": "stream",
          "text": [
            "\n"
          ],
          "name": "stderr"
        }
      ]
    },
    {
      "cell_type": "code",
      "metadata": {
        "id": "jBoyx7jZIXQa"
      },
      "source": [
        "from sklearn.utils import shuffle\n",
        "data = shuffle(data)\n",
        "\n",
        "nb_train = round(len(data) * 0.8)\n",
        "data_train = data[0:nb_train]\n",
        "data_test = data[nb_train:]\n",
        "\n",
        "X_train = np.array([d[0] for d in data_train])\n",
        "Y_train = np.array([d[1] for d in data_train])\n",
        "\n",
        "X_test = np.array([d[0] for d in data_test])\n",
        "Y_test = np.array([d[1] for d in data_test])\n",
        "\n",
        "X_train.shape\n",
        "    \n",
        "X_train = X_train.reshape(X_train.shape[0], 4097, 1)\n",
        "Y_train = Y_train.reshape(Y_train.shape[0], 1)\n",
        "\n",
        "X_test = X_test.reshape(X_test.shape[0], 4097, 1)\n",
        "Y_test = Y_test.reshape(Y_test.shape[0], 1)"
      ],
      "execution_count": null,
      "outputs": []
    },
    {
      "cell_type": "markdown",
      "source": [
        "# LSTM"
      ],
      "metadata": {
        "id": "GFA_LhGxQi1Z"
      }
    },
    {
      "cell_type": "code",
      "metadata": {
        "colab": {
          "base_uri": "https://localhost:8080/"
        },
        "id": "RyysTLOCIemc",
        "outputId": "cb551b4e-f39f-4fa7-d287-0ac0d4de9410"
      },
      "source": [
        "from keras.models import Sequential\n",
        "from keras.layers import Dense, Dropout, Activation\n",
        "from keras.layers import Embedding\n",
        "from keras.layers import LSTM\n",
        "\n",
        "#num_steps = 30\n",
        "batch_size = 4\n",
        "nb_epoch = 20\n",
        "hidden_size = 64\n",
        "use_dropout=True\n",
        "\n",
        "model = Sequential()\n",
        "model.add(LSTM(hidden_size, input_shape=(4097,1)))\n",
        "#model.add(LSTM(64, return_sequences=False))\n",
        "\n",
        "if use_dropout:\n",
        "  model.add(Dropout(0.35))\n",
        "model.add(Dense(1))\n",
        "model.add(Activation('sigmoid'))\n",
        "\n",
        "model.compile(loss='binary_crossentropy', optimizer='adam', metrics=['mae', 'acc'])\n",
        "\n",
        "print(model.summary())\n",
        "\n",
        "history = model.fit(X_train, Y_train, validation_split=0.2, batch_size=batch_size, epochs=nb_epoch)\n",
        "score = model.evaluate(X_test, Y_test, batch_size=batch_size)"
      ],
      "execution_count": null,
      "outputs": [
        {
          "output_type": "stream",
          "text": [
            "Model: \"sequential\"\n",
            "_________________________________________________________________\n",
            "Layer (type)                 Output Shape              Param #   \n",
            "=================================================================\n",
            "lstm (LSTM)                  (None, 64)                16896     \n",
            "_________________________________________________________________\n",
            "dropout (Dropout)            (None, 64)                0         \n",
            "_________________________________________________________________\n",
            "dense (Dense)                (None, 1)                 65        \n",
            "_________________________________________________________________\n",
            "activation (Activation)      (None, 1)                 0         \n",
            "=================================================================\n",
            "Total params: 16,961\n",
            "Trainable params: 16,961\n",
            "Non-trainable params: 0\n",
            "_________________________________________________________________\n",
            "None\n",
            "Epoch 1/20\n",
            "48/48 [==============================] - 61s 871ms/step - loss: 0.7356 - mae: 0.4805 - acc: 0.5563 - val_loss: 0.6532 - val_mae: 0.4557 - val_acc: 0.5625\n",
            "Epoch 2/20\n",
            "48/48 [==============================] - 41s 851ms/step - loss: 0.5754 - mae: 0.3965 - acc: 0.6586 - val_loss: 0.5957 - val_mae: 0.4287 - val_acc: 0.6667\n",
            "Epoch 3/20\n",
            "48/48 [==============================] - 41s 850ms/step - loss: 0.6198 - mae: 0.4305 - acc: 0.6718 - val_loss: 0.5801 - val_mae: 0.4198 - val_acc: 0.7083\n",
            "Epoch 4/20\n",
            "48/48 [==============================] - 41s 856ms/step - loss: 0.5387 - mae: 0.3807 - acc: 0.7005 - val_loss: 0.5821 - val_mae: 0.4199 - val_acc: 0.6875\n",
            "Epoch 5/20\n",
            "48/48 [==============================] - 41s 852ms/step - loss: 0.5513 - mae: 0.3921 - acc: 0.7014 - val_loss: 0.5640 - val_mae: 0.4029 - val_acc: 0.7292\n",
            "Epoch 6/20\n",
            "48/48 [==============================] - 41s 847ms/step - loss: 0.4464 - mae: 0.3279 - acc: 0.7706 - val_loss: 0.5666 - val_mae: 0.4061 - val_acc: 0.6667\n",
            "Epoch 7/20\n",
            "48/48 [==============================] - 41s 853ms/step - loss: 0.3871 - mae: 0.2927 - acc: 0.8722 - val_loss: 0.4980 - val_mae: 0.3615 - val_acc: 0.8125\n",
            "Epoch 8/20\n",
            "48/48 [==============================] - 41s 849ms/step - loss: 0.4531 - mae: 0.3270 - acc: 0.8001 - val_loss: 0.4681 - val_mae: 0.3407 - val_acc: 0.7917\n",
            "Epoch 9/20\n",
            "48/48 [==============================] - 41s 852ms/step - loss: 0.3244 - mae: 0.2500 - acc: 0.8841 - val_loss: 0.4200 - val_mae: 0.3019 - val_acc: 0.8333\n",
            "Epoch 10/20\n",
            "48/48 [==============================] - 43s 901ms/step - loss: 0.2864 - mae: 0.2121 - acc: 0.8822 - val_loss: 0.4584 - val_mae: 0.2927 - val_acc: 0.7708\n",
            "Epoch 11/20\n",
            "48/48 [==============================] - 41s 851ms/step - loss: 0.2660 - mae: 0.1999 - acc: 0.9113 - val_loss: 0.3805 - val_mae: 0.2767 - val_acc: 0.8333\n",
            "Epoch 12/20\n",
            "48/48 [==============================] - 41s 861ms/step - loss: 0.2995 - mae: 0.2129 - acc: 0.8909 - val_loss: 0.5032 - val_mae: 0.3106 - val_acc: 0.7292\n",
            "Epoch 13/20\n",
            "48/48 [==============================] - 41s 849ms/step - loss: 0.2508 - mae: 0.1888 - acc: 0.9107 - val_loss: 0.4149 - val_mae: 0.2698 - val_acc: 0.8333\n",
            "Epoch 14/20\n",
            "48/48 [==============================] - 41s 847ms/step - loss: 0.3386 - mae: 0.2333 - acc: 0.8799 - val_loss: 0.4431 - val_mae: 0.2966 - val_acc: 0.7292\n",
            "Epoch 15/20\n",
            "48/48 [==============================] - 41s 857ms/step - loss: 0.2346 - mae: 0.1753 - acc: 0.9141 - val_loss: 0.3619 - val_mae: 0.2380 - val_acc: 0.8750\n",
            "Epoch 16/20\n",
            "48/48 [==============================] - 41s 850ms/step - loss: 0.2470 - mae: 0.1703 - acc: 0.8834 - val_loss: 0.5530 - val_mae: 0.3130 - val_acc: 0.7292\n",
            "Epoch 17/20\n",
            "48/48 [==============================] - 41s 857ms/step - loss: 0.2622 - mae: 0.1766 - acc: 0.8971 - val_loss: 0.4684 - val_mae: 0.2893 - val_acc: 0.7083\n",
            "Epoch 18/20\n",
            "48/48 [==============================] - 41s 862ms/step - loss: 0.2027 - mae: 0.1481 - acc: 0.9210 - val_loss: 0.4207 - val_mae: 0.2566 - val_acc: 0.7708\n",
            "Epoch 19/20\n",
            "48/48 [==============================] - 42s 869ms/step - loss: 0.2332 - mae: 0.1685 - acc: 0.9169 - val_loss: 0.4160 - val_mae: 0.2499 - val_acc: 0.7917\n",
            "Epoch 20/20\n",
            "48/48 [==============================] - 42s 871ms/step - loss: 0.1967 - mae: 0.1418 - acc: 0.9296 - val_loss: 0.6264 - val_mae: 0.3064 - val_acc: 0.7917\n",
            "15/15 [==============================] - 3s 201ms/step - loss: 0.3290 - mae: 0.1907 - acc: 0.8333\n"
          ],
          "name": "stdout"
        }
      ]
    },
    {
      "cell_type": "code",
      "metadata": {
        "colab": {
          "base_uri": "https://localhost:8080/",
          "height": 590
        },
        "id": "QhyMvbE1Mj5K",
        "outputId": "21cd5908-ac33-4472-ef97-000957710c30"
      },
      "source": [
        "# list all data in history\n",
        "print(history.history.keys())\n",
        "# summarize history for accuracy\n",
        "plt.plot(history.history['acc'])\n",
        "plt.plot(history.history['val_acc'])\n",
        "plt.title('model accuracy')\n",
        "plt.ylabel('accuracy')\n",
        "plt.xlabel('epoch')\n",
        "plt.legend(['train', 'test'], loc='upper left')\n",
        "plt.show()\n",
        "# summarize history for loss\n",
        "plt.plot(history.history['loss'])\n",
        "plt.plot(history.history['val_loss'])\n",
        "plt.title('model loss')\n",
        "plt.ylabel('loss')\n",
        "plt.xlabel('epoch')\n",
        "plt.legend(['train', 'test'], loc='upper left')\n",
        "plt.show()"
      ],
      "execution_count": null,
      "outputs": [
        {
          "output_type": "stream",
          "text": [
            "dict_keys(['loss', 'mae', 'acc', 'val_loss', 'val_mae', 'val_acc'])\n"
          ],
          "name": "stdout"
        },
        {
          "output_type": "display_data",
          "data": {
            "image/png": "[encoded data removed]",
            "text/plain": [
              "<Figure size 432x288 with 1 Axes>"
            ]
          },
          "metadata": {
            "tags": [],
            "needs_background": "light"
          }
        },
        {
          "output_type": "display_data",
          "data": {
            "image/png": "[encoded data removed]",
            "text/plain": [
              "<Figure size 432x288 with 1 Axes>"
            ]
          },
          "metadata": {
            "tags": [],
            "needs_background": "light"
          }
        }
      ]
    },
    {
      "cell_type": "code",
      "metadata": {
        "colab": {
          "base_uri": "https://localhost:8080/"
        },
        "id": "OHC1gdCJMoRQ",
        "outputId": "8229fd2c-3d90-4c92-d5df-2f66f2e137f4"
      },
      "source": [
        "score = model.evaluate(X_test, Y_test, batch_size=batch_size)"
      ],
      "execution_count": null,
      "outputs": [
        {
          "output_type": "stream",
          "text": [
            "15/15 [==============================] - 3s 219ms/step - loss: 0.3290 - mae: 0.1907 - acc: 0.8333\n"
          ],
          "name": "stdout"
        }
      ]
    },
    {
      "cell_type": "code",
      "metadata": {
        "id": "lxb40Ja1Mtao"
      },
      "source": [
        "from tensorflow.keras.layers import Flatten, Dense, Conv1D, MaxPool1D, Dropout"
      ],
      "execution_count": null,
      "outputs": []
    },
    {
      "cell_type": "code",
      "metadata": {
        "colab": {
          "base_uri": "https://localhost:8080/"
        },
        "id": "abbFd2BlMyce",
        "outputId": "45378b23-d1e5-4be5-b0fe-53a39d958b59"
      },
      "source": [
        "import numpy as np\n",
        "X_train = np.array(X_train).reshape(X_train.shape[0], X_train.shape[1], 1)\n",
        "X_test = np.array(X_test).reshape(X_test.shape[0], X_test.shape[1], 1)\n",
        "\n",
        "print(\"Train shape: \", X_train.shape)\n",
        "print(\"Test shape: \", X_test.shape)"
      ],
      "execution_count": null,
      "outputs": [
        {
          "output_type": "stream",
          "text": [
            "Train shape:  (240, 4097, 1)\n",
            "Test shape:  (60, 4097, 1)\n"
          ],
          "name": "stdout"
        }
      ]
    },
    {
      "cell_type": "code",
      "metadata": {
        "id": "aa3KP1yDM3Xf"
      },
      "source": [
        "import tensorflow as tf\n",
        "clf = tf.keras.models.Sequential()"
      ],
      "execution_count": null,
      "outputs": []
    },
    {
      "cell_type": "markdown",
      "source": [
        "# CNN"
      ],
      "metadata": {
        "id": "9FP1x8peQmVH"
      }
    },
    {
      "cell_type": "code",
      "metadata": {
        "id": "6mEo4yi0M7dV"
      },
      "source": [
        "#First CNN layer  with 32 filters, conv window 5, relu activation and same padding\n",
        "clf.add(Conv1D(filters=32, kernel_size=(5,), padding='same', activation=tf.keras.layers.LeakyReLU(alpha=0.001), input_shape = (X_train.shape[1],1)))\n",
        "#Second CNN layer  with 13 filters, conv window 5, relu activation and same padding\n",
        "clf.add(Conv1D(filters=13, kernel_size=(5,), padding='same', activation=tf.keras.layers.LeakyReLU(alpha=0.001)))\n",
        "#Third CNN layer with 64 filters, conv window 5, relu activation and same padding\n",
        "clf.add(Conv1D(filters=128, kernel_size=(5,), padding='same', activation=tf.keras.layers.LeakyReLU(alpha=0.001)))\n",
        "#Fourth CNN layer with Max pooling\n",
        "clf.add(MaxPool1D(pool_size=(5,), strides=2, padding='same'))\n",
        "clf.add(Dropout(0.5))\n",
        "#Flatten the output\n",
        "clf.add(Flatten())\n",
        "#Add a dense layer with 512 neurons\n",
        "clf.add(Dense(units = 512, activation=tf.keras.layers.LeakyReLU(alpha=0.001)))\n",
        "#Add a dense layer with 1024 neurons\n",
        "clf.add(Dense(units = 1024, activation=tf.keras.layers.LeakyReLU(alpha=0.001)))\n",
        "#Softmax as last layer with two outputs\n",
        "clf.add(Dense(units = 2, activation='softmax'))"
      ],
      "execution_count": null,
      "outputs": []
    },
    {
      "cell_type": "code",
      "metadata": {
        "colab": {
          "base_uri": "https://localhost:8080/"
        },
        "id": "kLDI4nFJM_Gy",
        "outputId": "7f0245c1-c545-4f11-c9aa-d7b8fa2ff1e7"
      },
      "source": [
        "clf.compile(optimizer='adam', loss = 'sparse_categorical_crossentropy', metrics=['accuracy'])\n",
        "history = clf.fit(X_train, Y_train, epochs = 20)"
      ],
      "execution_count": null,
      "outputs": [
        {
          "output_type": "stream",
          "text": [
            "Epoch 1/20\n",
            "8/8 [==============================] - 19s 2s/step - loss: 378.7164 - accuracy: 0.5750\n",
            "Epoch 2/20\n",
            "8/8 [==============================] - 14s 2s/step - loss: 78.9943 - accuracy: 0.6750\n",
            "Epoch 3/20\n",
            "8/8 [==============================] - 14s 2s/step - loss: 41.4340 - accuracy: 0.6500\n",
            "Epoch 4/20\n",
            "8/8 [==============================] - 15s 2s/step - loss: 29.4388 - accuracy: 0.6667\n",
            "Epoch 5/20\n",
            "8/8 [==============================] - 14s 2s/step - loss: 7.7850 - accuracy: 0.6625\n",
            "Epoch 6/20\n",
            "8/8 [==============================] - 15s 2s/step - loss: 1.1913 - accuracy: 0.6250\n",
            "Epoch 7/20\n",
            "8/8 [==============================] - 14s 2s/step - loss: 0.5267 - accuracy: 0.7333\n",
            "Epoch 8/20\n",
            "8/8 [==============================] - 14s 2s/step - loss: 0.3851 - accuracy: 0.8042\n",
            "Epoch 9/20\n",
            "8/8 [==============================] - 14s 2s/step - loss: 0.3343 - accuracy: 0.8625\n",
            "Epoch 10/20\n",
            "8/8 [==============================] - 14s 2s/step - loss: 0.2615 - accuracy: 0.8958\n",
            "Epoch 11/20\n",
            "8/8 [==============================] - 14s 2s/step - loss: 0.1949 - accuracy: 0.9417\n",
            "Epoch 12/20\n",
            "8/8 [==============================] - 14s 2s/step - loss: 0.1142 - accuracy: 0.9708\n",
            "Epoch 13/20\n",
            "8/8 [==============================] - 14s 2s/step - loss: 0.0701 - accuracy: 0.9750\n",
            "Epoch 14/20\n",
            "8/8 [==============================] - 15s 2s/step - loss: 0.0486 - accuracy: 0.9875\n",
            "Epoch 15/20\n",
            "8/8 [==============================] - 14s 2s/step - loss: 0.0334 - accuracy: 0.9875\n",
            "Epoch 16/20\n",
            "8/8 [==============================] - 14s 2s/step - loss: 0.0242 - accuracy: 0.9917\n",
            "Epoch 17/20\n",
            "8/8 [==============================] - 14s 2s/step - loss: 0.0199 - accuracy: 0.9958\n",
            "Epoch 18/20\n",
            "8/8 [==============================] - 14s 2s/step - loss: 0.0192 - accuracy: 0.9917\n",
            "Epoch 19/20\n",
            "8/8 [==============================] - 14s 2s/step - loss: 0.0157 - accuracy: 0.9958\n",
            "Epoch 20/20\n",
            "8/8 [==============================] - 14s 2s/step - loss: 0.0136 - accuracy: 0.9958\n"
          ],
          "name": "stdout"
        }
      ]
    },
    {
      "cell_type": "code",
      "metadata": {
        "colab": {
          "base_uri": "https://localhost:8080/"
        },
        "id": "zDPNKT45NEFd",
        "outputId": "1e8a2bf0-265c-4320-f997-5b4a36a25019"
      },
      "source": [
        "score = clf.evaluate(X_test, Y_test)"
      ],
      "execution_count": null,
      "outputs": [
        {
          "output_type": "stream",
          "text": [
            "2/2 [==============================] - 1s 313ms/step - loss: 0.1497 - accuracy: 0.9333\n"
          ],
          "name": "stdout"
        }
      ]
    },
    {
      "cell_type": "code",
      "metadata": {
        "id": "D2pbE790OUpd"
      },
      "source": [
        "model = tf.keras.models.Sequential()"
      ],
      "execution_count": null,
      "outputs": []
    },
    {
      "cell_type": "code",
      "metadata": {
        "id": "gBrwDyIgOY6d"
      },
      "source": [
        "model.add(Conv1D(filters=32, kernel_size=(5,), padding='same', activation=tf.keras.layers.LeakyReLU(alpha=0.001), input_shape = (X_train.shape[1],1)))\n",
        "#Second CNN layer  with 13 filters, conv window 5, relu activation and same padding\n",
        "model.add(Conv1D(filters=13, kernel_size=(5,), padding='same', activation=tf.keras.layers.LeakyReLU(alpha=0.001)))\n",
        "#Third CNN layer with 64 filters, conv window 5, relu activation and same padding\n",
        "model.add(Conv1D(filters=128, kernel_size=(5,), padding='same', activation=tf.keras.layers.LeakyReLU(alpha=0.001)))\n",
        "#Fourth CNN layer with Max pooling\n",
        "model.add(MaxPool1D(pool_size=(5,), strides=2, padding='same'))\n",
        "model.add(Dropout(0.5))\n",
        "#Flatten the output\n",
        "model.add(Flatten())\n",
        "#Add a dense layer with 512 neurons\n",
        "model.add(Dense(units = 16, activation=tf.keras.layers.LeakyReLU(alpha=0.001)))\n",
        "#Add a dense layer with 1024 neurons\n",
        "model.add(Dense(units = 32, activation=tf.keras.layers.LeakyReLU(alpha=0.001)))\n",
        "#Softmax as last layer with two outputs\n",
        "model.add(Dense(units = 2, activation='softmax'))"
      ],
      "execution_count": null,
      "outputs": []
    },
    {
      "cell_type": "code",
      "metadata": {
        "colab": {
          "base_uri": "https://localhost:8080/"
        },
        "id": "ApE25EwMOcb2",
        "outputId": "335cf4ee-647d-493a-b4cf-d4e461c55507"
      },
      "source": [
        "model.compile(optimizer='adam', loss = 'sparse_categorical_crossentropy', metrics=['accuracy'])\n",
        "history1 = model.fit(X_train, Y_train, epochs = 20)"
      ],
      "execution_count": null,
      "outputs": [
        {
          "output_type": "stream",
          "text": [
            "Epoch 1/20\n",
            "8/8 [==============================] - 7s 755ms/step - loss: 39.0325 - accuracy: 0.6042\n",
            "Epoch 2/20\n",
            "8/8 [==============================] - 6s 745ms/step - loss: 13.6734 - accuracy: 0.6292\n",
            "Epoch 3/20\n",
            "8/8 [==============================] - 6s 749ms/step - loss: 1.0012 - accuracy: 0.5250\n",
            "Epoch 4/20\n",
            "8/8 [==============================] - 6s 740ms/step - loss: 0.6920 - accuracy: 0.6250\n",
            "Epoch 5/20\n",
            "8/8 [==============================] - 6s 747ms/step - loss: 0.6554 - accuracy: 0.6875\n",
            "Epoch 6/20\n",
            "8/8 [==============================] - 6s 750ms/step - loss: 1.1705 - accuracy: 0.6125\n",
            "Epoch 7/20\n",
            "8/8 [==============================] - 6s 741ms/step - loss: 0.8851 - accuracy: 0.6667\n",
            "Epoch 8/20\n",
            "8/8 [==============================] - 6s 744ms/step - loss: 0.5421 - accuracy: 0.6583\n",
            "Epoch 9/20\n",
            "8/8 [==============================] - 6s 736ms/step - loss: 0.4950 - accuracy: 0.7042\n",
            "Epoch 10/20\n",
            "8/8 [==============================] - 6s 743ms/step - loss: 0.4676 - accuracy: 0.7167\n",
            "Epoch 11/20\n",
            "8/8 [==============================] - 6s 747ms/step - loss: 0.4326 - accuracy: 0.8000\n",
            "Epoch 12/20\n",
            "8/8 [==============================] - 6s 744ms/step - loss: 0.4138 - accuracy: 0.8250\n",
            "Epoch 13/20\n",
            "8/8 [==============================] - 6s 759ms/step - loss: 0.3964 - accuracy: 0.8417\n",
            "Epoch 14/20\n",
            "8/8 [==============================] - 6s 743ms/step - loss: 0.3809 - accuracy: 0.8667\n",
            "Epoch 15/20\n",
            "8/8 [==============================] - 6s 748ms/step - loss: 0.3540 - accuracy: 0.8833\n",
            "Epoch 16/20\n",
            "8/8 [==============================] - 6s 756ms/step - loss: 0.3398 - accuracy: 0.9250\n",
            "Epoch 17/20\n",
            "8/8 [==============================] - 6s 748ms/step - loss: 0.3192 - accuracy: 0.9167\n",
            "Epoch 18/20\n",
            "8/8 [==============================] - 6s 753ms/step - loss: 0.2993 - accuracy: 0.9208\n",
            "Epoch 19/20\n",
            "8/8 [==============================] - 6s 744ms/step - loss: 0.2690 - accuracy: 0.9458\n",
            "Epoch 20/20\n",
            "8/8 [==============================] - 6s 751ms/step - loss: 0.2403 - accuracy: 0.9375\n"
          ],
          "name": "stdout"
        }
      ]
    },
    {
      "cell_type": "code",
      "metadata": {
        "colab": {
          "base_uri": "https://localhost:8080/"
        },
        "id": "mXyLmCKtO0Al",
        "outputId": "4f512626-f9d3-43d0-9df5-6fe4da08b31d"
      },
      "source": [
        "score = model.evaluate(X_test, Y_test)"
      ],
      "execution_count": null,
      "outputs": [
        {
          "output_type": "stream",
          "text": [
            "2/2 [==============================] - 0s 130ms/step - loss: 0.3077 - accuracy: 0.9000\n"
          ],
          "name": "stdout"
        }
      ]
    },
    {
      "cell_type": "code",
      "metadata": {
        "id": "cROAAvTxPXxL"
      },
      "source": [
        "cnn = tf.keras.models.Sequential()"
      ],
      "execution_count": null,
      "outputs": []
    },
    {
      "cell_type": "markdown",
      "source": [
        "# Proposed Model"
      ],
      "metadata": {
        "id": "pr5c0Sc4Qpir"
      }
    },
    {
      "cell_type": "code",
      "metadata": {
        "id": "TXccECjMPj7g"
      },
      "source": [
        "#First CNN layer  with 32 filters, conv window 5, relu activation and same padding\n",
        "cnn.add(Conv1D(filters=32, kernel_size=(5,), padding='same', activation=tf.keras.layers.LeakyReLU(alpha=0.001), input_shape = (X_train.shape[1],1)))\n",
        "cnn.add(MaxPool1D(pool_size=(5,), strides=2, padding='same'))\n",
        "cnn.add(Dropout(0.5))\n",
        "#Second CNN layer  with 13 filters, conv window 5, relu activation and same padding\n",
        "cnn.add(Conv1D(filters=13, kernel_size=(5,), padding='same', activation=tf.keras.layers.LeakyReLU(alpha=0.001)))\n",
        "cnn.add(MaxPool1D(pool_size=(5,), strides=2, padding='same'))\n",
        "cnn.add(Dropout(0.5))\n",
        "#Third CNN layer with 64 filters, conv window 5, relu activation and same padding\n",
        "cnn.add(Conv1D(filters=128, kernel_size=(5,), padding='same', activation=tf.keras.layers.LeakyReLU(alpha=0.001)))\n",
        "#Fourth CNN layer with Max pooling\n",
        "cnn.add(MaxPool1D(pool_size=(5,), strides=2, padding='same'))\n",
        "cnn.add(Dropout(0.5))\n",
        "#Flatten the output\n",
        "cnn.add(Flatten())\n",
        "#Add a dense layer with 512 neurons\n",
        "cnn.add(Dense(units = 512, activation=tf.keras.layers.LeakyReLU(alpha=0.001)))\n",
        "cnn.add(Dropout(0.5))\n",
        "#Add a dense layer with 1024 neurons\n",
        "cnn.add(Dense(units = 1024, activation=tf.keras.layers.LeakyReLU(alpha=0.001)))\n",
        "cnn.add(Dropout(0.5))\n",
        "#Softmax as last layer with two outputs\n",
        "cnn.add(Dense(units = 2, activation='softmax'))"
      ],
      "execution_count": null,
      "outputs": []
    },
    {
      "cell_type": "code",
      "metadata": {
        "colab": {
          "base_uri": "https://localhost:8080/"
        },
        "id": "7_XmoAcLPluU",
        "outputId": "c276b30b-60cc-4e95-adfe-5bdd79eaf294"
      },
      "source": [
        "cnn.compile(optimizer='adam', loss = 'sparse_categorical_crossentropy', metrics=['accuracy'])\n",
        "history1 = cnn.fit(X_train, Y_train, epochs = 50)"
      ],
      "execution_count": null,
      "outputs": [
        {
          "output_type": "stream",
          "text": [
            "Epoch 1/50\n",
            "8/8 [==============================] - 6s 636ms/step - loss: 822.2147 - accuracy: 0.5667\n",
            "Epoch 2/50\n",
            "8/8 [==============================] - 5s 626ms/step - loss: 236.0581 - accuracy: 0.6292\n",
            "Epoch 3/50\n",
            "8/8 [==============================] - 5s 622ms/step - loss: 155.0648 - accuracy: 0.6417\n",
            "Epoch 4/50\n",
            "8/8 [==============================] - 5s 614ms/step - loss: 104.4076 - accuracy: 0.5875\n",
            "Epoch 5/50\n",
            "8/8 [==============================] - 5s 615ms/step - loss: 62.7823 - accuracy: 0.6625\n",
            "Epoch 6/50\n",
            "8/8 [==============================] - 5s 623ms/step - loss: 31.2869 - accuracy: 0.5750\n",
            "Epoch 7/50\n",
            "8/8 [==============================] - 5s 628ms/step - loss: 15.2068 - accuracy: 0.6542\n",
            "Epoch 8/50\n",
            "8/8 [==============================] - 5s 619ms/step - loss: 12.8820 - accuracy: 0.6125\n",
            "Epoch 9/50\n",
            "8/8 [==============================] - 5s 626ms/step - loss: 7.4888 - accuracy: 0.6042\n",
            "Epoch 10/50\n",
            "8/8 [==============================] - 5s 628ms/step - loss: 5.8654 - accuracy: 0.6708\n",
            "Epoch 11/50\n",
            "8/8 [==============================] - 5s 629ms/step - loss: 3.1759 - accuracy: 0.7042\n",
            "Epoch 12/50\n",
            "8/8 [==============================] - 5s 621ms/step - loss: 3.3102 - accuracy: 0.6292\n",
            "Epoch 13/50\n",
            "8/8 [==============================] - 5s 632ms/step - loss: 2.5329 - accuracy: 0.6792\n",
            "Epoch 14/50\n",
            "8/8 [==============================] - 5s 633ms/step - loss: 1.4365 - accuracy: 0.7000\n",
            "Epoch 15/50\n",
            "8/8 [==============================] - 5s 623ms/step - loss: 0.9332 - accuracy: 0.7167\n",
            "Epoch 16/50\n",
            "8/8 [==============================] - 5s 619ms/step - loss: 0.7162 - accuracy: 0.6958\n",
            "Epoch 17/50\n",
            "8/8 [==============================] - 5s 638ms/step - loss: 0.6689 - accuracy: 0.7083\n",
            "Epoch 18/50\n",
            "8/8 [==============================] - 5s 640ms/step - loss: 0.5889 - accuracy: 0.7500\n",
            "Epoch 19/50\n",
            "8/8 [==============================] - 5s 623ms/step - loss: 0.6020 - accuracy: 0.7708\n",
            "Epoch 20/50\n",
            "8/8 [==============================] - 5s 642ms/step - loss: 0.6295 - accuracy: 0.7542\n",
            "Epoch 21/50\n",
            "8/8 [==============================] - 5s 634ms/step - loss: 0.4723 - accuracy: 0.7667\n",
            "Epoch 22/50\n",
            "8/8 [==============================] - 5s 617ms/step - loss: 0.5084 - accuracy: 0.7417\n",
            "Epoch 23/50\n",
            "8/8 [==============================] - 5s 624ms/step - loss: 0.4652 - accuracy: 0.8000\n",
            "Epoch 24/50\n",
            "8/8 [==============================] - 5s 622ms/step - loss: 0.4030 - accuracy: 0.8167\n",
            "Epoch 25/50\n",
            "8/8 [==============================] - 5s 627ms/step - loss: 0.4331 - accuracy: 0.7458\n",
            "Epoch 26/50\n",
            "8/8 [==============================] - 5s 644ms/step - loss: 0.4124 - accuracy: 0.7792\n",
            "Epoch 27/50\n",
            "8/8 [==============================] - 5s 630ms/step - loss: 0.3852 - accuracy: 0.8167\n",
            "Epoch 28/50\n",
            "8/8 [==============================] - 5s 624ms/step - loss: 0.4386 - accuracy: 0.8000\n",
            "Epoch 29/50\n",
            "8/8 [==============================] - 5s 636ms/step - loss: 0.4298 - accuracy: 0.8125\n",
            "Epoch 30/50\n",
            "8/8 [==============================] - 5s 631ms/step - loss: 0.5803 - accuracy: 0.8125\n",
            "Epoch 31/50\n",
            "8/8 [==============================] - 5s 624ms/step - loss: 0.3414 - accuracy: 0.8333\n",
            "Epoch 32/50\n",
            "8/8 [==============================] - 5s 625ms/step - loss: 0.3642 - accuracy: 0.8042\n",
            "Epoch 33/50\n",
            "8/8 [==============================] - 5s 629ms/step - loss: 0.4319 - accuracy: 0.8458\n",
            "Epoch 34/50\n",
            "8/8 [==============================] - 5s 620ms/step - loss: 0.3592 - accuracy: 0.7917\n",
            "Epoch 35/50\n",
            "8/8 [==============================] - 5s 622ms/step - loss: 0.3797 - accuracy: 0.8500\n",
            "Epoch 36/50\n",
            "8/8 [==============================] - 5s 627ms/step - loss: 0.3607 - accuracy: 0.8250\n",
            "Epoch 37/50\n",
            "8/8 [==============================] - 5s 629ms/step - loss: 0.3470 - accuracy: 0.8458\n",
            "Epoch 38/50\n",
            "8/8 [==============================] - 5s 625ms/step - loss: 0.3916 - accuracy: 0.8375\n",
            "Epoch 39/50\n",
            "8/8 [==============================] - 5s 636ms/step - loss: 0.3920 - accuracy: 0.8000\n",
            "Epoch 40/50\n",
            "8/8 [==============================] - 5s 619ms/step - loss: 0.3531 - accuracy: 0.8417\n",
            "Epoch 41/50\n",
            "8/8 [==============================] - 5s 636ms/step - loss: 0.4052 - accuracy: 0.8417\n",
            "Epoch 42/50\n",
            "8/8 [==============================] - 5s 630ms/step - loss: 0.3574 - accuracy: 0.8500\n",
            "Epoch 43/50\n",
            "8/8 [==============================] - 5s 628ms/step - loss: 0.3387 - accuracy: 0.8542\n",
            "Epoch 44/50\n",
            "8/8 [==============================] - 5s 634ms/step - loss: 0.3170 - accuracy: 0.8792\n",
            "Epoch 45/50\n",
            "8/8 [==============================] - 5s 633ms/step - loss: 0.3504 - accuracy: 0.8583\n",
            "Epoch 46/50\n",
            "8/8 [==============================] - 5s 625ms/step - loss: 0.3335 - accuracy: 0.8542\n",
            "Epoch 47/50\n",
            "8/8 [==============================] - 5s 624ms/step - loss: 0.2773 - accuracy: 0.8750\n",
            "Epoch 48/50\n",
            "8/8 [==============================] - 5s 621ms/step - loss: 0.3287 - accuracy: 0.8708\n",
            "Epoch 49/50\n",
            "8/8 [==============================] - 5s 621ms/step - loss: 0.3363 - accuracy: 0.8542\n",
            "Epoch 50/50\n",
            "8/8 [==============================] - 5s 614ms/step - loss: 0.3490 - accuracy: 0.8250\n"
          ],
          "name": "stdout"
        }
      ]
    },
    {
      "cell_type": "code",
      "metadata": {
        "colab": {
          "base_uri": "https://localhost:8080/"
        },
        "id": "BlszbzX9PtfS",
        "outputId": "8b775abb-a424-4c7e-e585-ba03119a4c57"
      },
      "source": [
        "score = cnn.evaluate(X_test, Y_test)"
      ],
      "execution_count": null,
      "outputs": [
        {
          "output_type": "stream",
          "text": [
            "2/2 [==============================] - 0s 117ms/step - loss: 11.1058 - accuracy: 0.5667\n"
          ],
          "name": "stdout"
        }
      ]
    },
    {
      "cell_type": "markdown",
      "source": [
        "# ANN Model"
      ],
      "metadata": {
        "id": "fb0osYfdQt1E"
      }
    },
    {
      "cell_type": "code",
      "metadata": {
        "id": "DrNAhXw1P0DL"
      },
      "source": [
        "ann = tf.keras.models.Sequential()\n",
        "ann.add(tf.keras.layers.Dense(units = 6, activation = 'relu'))\n",
        "ann.add(tf.keras.layers.Dense(units = 6, activation = 'relu'))\n",
        "ann.add(tf.keras.layers.Dense(units = 1))"
      ],
      "execution_count": null,
      "outputs": []
    },
    {
      "cell_type": "code",
      "metadata": {
        "colab": {
          "base_uri": "https://localhost:8080/"
        },
        "id": "xQMp9dtsP819",
        "outputId": "edecd0cd-277e-47a0-c54f-bb8de947d95d"
      },
      "source": [
        "ann.compile(optimizer='adam', loss = 'sparse_categorical_crossentropy', metrics=['accuracy'])\n",
        "history2 = ann.fit(X_train, Y_train, epochs = 50)"
      ],
      "execution_count": null,
      "outputs": [
        {
          "output_type": "stream",
          "text": [
            "Epoch 1/50\n",
            "8/8 [==============================] - 1s 26ms/step - loss: 8.3180 - accuracy: 0.3333\n",
            "Epoch 2/50\n",
            "8/8 [==============================] - 0s 28ms/step - loss: 8.3180 - accuracy: 0.3333\n",
            "Epoch 3/50\n",
            "8/8 [==============================] - 0s 25ms/step - loss: 8.3180 - accuracy: 0.3333\n",
            "Epoch 4/50\n",
            "8/8 [==============================] - 0s 26ms/step - loss: 8.3180 - accuracy: 0.3333\n",
            "Epoch 5/50\n",
            "8/8 [==============================] - 0s 27ms/step - loss: 8.3180 - accuracy: 0.3333\n",
            "Epoch 6/50\n",
            "8/8 [==============================] - 0s 25ms/step - loss: 8.3180 - accuracy: 0.3333\n",
            "Epoch 7/50\n",
            "8/8 [==============================] - 0s 25ms/step - loss: 8.3180 - accuracy: 0.3333\n",
            "Epoch 8/50\n",
            "8/8 [==============================] - 0s 26ms/step - loss: 8.3180 - accuracy: 0.3333\n",
            "Epoch 9/50\n",
            "8/8 [==============================] - 0s 26ms/step - loss: 8.3180 - accuracy: 0.3333\n",
            "Epoch 10/50\n",
            "8/8 [==============================] - 0s 25ms/step - loss: 8.3180 - accuracy: 0.3333\n",
            "Epoch 11/50\n",
            "8/8 [==============================] - 0s 24ms/step - loss: 8.3180 - accuracy: 0.3333\n",
            "Epoch 12/50\n",
            "8/8 [==============================] - 0s 27ms/step - loss: 8.3180 - accuracy: 0.3333\n",
            "Epoch 13/50\n",
            "8/8 [==============================] - 0s 24ms/step - loss: 8.3180 - accuracy: 0.3333\n",
            "Epoch 14/50\n",
            "8/8 [==============================] - 0s 24ms/step - loss: 8.3180 - accuracy: 0.3333\n",
            "Epoch 15/50\n",
            "8/8 [==============================] - 0s 26ms/step - loss: 8.3180 - accuracy: 0.3333\n",
            "Epoch 16/50\n",
            "8/8 [==============================] - 0s 25ms/step - loss: 8.3180 - accuracy: 0.3333\n",
            "Epoch 17/50\n",
            "8/8 [==============================] - 0s 23ms/step - loss: 8.3180 - accuracy: 0.3333\n",
            "Epoch 18/50\n",
            "8/8 [==============================] - 0s 24ms/step - loss: 8.3180 - accuracy: 0.3333\n",
            "Epoch 19/50\n",
            "8/8 [==============================] - 0s 24ms/step - loss: 8.3180 - accuracy: 0.3333\n",
            "Epoch 20/50\n",
            "8/8 [==============================] - 0s 26ms/step - loss: 8.3180 - accuracy: 0.3333\n",
            "Epoch 21/50\n",
            "8/8 [==============================] - 0s 24ms/step - loss: 8.3180 - accuracy: 0.3333\n",
            "Epoch 22/50\n",
            "8/8 [==============================] - 0s 26ms/step - loss: 8.3180 - accuracy: 0.3333\n",
            "Epoch 23/50\n",
            "8/8 [==============================] - 0s 25ms/step - loss: 8.3180 - accuracy: 0.3333\n",
            "Epoch 24/50\n",
            "8/8 [==============================] - 0s 25ms/step - loss: 8.3180 - accuracy: 0.3333\n",
            "Epoch 25/50\n",
            "8/8 [==============================] - 0s 24ms/step - loss: 8.3180 - accuracy: 0.3333\n",
            "Epoch 26/50\n",
            "8/8 [==============================] - 0s 24ms/step - loss: 8.3180 - accuracy: 0.3333\n",
            "Epoch 27/50\n",
            "8/8 [==============================] - 0s 27ms/step - loss: 8.3180 - accuracy: 0.3333\n",
            "Epoch 28/50\n",
            "8/8 [==============================] - 0s 25ms/step - loss: 8.3180 - accuracy: 0.3333\n",
            "Epoch 29/50\n",
            "8/8 [==============================] - 0s 25ms/step - loss: 8.3180 - accuracy: 0.3333\n",
            "Epoch 30/50\n",
            "8/8 [==============================] - 0s 25ms/step - loss: 8.3180 - accuracy: 0.3333\n",
            "Epoch 31/50\n",
            "8/8 [==============================] - 0s 25ms/step - loss: 8.3180 - accuracy: 0.3333\n",
            "Epoch 32/50\n",
            "8/8 [==============================] - 0s 25ms/step - loss: 8.3180 - accuracy: 0.3333\n",
            "Epoch 33/50\n",
            "8/8 [==============================] - 0s 25ms/step - loss: 8.3180 - accuracy: 0.3333\n",
            "Epoch 34/50\n",
            "8/8 [==============================] - 0s 28ms/step - loss: 8.3180 - accuracy: 0.3333\n",
            "Epoch 35/50\n",
            "8/8 [==============================] - 0s 25ms/step - loss: 8.3180 - accuracy: 0.3333\n",
            "Epoch 36/50\n",
            "8/8 [==============================] - 0s 25ms/step - loss: 8.3180 - accuracy: 0.3333\n",
            "Epoch 37/50\n",
            "8/8 [==============================] - 0s 24ms/step - loss: 8.3180 - accuracy: 0.3333\n",
            "Epoch 38/50\n",
            "8/8 [==============================] - 0s 25ms/step - loss: 8.3180 - accuracy: 0.3333\n",
            "Epoch 39/50\n",
            "8/8 [==============================] - 0s 28ms/step - loss: 8.3180 - accuracy: 0.3333\n",
            "Epoch 40/50\n",
            "8/8 [==============================] - 0s 24ms/step - loss: 8.3180 - accuracy: 0.3333\n",
            "Epoch 41/50\n",
            "8/8 [==============================] - 0s 25ms/step - loss: 8.3180 - accuracy: 0.3333\n",
            "Epoch 42/50\n",
            "8/8 [==============================] - 0s 27ms/step - loss: 8.3180 - accuracy: 0.3333\n",
            "Epoch 43/50\n",
            "8/8 [==============================] - 0s 24ms/step - loss: 8.3180 - accuracy: 0.3333\n",
            "Epoch 44/50\n",
            "8/8 [==============================] - 0s 27ms/step - loss: 8.3180 - accuracy: 0.3333\n",
            "Epoch 45/50\n",
            "8/8 [==============================] - 0s 25ms/step - loss: 8.3180 - accuracy: 0.3333\n",
            "Epoch 46/50\n",
            "8/8 [==============================] - 0s 25ms/step - loss: 8.3180 - accuracy: 0.3333\n",
            "Epoch 47/50\n",
            "8/8 [==============================] - 0s 26ms/step - loss: 8.3180 - accuracy: 0.3333\n",
            "Epoch 48/50\n",
            "8/8 [==============================] - 0s 27ms/step - loss: 8.3180 - accuracy: 0.3333\n",
            "Epoch 49/50\n",
            "8/8 [==============================] - 0s 26ms/step - loss: 8.3180 - accuracy: 0.3333\n",
            "Epoch 50/50\n",
            "8/8 [==============================] - 0s 27ms/step - loss: 8.3180 - accuracy: 0.3333\n"
          ],
          "name": "stdout"
        }
      ]
    },
    {
      "cell_type": "code",
      "metadata": {
        "colab": {
          "base_uri": "https://localhost:8080/"
        },
        "id": "dgMZpqZtQHrr",
        "outputId": "9df70bfa-65d5-4fc3-897b-82d79fa238a4"
      },
      "source": [
        "score = ann.evaluate(X_test, Y_test)"
      ],
      "execution_count": null,
      "outputs": [
        {
          "output_type": "stream",
          "text": [
            "2/2 [==============================] - 0s 15ms/step - loss: 8.3180 - accuracy: 0.3333\n"
          ],
          "name": "stdout"
        }
      ]
    }
  ]
}