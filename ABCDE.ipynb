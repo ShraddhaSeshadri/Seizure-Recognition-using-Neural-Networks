{
  "cells": [
    {
      "cell_type": "code",
      "execution_count": null,
      "metadata": {
        "colab": {
          "base_uri": "https://localhost:8080/"
        },
        "id": "enSfqZZiVTbM",
        "outputId": "992b22c7-b416-4bcd-8608-c6e24ef871c8"
      },
      "outputs": [
        {
          "name": "stdout",
          "output_type": "stream",
          "text": [
            "Archive:  Z.zip\n",
            "  inflating: Set A/Z092.txt          \n",
            "  inflating: Set A/Z002.txt          \n",
            "  inflating: Set A/Z003.txt          \n",
            "  inflating: Set A/Z004.txt          \n",
            "  inflating: Set A/Z005.txt          \n",
            "  inflating: Set A/Z006.txt          \n",
            "  inflating: Set A/Z007.txt          \n",
            "  inflating: Set A/Z008.txt          \n",
            "  inflating: Set A/Z009.txt          \n",
            "  inflating: Set A/Z010.txt          \n",
            "  inflating: Set A/Z011.txt          \n",
            "  inflating: Set A/Z012.txt          \n",
            "  inflating: Set A/Z013.txt          \n",
            "  inflating: Set A/Z014.txt          \n",
            "  inflating: Set A/Z015.txt          \n",
            "  inflating: Set A/Z016.txt          \n",
            "  inflating: Set A/Z017.txt          \n",
            "  inflating: Set A/Z018.txt          \n",
            "  inflating: Set A/Z019.txt          \n",
            "  inflating: Set A/Z020.txt          \n",
            "  inflating: Set A/Z021.txt          \n",
            "  inflating: Set A/Z022.txt          \n",
            "  inflating: Set A/Z023.txt          \n",
            "  inflating: Set A/Z024.txt          \n",
            "  inflating: Set A/Z025.txt          \n",
            "  inflating: Set A/Z026.txt          \n",
            "  inflating: Set A/Z027.txt          \n",
            "  inflating: Set A/Z028.txt          \n",
            "  inflating: Set A/Z029.txt          \n",
            "  inflating: Set A/Z030.txt          \n",
            "  inflating: Set A/Z031.txt          \n",
            "  inflating: Set A/Z032.txt          \n",
            "  inflating: Set A/Z033.txt          \n",
            "  inflating: Set A/Z034.txt          \n",
            "  inflating: Set A/Z035.txt          \n",
            "  inflating: Set A/Z036.txt          \n",
            "  inflating: Set A/Z037.txt          \n",
            "  inflating: Set A/Z038.txt          \n",
            "  inflating: Set A/Z039.txt          \n",
            "  inflating: Set A/Z040.txt          \n",
            "  inflating: Set A/Z041.txt          \n",
            "  inflating: Set A/Z042.txt          \n",
            "  inflating: Set A/Z043.txt          \n",
            "  inflating: Set A/Z044.txt          \n",
            "  inflating: Set A/Z045.txt          \n",
            "  inflating: Set A/Z046.txt          \n",
            "  inflating: Set A/Z047.txt          \n",
            "  inflating: Set A/Z048.txt          \n",
            "  inflating: Set A/Z049.txt          \n",
            "  inflating: Set A/Z050.txt          \n",
            "  inflating: Set A/Z051.txt          \n",
            "  inflating: Set A/Z052.txt          \n",
            "  inflating: Set A/Z053.txt          \n",
            "  inflating: Set A/Z054.txt          \n",
            "  inflating: Set A/Z055.txt          \n",
            "  inflating: Set A/Z056.txt          \n",
            "  inflating: Set A/Z057.txt          \n",
            "  inflating: Set A/Z058.txt          \n",
            "  inflating: Set A/Z059.txt          \n",
            "  inflating: Set A/Z060.txt          \n",
            "  inflating: Set A/Z061.txt          \n",
            "  inflating: Set A/Z062.txt          \n",
            "  inflating: Set A/Z063.txt          \n",
            "  inflating: Set A/Z064.txt          \n",
            "  inflating: Set A/Z065.txt          \n",
            "  inflating: Set A/Z066.txt          \n",
            "  inflating: Set A/Z067.txt          \n",
            "  inflating: Set A/Z068.txt          \n",
            "  inflating: Set A/Z069.txt          \n",
            "  inflating: Set A/Z070.txt          \n",
            "  inflating: Set A/Z071.txt          \n",
            "  inflating: Set A/Z072.txt          \n",
            "  inflating: Set A/Z073.txt          \n",
            "  inflating: Set A/Z074.txt          \n",
            "  inflating: Set A/Z075.txt          \n",
            "  inflating: Set A/Z076.txt          \n",
            "  inflating: Set A/Z077.txt          \n",
            "  inflating: Set A/Z078.txt          \n",
            "  inflating: Set A/Z079.txt          \n",
            "  inflating: Set A/Z080.txt          \n",
            "  inflating: Set A/Z081.txt          \n",
            "  inflating: Set A/Z082.txt          \n",
            "  inflating: Set A/Z083.txt          \n",
            "  inflating: Set A/Z084.txt          \n",
            "  inflating: Set A/Z085.txt          \n",
            "  inflating: Set A/Z086.txt          \n",
            "  inflating: Set A/Z087.txt          \n",
            "  inflating: Set A/Z088.txt          \n",
            "  inflating: Set A/Z089.txt          \n",
            "  inflating: Set A/Z090.txt          \n",
            "  inflating: Set A/Z091.txt          \n",
            "  inflating: Set A/Z001.txt          \n",
            "  inflating: Set A/Z093.txt          \n",
            "  inflating: Set A/Z094.txt          \n",
            "  inflating: Set A/Z095.txt          \n",
            "  inflating: Set A/Z096.txt          \n",
            "  inflating: Set A/Z097.txt          \n",
            "  inflating: Set A/Z098.txt          \n",
            "  inflating: Set A/Z099.txt          \n",
            "  inflating: Set A/Z100.txt          \n",
            "Archive:  O.zip\n",
            "  inflating: Set B/O099.txt          \n",
            "  inflating: Set B/O100.txt          \n",
            "  inflating: Set B/O098.txt          \n",
            "  inflating: Set B/O097.txt          \n",
            "  inflating: Set B/O096.txt          \n",
            "  inflating: Set B/O095.txt          \n",
            "  inflating: Set B/O094.txt          \n",
            "  inflating: Set B/O093.txt          \n",
            "  inflating: Set B/O092.txt          \n",
            "  inflating: Set B/O091.txt          \n",
            "  inflating: Set B/O090.txt          \n",
            "  inflating: Set B/O089.txt          \n",
            "  inflating: Set B/O088.txt          \n",
            "  inflating: Set B/O087.txt          \n",
            "  inflating: Set B/O086.txt          \n",
            "  inflating: Set B/O085.txt          \n",
            "  inflating: Set B/O084.txt          \n",
            "  inflating: Set B/O083.txt          \n",
            "  inflating: Set B/O082.txt          \n",
            "  inflating: Set B/O081.txt          \n",
            "  inflating: Set B/O080.txt          \n",
            "  inflating: Set B/O079.txt          \n",
            "  inflating: Set B/O078.txt          \n",
            "  inflating: Set B/O077.txt          \n",
            "  inflating: Set B/O076.txt          \n",
            "  inflating: Set B/O075.txt          \n",
            "  inflating: Set B/O074.txt          \n",
            "  inflating: Set B/O073.txt          \n",
            "  inflating: Set B/O072.txt          \n",
            "  inflating: Set B/O071.txt          \n",
            "  inflating: Set B/O070.txt          \n",
            "  inflating: Set B/O069.txt          \n",
            "  inflating: Set B/O068.txt          \n",
            "  inflating: Set B/O067.txt          \n",
            "  inflating: Set B/O066.txt          \n",
            "  inflating: Set B/O065.txt          \n",
            "  inflating: Set B/O064.txt          \n",
            "  inflating: Set B/O063.txt          \n",
            "  inflating: Set B/O062.txt          \n",
            "  inflating: Set B/O061.txt          \n",
            "  inflating: Set B/O060.txt          \n",
            "  inflating: Set B/O059.txt          \n",
            "  inflating: Set B/O058.txt          \n",
            "  inflating: Set B/O057.txt          \n",
            "  inflating: Set B/O056.txt          \n",
            "  inflating: Set B/O055.txt          \n",
            "  inflating: Set B/O054.txt          \n",
            "  inflating: Set B/O053.txt          \n",
            "  inflating: Set B/O052.txt          \n",
            "  inflating: Set B/O051.txt          \n",
            "  inflating: Set B/O050.txt          \n",
            "  inflating: Set B/O049.txt          \n",
            "  inflating: Set B/O048.txt          \n",
            "  inflating: Set B/O047.txt          \n",
            "  inflating: Set B/O046.txt          \n",
            "  inflating: Set B/O045.txt          \n",
            "  inflating: Set B/O044.txt          \n",
            "  inflating: Set B/O043.txt          \n",
            "  inflating: Set B/O042.txt          \n",
            "  inflating: Set B/O041.txt          \n",
            "  inflating: Set B/O040.txt          \n",
            "  inflating: Set B/O039.txt          \n",
            "  inflating: Set B/O038.txt          \n",
            "  inflating: Set B/O037.txt          \n",
            "  inflating: Set B/O036.txt          \n",
            "  inflating: Set B/O035.txt          \n",
            "  inflating: Set B/O034.txt          \n",
            "  inflating: Set B/O033.txt          \n",
            "  inflating: Set B/O032.txt          \n",
            "  inflating: Set B/O031.txt          \n",
            "  inflating: Set B/O030.txt          \n",
            "  inflating: Set B/O029.txt          \n",
            "  inflating: Set B/O028.txt          \n",
            "  inflating: Set B/O027.txt          \n",
            "  inflating: Set B/O026.txt          \n",
            "  inflating: Set B/O025.txt          \n",
            "  inflating: Set B/O024.txt          \n",
            "  inflating: Set B/O023.txt          \n",
            "  inflating: Set B/O022.txt          \n",
            "  inflating: Set B/O021.txt          \n",
            "  inflating: Set B/O020.txt          \n",
            "  inflating: Set B/O019.txt          \n",
            "  inflating: Set B/O018.txt          \n",
            "  inflating: Set B/O017.txt          \n",
            "  inflating: Set B/O016.txt          \n",
            "  inflating: Set B/O015.txt          \n",
            "  inflating: Set B/O014.txt          \n",
            "  inflating: Set B/O013.txt          \n",
            "  inflating: Set B/O012.txt          \n",
            "  inflating: Set B/O011.txt          \n",
            "  inflating: Set B/O010.txt          \n",
            "  inflating: Set B/O009.txt          \n",
            "  inflating: Set B/O008.txt          \n",
            "  inflating: Set B/O007.txt          \n",
            "  inflating: Set B/O006.txt          \n",
            "  inflating: Set B/O005.txt          \n",
            "  inflating: Set B/O004.txt          \n",
            "  inflating: Set B/O003.txt          \n",
            "  inflating: Set B/O002.txt          \n",
            "  inflating: Set B/O001.txt          \n",
            "Archive:  N.zip\n",
            "  inflating: Set C/N001.TXT          \n",
            "  inflating: Set C/N099.TXT          \n",
            "  inflating: Set C/N098.TXT          \n",
            "  inflating: Set C/N097.TXT          \n",
            "  inflating: Set C/N096.TXT          \n",
            "  inflating: Set C/N095.TXT          \n",
            "  inflating: Set C/N094.TXT          \n",
            "  inflating: Set C/N093.TXT          \n",
            "  inflating: Set C/N092.TXT          \n",
            "  inflating: Set C/N091.TXT          \n",
            "  inflating: Set C/N090.TXT          \n",
            "  inflating: Set C/N089.TXT          \n",
            "  inflating: Set C/N088.TXT          \n",
            "  inflating: Set C/N087.TXT          \n",
            "  inflating: Set C/N086.TXT          \n",
            "  inflating: Set C/N085.TXT          \n",
            "  inflating: Set C/N084.TXT          \n",
            "  inflating: Set C/N083.TXT          \n",
            "  inflating: Set C/N082.TXT          \n",
            "  inflating: Set C/N081.TXT          \n",
            "  inflating: Set C/N080.TXT          \n",
            "  inflating: Set C/N079.TXT          \n",
            "  inflating: Set C/N078.TXT          \n",
            "  inflating: Set C/N077.TXT          \n",
            "  inflating: Set C/N076.TXT          \n",
            "  inflating: Set C/N075.TXT          \n",
            "  inflating: Set C/N074.TXT          \n",
            "  inflating: Set C/N073.TXT          \n",
            "  inflating: Set C/N072.TXT          \n",
            "  inflating: Set C/N071.TXT          \n",
            "  inflating: Set C/N070.TXT          \n",
            "  inflating: Set C/N069.TXT          \n",
            "  inflating: Set C/N068.TXT          \n",
            "  inflating: Set C/N067.TXT          \n",
            "  inflating: Set C/N066.TXT          \n",
            "  inflating: Set C/N065.TXT          \n",
            "  inflating: Set C/N064.TXT          \n",
            "  inflating: Set C/N063.TXT          \n",
            "  inflating: Set C/N062.TXT          \n",
            "  inflating: Set C/N061.TXT          \n",
            "  inflating: Set C/N060.TXT          \n",
            "  inflating: Set C/N059.TXT          \n",
            "  inflating: Set C/N058.TXT          \n",
            "  inflating: Set C/N057.TXT          \n",
            "  inflating: Set C/N056.TXT          \n",
            "  inflating: Set C/N055.TXT          \n",
            "  inflating: Set C/N054.TXT          \n",
            "  inflating: Set C/N053.TXT          \n",
            "  inflating: Set C/N052.TXT          \n",
            "  inflating: Set C/N051.TXT          \n",
            "  inflating: Set C/N050.TXT          \n",
            "  inflating: Set C/N049.TXT          \n",
            "  inflating: Set C/N048.TXT          \n",
            "  inflating: Set C/N047.TXT          \n",
            "  inflating: Set C/N046.TXT          \n",
            "  inflating: Set C/N045.TXT          \n",
            "  inflating: Set C/N044.TXT          \n",
            "  inflating: Set C/N043.TXT          \n",
            "  inflating: Set C/N042.TXT          \n",
            "  inflating: Set C/N041.TXT          \n",
            "  inflating: Set C/N040.TXT          \n",
            "  inflating: Set C/N039.TXT          \n",
            "  inflating: Set C/N038.TXT          \n",
            "  inflating: Set C/N037.TXT          \n",
            "  inflating: Set C/N036.TXT          \n",
            "  inflating: Set C/N035.TXT          \n",
            "  inflating: Set C/N034.TXT          \n",
            "  inflating: Set C/N033.TXT          \n",
            "  inflating: Set C/N032.TXT          \n",
            "  inflating: Set C/N031.TXT          \n",
            "  inflating: Set C/N030.TXT          \n",
            "  inflating: Set C/N029.TXT          \n",
            "  inflating: Set C/N028.TXT          \n",
            "  inflating: Set C/N027.TXT          \n",
            "  inflating: Set C/N026.TXT          \n",
            "  inflating: Set C/N025.TXT          \n",
            "  inflating: Set C/N024.TXT          \n",
            "  inflating: Set C/N023.TXT          \n",
            "  inflating: Set C/N022.TXT          \n",
            "  inflating: Set C/N021.TXT          \n",
            "  inflating: Set C/N020.TXT          \n",
            "  inflating: Set C/N019.TXT          \n",
            "  inflating: Set C/N018.TXT          \n",
            "  inflating: Set C/N017.TXT          \n",
            "  inflating: Set C/N016.TXT          \n",
            "  inflating: Set C/N015.TXT          \n",
            "  inflating: Set C/N014.TXT          \n",
            "  inflating: Set C/N013.TXT          \n",
            "  inflating: Set C/N012.TXT          \n",
            "  inflating: Set C/N011.TXT          \n",
            "  inflating: Set C/N010.TXT          \n",
            "  inflating: Set C/N009.TXT          \n",
            "  inflating: Set C/N008.TXT          \n",
            "  inflating: Set C/N007.TXT          \n",
            "  inflating: Set C/N006.TXT          \n",
            "  inflating: Set C/N005.TXT          \n",
            "  inflating: Set C/N004.TXT          \n",
            "  inflating: Set C/N003.TXT          \n",
            "  inflating: Set C/N002.TXT          \n",
            "  inflating: Set C/N100.TXT          \n",
            "Archive:  F.zip\n",
            "  inflating: Set D/F100.txt          \n",
            "  inflating: Set D/F002.txt          \n",
            "  inflating: Set D/F003.txt          \n",
            "  inflating: Set D/F004.txt          \n",
            "  inflating: Set D/F005.txt          \n",
            "  inflating: Set D/F006.txt          \n",
            "  inflating: Set D/F007.txt          \n",
            "  inflating: Set D/F008.txt          \n",
            "  inflating: Set D/F009.txt          \n",
            "  inflating: Set D/F010.txt          \n",
            "  inflating: Set D/F011.txt          \n",
            "  inflating: Set D/F012.txt          \n",
            "  inflating: Set D/F013.txt          \n",
            "  inflating: Set D/F014.txt          \n",
            "  inflating: Set D/F015.txt          \n",
            "  inflating: Set D/F016.txt          \n",
            "  inflating: Set D/F017.txt          \n",
            "  inflating: Set D/F018.txt          \n",
            "  inflating: Set D/F019.txt          \n",
            "  inflating: Set D/F020.txt          \n",
            "  inflating: Set D/F021.txt          \n",
            "  inflating: Set D/F022.txt          \n",
            "  inflating: Set D/F023.txt          \n",
            "  inflating: Set D/F024.txt          \n",
            "  inflating: Set D/F025.txt          \n",
            "  inflating: Set D/F026.txt          \n",
            "  inflating: Set D/F027.txt          \n",
            "  inflating: Set D/F028.txt          \n",
            "  inflating: Set D/F029.txt          \n",
            "  inflating: Set D/F030.txt          \n",
            "  inflating: Set D/F031.txt          \n",
            "  inflating: Set D/F032.txt          \n",
            "  inflating: Set D/F033.txt          \n",
            "  inflating: Set D/F034.txt          \n",
            "  inflating: Set D/F035.txt          \n",
            "  inflating: Set D/F036.txt          \n",
            "  inflating: Set D/F037.txt          \n",
            "  inflating: Set D/F038.txt          \n",
            "  inflating: Set D/F039.txt          \n",
            "  inflating: Set D/F040.txt          \n",
            "  inflating: Set D/F041.txt          \n",
            "  inflating: Set D/F042.txt          \n",
            "  inflating: Set D/F043.txt          \n",
            "  inflating: Set D/F044.txt          \n",
            "  inflating: Set D/F045.txt          \n",
            "  inflating: Set D/F046.txt          \n",
            "  inflating: Set D/F047.txt          \n",
            "  inflating: Set D/F048.txt          \n",
            "  inflating: Set D/F049.txt          \n",
            "  inflating: Set D/F050.txt          \n",
            "  inflating: Set D/F051.txt          \n",
            "  inflating: Set D/F052.txt          \n",
            "  inflating: Set D/F053.txt          \n",
            "  inflating: Set D/F054.txt          \n",
            "  inflating: Set D/F055.txt          \n",
            "  inflating: Set D/F056.txt          \n",
            "  inflating: Set D/F057.txt          \n",
            "  inflating: Set D/F058.txt          \n",
            "  inflating: Set D/F059.txt          \n",
            "  inflating: Set D/F060.txt          \n",
            "  inflating: Set D/F061.txt          \n",
            "  inflating: Set D/F062.txt          \n",
            "  inflating: Set D/F063.txt          \n",
            "  inflating: Set D/F064.txt          \n",
            "  inflating: Set D/F065.txt          \n",
            "  inflating: Set D/F066.txt          \n",
            "  inflating: Set D/F067.txt          \n",
            "  inflating: Set D/F068.txt          \n",
            "  inflating: Set D/F069.txt          \n",
            "  inflating: Set D/F070.txt          \n",
            "  inflating: Set D/F071.txt          \n",
            "  inflating: Set D/F072.txt          \n",
            "  inflating: Set D/F073.txt          \n",
            "  inflating: Set D/F074.txt          \n",
            "  inflating: Set D/F075.txt          \n",
            "  inflating: Set D/F076.txt          \n",
            "  inflating: Set D/F077.txt          \n",
            "  inflating: Set D/F078.txt          \n",
            "  inflating: Set D/F079.txt          \n",
            "  inflating: Set D/F080.txt          \n",
            "  inflating: Set D/F081.txt          \n",
            "  inflating: Set D/F082.txt          \n",
            "  inflating: Set D/F083.txt          \n",
            "  inflating: Set D/F084.txt          \n",
            "  inflating: Set D/F085.txt          \n",
            "  inflating: Set D/F086.txt          \n",
            "  inflating: Set D/F087.txt          \n",
            "  inflating: Set D/F088.txt          \n",
            "  inflating: Set D/F089.txt          \n",
            "  inflating: Set D/F090.txt          \n",
            "  inflating: Set D/F091.txt          \n",
            "  inflating: Set D/F092.txt          \n",
            "  inflating: Set D/F093.txt          \n",
            "  inflating: Set D/F094.txt          \n",
            "  inflating: Set D/F095.txt          \n",
            "  inflating: Set D/F096.txt          \n",
            "  inflating: Set D/F097.txt          \n",
            "  inflating: Set D/F098.txt          \n",
            "  inflating: Set D/F099.txt          \n",
            "  inflating: Set D/F001.txt          \n",
            "Archive:  S.zip\n",
            "  inflating: Set E/S011.txt          \n",
            "  inflating: Set E/S099.txt          \n",
            "  inflating: Set E/S098.txt          \n",
            "  inflating: Set E/S097.txt          \n",
            "  inflating: Set E/S096.txt          \n",
            "  inflating: Set E/S095.txt          \n",
            "  inflating: Set E/S094.txt          \n",
            "  inflating: Set E/S093.txt          \n",
            "  inflating: Set E/S092.txt          \n",
            "  inflating: Set E/S091.txt          \n",
            "  inflating: Set E/S090.txt          \n",
            "  inflating: Set E/S089.txt          \n",
            "  inflating: Set E/S088.txt          \n",
            "  inflating: Set E/S087.txt          \n",
            "  inflating: Set E/S086.txt          \n",
            "  inflating: Set E/S085.txt          \n",
            "  inflating: Set E/S084.txt          \n",
            "  inflating: Set E/S083.txt          \n",
            "  inflating: Set E/S082.txt          \n",
            "  inflating: Set E/S081.txt          \n",
            "  inflating: Set E/S080.txt          \n",
            "  inflating: Set E/S079.txt          \n",
            "  inflating: Set E/S078.txt          \n",
            "  inflating: Set E/S077.txt          \n",
            "  inflating: Set E/S076.txt          \n",
            "  inflating: Set E/S075.txt          \n",
            "  inflating: Set E/S074.txt          \n",
            "  inflating: Set E/S073.txt          \n",
            "  inflating: Set E/S072.txt          \n",
            "  inflating: Set E/S071.txt          \n",
            "  inflating: Set E/S070.txt          \n",
            "  inflating: Set E/S069.txt          \n",
            "  inflating: Set E/S068.txt          \n",
            "  inflating: Set E/S067.txt          \n",
            "  inflating: Set E/S066.txt          \n",
            "  inflating: Set E/S065.txt          \n",
            "  inflating: Set E/S064.txt          \n",
            "  inflating: Set E/S063.txt          \n",
            "  inflating: Set E/S062.txt          \n",
            "  inflating: Set E/S061.txt          \n",
            "  inflating: Set E/S060.txt          \n",
            "  inflating: Set E/S059.txt          \n",
            "  inflating: Set E/S058.txt          \n",
            "  inflating: Set E/S057.txt          \n",
            "  inflating: Set E/S056.txt          \n",
            "  inflating: Set E/S055.txt          \n",
            "  inflating: Set E/S054.txt          \n",
            "  inflating: Set E/S053.txt          \n",
            "  inflating: Set E/S052.txt          \n",
            "  inflating: Set E/S051.txt          \n",
            "  inflating: Set E/S050.txt          \n",
            "  inflating: Set E/S049.txt          \n",
            "  inflating: Set E/S048.txt          \n",
            "  inflating: Set E/S047.txt          \n",
            "  inflating: Set E/S046.txt          \n",
            "  inflating: Set E/S045.txt          \n",
            "  inflating: Set E/S044.txt          \n",
            "  inflating: Set E/S043.txt          \n",
            "  inflating: Set E/S042.txt          \n",
            "  inflating: Set E/S041.txt          \n",
            "  inflating: Set E/S040.txt          \n",
            "  inflating: Set E/S039.txt          \n",
            "  inflating: Set E/S038.txt          \n",
            "  inflating: Set E/S037.txt          \n",
            "  inflating: Set E/S036.txt          \n",
            "  inflating: Set E/S035.txt          \n",
            "  inflating: Set E/S034.txt          \n",
            "  inflating: Set E/S033.txt          \n",
            "  inflating: Set E/S032.txt          \n",
            "  inflating: Set E/S031.txt          \n",
            "  inflating: Set E/S030.txt          \n",
            "  inflating: Set E/S029.txt          \n",
            "  inflating: Set E/S028.txt          \n",
            "  inflating: Set E/S027.txt          \n",
            "  inflating: Set E/S026.txt          \n",
            "  inflating: Set E/S025.txt          \n",
            "  inflating: Set E/S024.txt          \n",
            "  inflating: Set E/S023.txt          \n",
            "  inflating: Set E/S022.txt          \n",
            "  inflating: Set E/S021.txt          \n",
            "  inflating: Set E/S020.txt          \n",
            "  inflating: Set E/S019.txt          \n",
            "  inflating: Set E/S018.txt          \n",
            "  inflating: Set E/S017.txt          \n",
            "  inflating: Set E/S016.txt          \n",
            "  inflating: Set E/S015.txt          \n",
            "  inflating: Set E/S014.txt          \n",
            "  inflating: Set E/S013.txt          \n",
            "  inflating: Set E/S012.txt          \n",
            "  inflating: Set E/S100.txt          \n",
            "  inflating: Set E/S010.txt          \n",
            "  inflating: Set E/S009.txt          \n",
            "  inflating: Set E/S008.txt          \n",
            "  inflating: Set E/S007.txt          \n",
            "  inflating: Set E/S006.txt          \n",
            "  inflating: Set E/S005.txt          \n",
            "  inflating: Set E/S004.txt          \n",
            "  inflating: Set E/S003.txt          \n",
            "  inflating: Set E/S002.txt          \n",
            "  inflating: Set E/S001.txt          \n"
          ]
        }
      ],
      "source": [
        "!unzip Z.zip -d 'Set A'\n",
        "!unzip O.zip -d 'Set B'\n",
        "!unzip N.zip -d 'Set C'\n",
        "!unzip F.zip -d 'Set D'\n",
        "!unzip S.zip -d 'Set E'"
      ]
    },
    {
      "cell_type": "code",
      "execution_count": null,
      "metadata": {
        "id": "ENtV6zpRWizx"
      },
      "outputs": [],
      "source": [
        "import glob\n",
        "import numpy as np\n",
        "import matplotlib as mpl\n",
        "import matplotlib.pyplot as plt"
      ]
    },
    {
      "cell_type": "code",
      "execution_count": null,
      "metadata": {
        "colab": {
          "base_uri": "https://localhost:8080/"
        },
        "id": "17YIo-hbWrRJ",
        "outputId": "3df76ad4-46ec-4a6c-d612-aaf4fbd1dc7c"
      },
      "outputs": [
        {
          "name": "stderr",
          "output_type": "stream",
          "text": [
            "100%|██████████| 100/100 [00:01<00:00, 79.75it/s]\n",
            "100%|██████████| 100/100 [00:01<00:00, 78.38it/s]\n",
            "100%|██████████| 100/100 [00:01<00:00, 78.43it/s]\n",
            "100%|██████████| 100/100 [00:01<00:00, 78.18it/s]\n",
            "100%|██████████| 100/100 [00:01<00:00, 77.48it/s]"
          ]
        },
        {
          "name": "stdout",
          "output_type": "stream",
          "text": [
            "500 Files\n"
          ]
        },
        {
          "name": "stderr",
          "output_type": "stream",
          "text": [
            "\n"
          ]
        }
      ],
      "source": [
        "GColab = False\n",
        "\n",
        "if GColab:\n",
        "  !pip install tqdm\n",
        "  \n",
        "import os\n",
        "from tqdm import tqdm\n",
        "\n",
        "DATA_DIR_A = '/content/Set A/'\n",
        "DATA_DIR_B = '/content/Set B/'\n",
        "DATA_DIR_C = '/content/Set C/'\n",
        "DATA_DIR_D = '/content/Set D/'\n",
        "DATA_DIR_E = '/content/Set E/'\n",
        "\n",
        "  \n",
        "LABEL_C1 = 0\n",
        "LABEL_C2 = 1\n",
        "LABEL_C3 = 2\n",
        "\n",
        "def load_data():\n",
        "    data = []\n",
        "    nbFiles = 0\n",
        "    for fname in tqdm(os.listdir(DATA_DIR_A)):\n",
        "        img = np.loadtxt(DATA_DIR_A + fname)\n",
        "        data.append([img, np.array(LABEL_C1)])\n",
        "        nbFiles+=1\n",
        "\n",
        "    for fname in tqdm(os.listdir(DATA_DIR_B)):\n",
        "        img = np.loadtxt(DATA_DIR_B + fname)\n",
        "        data.append([img, np.array(LABEL_C1)])\n",
        "        nbFiles+=1    \n",
        "    \n",
        "    for fname in tqdm(os.listdir(DATA_DIR_C)):\n",
        "        img = np.loadtxt(DATA_DIR_C + fname)\n",
        "        data.append([np.array(img), np.array(LABEL_C2)])\n",
        "        nbFiles+=1\n",
        "\n",
        "    for fname in tqdm(os.listdir(DATA_DIR_D)):\n",
        "        img = np.loadtxt(DATA_DIR_D + fname)\n",
        "        data.append([np.array(img), np.array(LABEL_C2)])\n",
        "        nbFiles+=1\n",
        "\n",
        "    for fname in tqdm(os.listdir(DATA_DIR_E)):\n",
        "        img = np.loadtxt(DATA_DIR_E + fname)\n",
        "        data.append([np.array(img), np.array(LABEL_C2)])\n",
        "        nbFiles+=1\n",
        "        \n",
        "    return data\n",
        "\n",
        "\n",
        "data = load_data()\n",
        "print(len(data), \"Files\")"
      ]
    },
    {
      "cell_type": "code",
      "execution_count": null,
      "metadata": {
        "id": "bzs0PDeuW4pB"
      },
      "outputs": [],
      "source": [
        "from sklearn.utils import shuffle\n",
        "data = shuffle(data)\n",
        "\n",
        "nb_train = round(len(data) * 0.8)\n",
        "data_train = data[0:nb_train]\n",
        "data_test = data[nb_train:]\n",
        "\n",
        "X_train = np.array([d[0] for d in data_train])\n",
        "Y_train = np.array([d[1] for d in data_train])\n",
        "\n",
        "X_test = np.array([d[0] for d in data_test])\n",
        "Y_test = np.array([d[1] for d in data_test])\n",
        "\n",
        "X_train.shape\n",
        "    \n",
        "X_train = X_train.reshape(X_train.shape[0], 4097, 1)\n",
        "Y_train = Y_train.reshape(Y_train.shape[0], 1)\n",
        "\n",
        "X_test = X_test.reshape(X_test.shape[0], 4097, 1)\n",
        "Y_test = Y_test.reshape(Y_test.shape[0], 1)"
      ]
    },
    {
      "cell_type": "code",
      "execution_count": null,
      "metadata": {
        "colab": {
          "background_save": true,
          "base_uri": "https://localhost:8080/"
        },
        "id": "rASmSUqEW915",
        "outputId": "39c18ab2-db25-4875-ffb6-c9feb1986eb4"
      },
      "outputs": [
        {
          "name": "stdout",
          "output_type": "stream",
          "text": [
            "Model: \"sequential\"\n",
            "_________________________________________________________________\n",
            "Layer (type)                 Output Shape              Param #   \n",
            "=================================================================\n",
            "lstm (LSTM)                  (None, 64)                16896     \n",
            "_________________________________________________________________\n",
            "dropout (Dropout)            (None, 64)                0         \n",
            "_________________________________________________________________\n",
            "dense (Dense)                (None, 1)                 65        \n",
            "_________________________________________________________________\n",
            "activation (Activation)      (None, 1)                 0         \n",
            "=================================================================\n",
            "Total params: 16,961\n",
            "Trainable params: 16,961\n",
            "Non-trainable params: 0\n",
            "_________________________________________________________________\n",
            "None\n",
            "Epoch 1/20\n",
            "80/80 [==============================] - 86s 853ms/step - loss: 0.7086 - mae: 0.4867 - acc: 0.5388 - val_loss: 0.6157 - val_mae: 0.4468 - val_acc: 0.6625\n",
            "Epoch 2/20\n",
            "80/80 [==============================] - 68s 845ms/step - loss: 0.6602 - mae: 0.4593 - acc: 0.6079 - val_loss: 0.5908 - val_mae: 0.4360 - val_acc: 0.7375\n",
            "Epoch 3/20\n",
            "80/80 [==============================] - 67s 841ms/step - loss: 0.6274 - mae: 0.4439 - acc: 0.6735 - val_loss: 0.5273 - val_mae: 0.3878 - val_acc: 0.7500\n",
            "Epoch 4/20\n",
            "80/80 [==============================] - 67s 838ms/step - loss: 0.5469 - mae: 0.3884 - acc: 0.7200 - val_loss: 0.4998 - val_mae: 0.3555 - val_acc: 0.7875\n",
            "Epoch 5/20\n",
            "80/80 [==============================] - 67s 843ms/step - loss: 0.5213 - mae: 0.3596 - acc: 0.7760 - val_loss: 0.4165 - val_mae: 0.2978 - val_acc: 0.8250\n",
            "Epoch 6/20\n",
            "80/80 [==============================] - 69s 861ms/step - loss: 0.4452 - mae: 0.3050 - acc: 0.8002 - val_loss: 0.3658 - val_mae: 0.2503 - val_acc: 0.8625\n",
            "Epoch 7/20\n",
            "80/80 [==============================] - 68s 857ms/step - loss: 0.4427 - mae: 0.2828 - acc: 0.8179 - val_loss: 0.4588 - val_mae: 0.2900 - val_acc: 0.8125\n",
            "Epoch 8/20\n",
            "80/80 [==============================] - 69s 865ms/step - loss: 0.5234 - mae: 0.3252 - acc: 0.7472 - val_loss: 0.4949 - val_mae: 0.3187 - val_acc: 0.7500\n",
            "Epoch 9/20\n",
            "80/80 [==============================] - 69s 857ms/step - loss: 0.4371 - mae: 0.2866 - acc: 0.8150 - val_loss: 0.6859 - val_mae: 0.4061 - val_acc: 0.6500\n",
            "Epoch 10/20\n",
            "80/80 [==============================] - 68s 856ms/step - loss: 0.4864 - mae: 0.3337 - acc: 0.7911 - val_loss: 0.3675 - val_mae: 0.2583 - val_acc: 0.8750\n",
            "Epoch 11/20\n",
            "80/80 [==============================] - 68s 850ms/step - loss: 0.3708 - mae: 0.2515 - acc: 0.8607 - val_loss: 0.4531 - val_mae: 0.2947 - val_acc: 0.7875\n",
            "Epoch 12/20\n",
            "80/80 [==============================] - 69s 857ms/step - loss: 0.4189 - mae: 0.2815 - acc: 0.8044 - val_loss: 0.4998 - val_mae: 0.3316 - val_acc: 0.7875\n",
            "Epoch 13/20\n",
            "80/80 [==============================] - 68s 855ms/step - loss: 0.3765 - mae: 0.2685 - acc: 0.8538 - val_loss: 0.3350 - val_mae: 0.2332 - val_acc: 0.8750\n",
            "Epoch 14/20\n",
            "80/80 [==============================] - 68s 852ms/step - loss: 0.3752 - mae: 0.2594 - acc: 0.8512 - val_loss: 0.3199 - val_mae: 0.2325 - val_acc: 0.8875\n",
            "Epoch 15/20\n",
            "80/80 [==============================] - 68s 854ms/step - loss: 0.4571 - mae: 0.2918 - acc: 0.7841 - val_loss: 0.5782 - val_mae: 0.3794 - val_acc: 0.6875\n",
            "Epoch 16/20\n",
            "80/80 [==============================] - 68s 849ms/step - loss: 0.5320 - mae: 0.3621 - acc: 0.7105 - val_loss: 0.5062 - val_mae: 0.3501 - val_acc: 0.7375\n",
            "Epoch 17/20\n",
            "80/80 [==============================] - 67s 841ms/step - loss: 0.4325 - mae: 0.3095 - acc: 0.8127 - val_loss: 0.3692 - val_mae: 0.2425 - val_acc: 0.8500\n",
            "Epoch 18/20\n",
            "80/80 [==============================] - 67s 841ms/step - loss: 0.3055 - mae: 0.2175 - acc: 0.8880 - val_loss: 0.3636 - val_mae: 0.2224 - val_acc: 0.9000\n",
            "Epoch 19/20\n",
            "80/80 [==============================] - 68s 848ms/step - loss: 0.2867 - mae: 0.2047 - acc: 0.8839 - val_loss: 0.3520 - val_mae: 0.2186 - val_acc: 0.8750\n",
            "Epoch 20/20\n",
            "80/80 [==============================] - 68s 848ms/step - loss: 0.3222 - mae: 0.2201 - acc: 0.8649 - val_loss: 0.3365 - val_mae: 0.1938 - val_acc: 0.9000\n",
            "25/25 [==============================] - 5s 193ms/step - loss: 0.3311 - mae: 0.1965 - acc: 0.8900\n"
          ]
        }
      ],
      "source": [
        "from keras.models import Sequential\n",
        "from keras.layers import Dense, Dropout, Activation\n",
        "from keras.layers import Embedding\n",
        "from keras.layers import LSTM\n",
        "\n",
        "#num_steps = 30\n",
        "batch_size = 4\n",
        "nb_epoch = 20\n",
        "hidden_size = 64\n",
        "use_dropout=True\n",
        "\n",
        "model = Sequential()\n",
        "model.add(LSTM(hidden_size, input_shape=(4097,1)))\n",
        "#model.add(LSTM(64, return_sequences=False))\n",
        "\n",
        "if use_dropout:\n",
        "  model.add(Dropout(0.35))\n",
        "model.add(Dense(1))\n",
        "model.add(Activation('sigmoid'))\n",
        "\n",
        "model.compile(loss='binary_crossentropy', optimizer='adam', metrics=['mae', 'acc'])\n",
        "\n",
        "print(model.summary())\n",
        "\n",
        "history = model.fit(X_train, Y_train, validation_split=0.2, batch_size=batch_size, epochs=nb_epoch)\n",
        "score = model.evaluate(X_test, Y_test, batch_size=batch_size)"
      ]
    },
    {
      "cell_type": "code",
      "execution_count": null,
      "metadata": {
        "colab": {
          "background_save": true
        },
        "id": "vtpBoViyhxuA",
        "outputId": "a46c111d-5ac0-4013-e9c6-4e88a33f6704"
      },
      "outputs": [
        {
          "name": "stdout",
          "output_type": "stream",
          "text": [
            "dict_keys(['loss', 'mae', 'acc', 'val_loss', 'val_mae', 'val_acc'])\n"
          ]
        },
        {
          "data": {
            "image/png": "[encoded data removed]",
            "text/plain": [
              "<Figure size 432x288 with 1 Axes>"
            ]
          },
          "metadata": {
            "tags": []
          },
          "output_type": "display_data"
        },
        {
          "data": {
            "image/png": "[encoded data removed]",
            "text/plain": [
              "<Figure size 432x288 with 1 Axes>"
            ]
          },
          "metadata": {
            "tags": []
          },
          "output_type": "display_data"
        }
      ],
      "source": [
        "# list all data in history\n",
        "print(history.history.keys())\n",
        "# summarize history for accuracy\n",
        "plt.plot(history.history['acc'])\n",
        "plt.plot(history.history['val_acc'])\n",
        "plt.title('model accuracy')\n",
        "plt.ylabel('accuracy')\n",
        "plt.xlabel('epoch')\n",
        "plt.legend(['train', 'test'], loc='upper left')\n",
        "plt.show()\n",
        "# summarize history for loss\n",
        "plt.plot(history.history['loss'])\n",
        "plt.plot(history.history['val_loss'])\n",
        "plt.title('model loss')\n",
        "plt.ylabel('loss')\n",
        "plt.xlabel('epoch')\n",
        "plt.legend(['train', 'test'], loc='upper left')\n",
        "plt.show()"
      ]
    },
    {
      "cell_type": "code",
      "execution_count": null,
      "metadata": {
        "colab": {
          "background_save": true
        },
        "id": "xST3JRlpibIC",
        "outputId": "8a93ee60-328b-49a9-f73d-ddd2086dc5ec"
      },
      "outputs": [
        {
          "name": "stdout",
          "output_type": "stream",
          "text": [
            "25/25 [==============================] - 5s 192ms/step - loss: 0.3311 - mae: 0.1965 - acc: 0.8900\n"
          ]
        }
      ],
      "source": [
        "score = model.evaluate(X_test, Y_test, batch_size=batch_size)"
      ]
    },
    {
      "cell_type": "code",
      "execution_count": null,
      "metadata": {
        "colab": {
          "background_save": true
        },
        "id": "kSmNswanQWhz"
      },
      "outputs": [],
      "source": [
        "from sklearn.datasets import make_circles\n",
        "from sklearn.metrics import accuracy_score\n",
        "from sklearn.metrics import precision_score\n",
        "from sklearn.metrics import recall_score\n",
        "from sklearn.metrics import f1_score\n",
        "from sklearn.metrics import cohen_kappa_score\n",
        "from sklearn.metrics import roc_auc_score\n",
        "from sklearn.metrics import confusion_matrix"
      ]
    },
    {
      "cell_type": "code",
      "execution_count": null,
      "metadata": {
        "colab": {
          "background_save": true
        },
        "id": "9cnZ12zXQfIW",
        "outputId": "82dde097-4cb2-4ed9-bacb-24339f4093c8"
      },
      "outputs": [
        {
          "name": "stderr",
          "output_type": "stream",
          "text": [
            "/usr/local/lib/python3.7/dist-packages/keras/engine/sequential.py:450: UserWarning: `model.predict_classes()` is deprecated and will be removed after 2021-01-01. Please use instead:* `np.argmax(model.predict(x), axis=-1)`,   if your model does multi-class classification   (e.g. if it uses a `softmax` last-layer activation).* `(model.predict(x) > 0.5).astype(\"int32\")`,   if your model does binary classification   (e.g. if it uses a `sigmoid` last-layer activation).\n",
            "  warnings.warn('`model.predict_classes()` is deprecated and '\n"
          ]
        },
        {
          "name": "stdout",
          "output_type": "stream",
          "text": [
            "Accuracy: 0.890000\n",
            "Precision: 0.888889\n",
            "Recall: 0.933333\n",
            "F1 score: 0.910569\n"
          ]
        }
      ],
      "source": [
        "yhat_classes = model.predict_classes(X_test, verbose=0)\n",
        "yhat_probs = model.predict(X_test, verbose=0)\n",
        "\n",
        "yhat_probs = yhat_probs[:, 0]\n",
        "yhat_classes = yhat_classes[:, 0]\n",
        "\n",
        "# accuracy: (tp + tn) / (p + n)\n",
        "accuracy = accuracy_score(Y_test, yhat_classes)\n",
        "print('Accuracy: %f' % accuracy)\n",
        "# precision tp / (tp + fp)\n",
        "precision = precision_score(Y_test, yhat_classes)\n",
        "print('Precision: %f' % precision)\n",
        "# recall: tp / (tp + fn)\n",
        "recall = recall_score(Y_test, yhat_classes)\n",
        "print('Recall: %f' % recall)\n",
        "# f1: 2 tp / (2 tp + fp + fn)\n",
        "f1 = f1_score(Y_test, yhat_classes)\n",
        "print('F1 score: %f' % f1)"
      ]
    },
    {
      "cell_type": "code",
      "execution_count": null,
      "metadata": {
        "colab": {
          "background_save": true
        },
        "id": "5TeIxcw5ildR"
      },
      "outputs": [],
      "source": [
        "from tensorflow.keras.layers import Flatten, Dense, Conv1D, MaxPool1D, Dropout"
      ]
    },
    {
      "cell_type": "code",
      "execution_count": null,
      "metadata": {
        "colab": {
          "background_save": true
        },
        "id": "LXT8CATai9FR",
        "outputId": "e11a8822-e914-44fa-cc87-e8cddd51d7d4"
      },
      "outputs": [
        {
          "name": "stdout",
          "output_type": "stream",
          "text": [
            "Train shape:  (400, 4097, 1)\n",
            "Test shape:  (100, 4097, 1)\n"
          ]
        }
      ],
      "source": [
        "import numpy as np\n",
        "X_train = np.array(X_train).reshape(X_train.shape[0], X_train.shape[1], 1)\n",
        "X_test = np.array(X_test).reshape(X_test.shape[0], X_test.shape[1], 1)\n",
        "\n",
        "print(\"Train shape: \", X_train.shape)\n",
        "print(\"Test shape: \", X_test.shape)"
      ]
    },
    {
      "cell_type": "code",
      "execution_count": null,
      "metadata": {
        "colab": {
          "background_save": true
        },
        "id": "X9g4x7XqjN06"
      },
      "outputs": [],
      "source": [
        "import tensorflow as tf\n",
        "clf = tf.keras.models.Sequential()"
      ]
    },
    {
      "cell_type": "code",
      "execution_count": null,
      "metadata": {
        "colab": {
          "background_save": true
        },
        "id": "AzkwXYqujh7T",
        "outputId": "ca400219-7a6a-447e-cea6-b4fdbe2adf5a"
      },
      "outputs": [
        {
          "name": "stdout",
          "output_type": "stream",
          "text": [
            "Model: \"sequential\"\n",
            "_________________________________________________________________\n",
            "Layer (type)                 Output Shape              Param #   \n",
            "=================================================================\n",
            "conv1d (Conv1D)              (None, 4097, 32)          192       \n",
            "_________________________________________________________________\n",
            "conv1d_1 (Conv1D)            (None, 4097, 13)          2093      \n",
            "_________________________________________________________________\n",
            "conv1d_2 (Conv1D)            (None, 4097, 128)         8448      \n",
            "_________________________________________________________________\n",
            "max_pooling1d (MaxPooling1D) (None, 2049, 128)         0         \n",
            "_________________________________________________________________\n",
            "dropout (Dropout)            (None, 2049, 128)         0         \n",
            "_________________________________________________________________\n",
            "flatten (Flatten)            (None, 262272)            0         \n",
            "_________________________________________________________________\n",
            "dense (Dense)                (None, 512)               134283776 \n",
            "_________________________________________________________________\n",
            "dense_1 (Dense)              (None, 1024)              525312    \n",
            "_________________________________________________________________\n",
            "dense_2 (Dense)              (None, 2)                 2050      \n",
            "=================================================================\n",
            "Total params: 134,821,871\n",
            "Trainable params: 134,821,871\n",
            "Non-trainable params: 0\n",
            "_________________________________________________________________\n"
          ]
        }
      ],
      "source": [
        "#First CNN layer  with 32 filters, conv window 5, relu activation and same padding\n",
        "clf.add(Conv1D(filters=32, kernel_size=(5,), padding='same', activation=tf.keras.layers.LeakyReLU(alpha=0.001), input_shape = (X_train.shape[1],1)))\n",
        "#Second CNN layer  with 13 filters, conv window 5, relu activation and same padding\n",
        "clf.add(Conv1D(filters=13, kernel_size=(5,), padding='same', activation=tf.keras.layers.LeakyReLU(alpha=0.001)))\n",
        "#Third CNN layer with 64 filters, conv window 5, relu activation and same padding\n",
        "clf.add(Conv1D(filters=128, kernel_size=(5,), padding='same', activation=tf.keras.layers.LeakyReLU(alpha=0.001)))\n",
        "#Fourth CNN layer with Max pooling\n",
        "clf.add(MaxPool1D(pool_size=(5,), strides=2, padding='same'))\n",
        "clf.add(Dropout(0.5))\n",
        "#Flatten the output\n",
        "clf.add(Flatten())\n",
        "#Add a dense layer with 512 neurons\n",
        "clf.add(Dense(units = 512, activation=tf.keras.layers.LeakyReLU(alpha=0.001)))\n",
        "#Add a dense layer with 1024 neurons\n",
        "clf.add(Dense(units = 1024, activation=tf.keras.layers.LeakyReLU(alpha=0.001)))\n",
        "#Softmax as last layer with two outputs\n",
        "clf.add(Dense(units = 2, activation='softmax'))\n",
        "clf.summary()"
      ]
    },
    {
      "cell_type": "code",
      "execution_count": null,
      "metadata": {
        "colab": {
          "background_save": true,
          "base_uri": "https://localhost:8080/"
        },
        "id": "A9ynzt4QjudI",
        "outputId": "0bd1eed3-717a-4f56-9c82-8600a27a8f2c"
      },
      "outputs": [
        {
          "name": "stdout",
          "output_type": "stream",
          "text": [
            "Model: \"sequential\"\n",
            "_________________________________________________________________\n",
            "Layer (type)                 Output Shape              Param #   \n",
            "=================================================================\n",
            "conv1d (Conv1D)              (None, 4097, 32)          192       \n",
            "_________________________________________________________________\n",
            "conv1d_1 (Conv1D)            (None, 4097, 13)          2093      \n",
            "_________________________________________________________________\n",
            "conv1d_2 (Conv1D)            (None, 4097, 128)         8448      \n",
            "_________________________________________________________________\n",
            "max_pooling1d (MaxPooling1D) (None, 2049, 128)         0         \n",
            "_________________________________________________________________\n",
            "dropout (Dropout)            (None, 2049, 128)         0         \n",
            "_________________________________________________________________\n",
            "flatten (Flatten)            (None, 262272)            0         \n",
            "_________________________________________________________________\n",
            "dense (Dense)                (None, 512)               134283776 \n",
            "_________________________________________________________________\n",
            "dense_1 (Dense)              (None, 1024)              525312    \n",
            "_________________________________________________________________\n",
            "dense_2 (Dense)              (None, 2)                 2050      \n",
            "=================================================================\n",
            "Total params: 134,821,871\n",
            "Trainable params: 134,821,871\n",
            "Non-trainable params: 0\n",
            "_________________________________________________________________\n",
            "None\n",
            "Epoch 1/20\n",
            "80/80 [==============================] - 251s 3s/step - loss: 45.2529 - mae: 0.5000 - acc: 0.5437 - val_loss: 0.5230 - val_mae: 0.5000 - val_acc: 0.6750\n",
            "Epoch 2/20\n",
            "80/80 [==============================] - 256s 3s/step - loss: 0.5103 - mae: 0.5000 - acc: 0.7906 - val_loss: 0.6695 - val_mae: 0.5000 - val_acc: 0.6625\n",
            "Epoch 3/20\n",
            "80/80 [==============================] - 255s 3s/step - loss: 0.5063 - mae: 0.5000 - acc: 0.8250 - val_loss: 0.4593 - val_mae: 0.5000 - val_acc: 0.7750\n",
            "Epoch 4/20\n",
            "80/80 [==============================] - 257s 3s/step - loss: 0.1510 - mae: 0.5000 - acc: 0.9406 - val_loss: 1.0249 - val_mae: 0.5000 - val_acc: 0.7875\n",
            "Epoch 5/20\n",
            "80/80 [==============================] - 261s 3s/step - loss: 0.0859 - mae: 0.5000 - acc: 0.9781 - val_loss: 1.0743 - val_mae: 0.5000 - val_acc: 0.7250\n",
            "Epoch 6/20\n",
            "80/80 [==============================] - 260s 3s/step - loss: 0.0695 - mae: 0.5000 - acc: 0.9812 - val_loss: 1.0740 - val_mae: 0.5000 - val_acc: 0.8375\n",
            "Epoch 7/20\n",
            "80/80 [==============================] - 263s 3s/step - loss: 0.0122 - mae: 0.5000 - acc: 0.9969 - val_loss: 1.1891 - val_mae: 0.5000 - val_acc: 0.7875\n",
            "Epoch 8/20\n",
            "80/80 [==============================] - 263s 3s/step - loss: 0.0035 - mae: 0.5000 - acc: 1.0000 - val_loss: 1.2705 - val_mae: 0.5000 - val_acc: 0.8375\n",
            "Epoch 9/20\n",
            "80/80 [==============================] - 259s 3s/step - loss: 0.0014 - mae: 0.5000 - acc: 1.0000 - val_loss: 1.3103 - val_mae: 0.5000 - val_acc: 0.8125\n",
            "Epoch 10/20\n",
            "80/80 [==============================] - 259s 3s/step - loss: 5.6739e-04 - mae: 0.5000 - acc: 1.0000 - val_loss: 1.3682 - val_mae: 0.5000 - val_acc: 0.8125\n",
            "Epoch 11/20\n",
            "80/80 [==============================] - 259s 3s/step - loss: 0.0022 - mae: 0.5000 - acc: 1.0000 - val_loss: 1.1832 - val_mae: 0.5000 - val_acc: 0.8125\n",
            "Epoch 12/20\n",
            "80/80 [==============================] - 260s 3s/step - loss: 5.1418e-04 - mae: 0.5000 - acc: 1.0000 - val_loss: 1.2086 - val_mae: 0.5000 - val_acc: 0.8125\n",
            "Epoch 13/20\n",
            "80/80 [==============================] - 260s 3s/step - loss: 3.7867e-04 - mae: 0.5000 - acc: 1.0000 - val_loss: 1.2394 - val_mae: 0.5000 - val_acc: 0.8125\n",
            "Epoch 14/20\n",
            "80/80 [==============================] - 263s 3s/step - loss: 1.7856e-04 - mae: 0.5000 - acc: 1.0000 - val_loss: 1.2594 - val_mae: 0.5000 - val_acc: 0.8125\n",
            "Epoch 15/20\n",
            "80/80 [==============================] - 262s 3s/step - loss: 1.0527e-04 - mae: 0.5000 - acc: 1.0000 - val_loss: 1.2770 - val_mae: 0.5000 - val_acc: 0.8125\n",
            "Epoch 16/20\n",
            "80/80 [==============================] - 263s 3s/step - loss: 7.6327e-05 - mae: 0.5000 - acc: 1.0000 - val_loss: 1.2916 - val_mae: 0.5000 - val_acc: 0.8125\n",
            "Epoch 17/20\n",
            "80/80 [==============================] - 262s 3s/step - loss: 5.8563e-05 - mae: 0.5000 - acc: 1.0000 - val_loss: 1.3069 - val_mae: 0.5000 - val_acc: 0.8125\n",
            "Epoch 18/20\n",
            "80/80 [==============================] - 262s 3s/step - loss: 5.6167e-05 - mae: 0.5000 - acc: 1.0000 - val_loss: 1.3202 - val_mae: 0.5000 - val_acc: 0.8125\n",
            "Epoch 19/20\n",
            "80/80 [==============================] - 262s 3s/step - loss: 1.1629e-04 - mae: 0.5000 - acc: 1.0000 - val_loss: 1.3424 - val_mae: 0.5000 - val_acc: 0.8250\n",
            "Epoch 20/20\n",
            "80/80 [==============================] - 263s 3s/step - loss: 5.0256e-05 - mae: 0.5000 - acc: 1.0000 - val_loss: 1.3469 - val_mae: 0.5000 - val_acc: 0.8125\n",
            "25/25 [==============================] - 4s 162ms/step - loss: 1.6395 - mae: 0.5000 - acc: 0.8100\n"
          ]
        }
      ],
      "source": [
        "clf.compile(loss='sparse_categorical_crossentropy', optimizer='adam', metrics=['mae', 'acc'])\n",
        "\n",
        "print(clf.summary())\n",
        "\n",
        "history = clf.fit(X_train, Y_train, validation_split=0.2, batch_size=batch_size, epochs=nb_epoch)\n",
        "score = clf.evaluate(X_test, Y_test, batch_size=batch_size)"
      ]
    },
    {
      "cell_type": "code",
      "execution_count": null,
      "metadata": {
        "colab": {
          "background_save": true
        },
        "id": "0XBZiF1RQpu9",
        "outputId": "691e459a-b8f6-4f49-dacf-e7b69c164c52"
      },
      "outputs": [
        {
          "name": "stdout",
          "output_type": "stream",
          "text": [
            "dict_keys(['loss', 'mae', 'acc', 'val_loss', 'val_mae', 'val_acc'])\n"
          ]
        },
        {
          "data": {
            "image/png": "[encoded data removed]",
            "text/plain": [
              "<Figure size 432x288 with 1 Axes>"
            ]
          },
          "metadata": {
            "tags": []
          },
          "output_type": "display_data"
        },
        {
          "data": {
            "image/png": "[encoded data removed]",
            "text/plain": [
              "<Figure size 432x288 with 1 Axes>"
            ]
          },
          "metadata": {
            "tags": []
          },
          "output_type": "display_data"
        }
      ],
      "source": [
        "# list all data in history\n",
        "print(history.history.keys())\n",
        "# summarize history for accuracy\n",
        "plt.plot(history.history['acc'])\n",
        "plt.plot(history.history['val_acc'])\n",
        "plt.title('model accuracy')\n",
        "plt.ylabel('accuracy')\n",
        "plt.xlabel('epoch')\n",
        "plt.legend(['train', 'test'], loc='upper left')\n",
        "plt.show()\n",
        "# summarize history for loss\n",
        "plt.plot(history.history['loss'])\n",
        "plt.plot(history.history['val_loss'])\n",
        "plt.title('model loss')\n",
        "plt.ylabel('loss')\n",
        "plt.xlabel('epoch')\n",
        "plt.legend(['train', 'test'], loc='upper left')\n",
        "plt.show()"
      ]
    },
    {
      "cell_type": "code",
      "execution_count": null,
      "metadata": {
        "colab": {
          "background_save": true
        },
        "id": "4oA2BM77lqgp",
        "outputId": "dc8058ef-804c-4ffb-a7f0-02b57fa968ea"
      },
      "outputs": [
        {
          "name": "stdout",
          "output_type": "stream",
          "text": [
            "4/4 [==============================] - 1s 283ms/step - loss: 1.6395 - mae: 0.5000 - acc: 0.8100\n"
          ]
        }
      ],
      "source": [
        "score = clf.evaluate(X_test, Y_test)"
      ]
    },
    {
      "cell_type": "code",
      "execution_count": null,
      "metadata": {
        "colab": {
          "background_save": true
        },
        "id": "GFr8bGmclxB5"
      },
      "outputs": [],
      "source": [
        "model = tf.keras.models.Sequential()"
      ]
    },
    {
      "cell_type": "code",
      "execution_count": null,
      "metadata": {
        "colab": {
          "background_save": true
        },
        "id": "QgvgUn8Kl-ga",
        "outputId": "ddbc5b9f-1632-44b9-8358-4a6462e79c04"
      },
      "outputs": [
        {
          "name": "stdout",
          "output_type": "stream",
          "text": [
            "Model: \"sequential_1\"\n",
            "_________________________________________________________________\n",
            "Layer (type)                 Output Shape              Param #   \n",
            "=================================================================\n",
            "conv1d_3 (Conv1D)            (None, 4097, 32)          192       \n",
            "_________________________________________________________________\n",
            "conv1d_4 (Conv1D)            (None, 4097, 13)          2093      \n",
            "_________________________________________________________________\n",
            "conv1d_5 (Conv1D)            (None, 4097, 128)         8448      \n",
            "_________________________________________________________________\n",
            "max_pooling1d_1 (MaxPooling1 (None, 2049, 128)         0         \n",
            "_________________________________________________________________\n",
            "dropout_1 (Dropout)          (None, 2049, 128)         0         \n",
            "_________________________________________________________________\n",
            "flatten_1 (Flatten)          (None, 262272)            0         \n",
            "_________________________________________________________________\n",
            "dense_3 (Dense)              (None, 16)                4196368   \n",
            "_________________________________________________________________\n",
            "dense_4 (Dense)              (None, 32)                544       \n",
            "_________________________________________________________________\n",
            "dense_5 (Dense)              (None, 2)                 66        \n",
            "=================================================================\n",
            "Total params: 4,207,711\n",
            "Trainable params: 4,207,711\n",
            "Non-trainable params: 0\n",
            "_________________________________________________________________\n"
          ]
        }
      ],
      "source": [
        "model.add(Conv1D(filters=32, kernel_size=(5,), padding='same', activation=tf.keras.layers.LeakyReLU(alpha=0.001), input_shape = (X_train.shape[1],1)))\n",
        "#Second CNN layer  with 13 filters, conv window 5, relu activation and same padding\n",
        "model.add(Conv1D(filters=13, kernel_size=(5,), padding='same', activation=tf.keras.layers.LeakyReLU(alpha=0.001)))\n",
        "#Third CNN layer with 64 filters, conv window 5, relu activation and same padding\n",
        "model.add(Conv1D(filters=128, kernel_size=(5,), padding='same', activation=tf.keras.layers.LeakyReLU(alpha=0.001)))\n",
        "#Fourth CNN layer with Max pooling\n",
        "model.add(MaxPool1D(pool_size=(5,), strides=2, padding='same'))\n",
        "model.add(Dropout(0.5))\n",
        "#Flatten the output\n",
        "model.add(Flatten())\n",
        "#Add a dense layer with 512 neurons\n",
        "model.add(Dense(units = 16, activation=tf.keras.layers.LeakyReLU(alpha=0.001)))\n",
        "#Add a dense layer with 1024 neurons\n",
        "model.add(Dense(units = 32, activation=tf.keras.layers.LeakyReLU(alpha=0.001)))\n",
        "#Softmax as last layer with two outputs\n",
        "model.add(Dense(units = 2, activation='softmax'))\n",
        "model.summary()"
      ]
    },
    {
      "cell_type": "code",
      "execution_count": null,
      "metadata": {
        "colab": {
          "background_save": true
        },
        "id": "VT8-9_yAmN7d",
        "outputId": "91069840-2a50-4bad-fd0c-c6c28ce4ad77"
      },
      "outputs": [
        {
          "name": "stdout",
          "output_type": "stream",
          "text": [
            "Model: \"sequential_1\"\n",
            "_________________________________________________________________\n",
            "Layer (type)                 Output Shape              Param #   \n",
            "=================================================================\n",
            "conv1d_3 (Conv1D)            (None, 4097, 32)          192       \n",
            "_________________________________________________________________\n",
            "conv1d_4 (Conv1D)            (None, 4097, 13)          2093      \n",
            "_________________________________________________________________\n",
            "conv1d_5 (Conv1D)            (None, 4097, 128)         8448      \n",
            "_________________________________________________________________\n",
            "max_pooling1d_1 (MaxPooling1 (None, 2049, 128)         0         \n",
            "_________________________________________________________________\n",
            "dropout_1 (Dropout)          (None, 2049, 128)         0         \n",
            "_________________________________________________________________\n",
            "flatten_1 (Flatten)          (None, 262272)            0         \n",
            "_________________________________________________________________\n",
            "dense_3 (Dense)              (None, 16)                4196368   \n",
            "_________________________________________________________________\n",
            "dense_4 (Dense)              (None, 32)                544       \n",
            "_________________________________________________________________\n",
            "dense_5 (Dense)              (None, 2)                 66        \n",
            "=================================================================\n",
            "Total params: 4,207,711\n",
            "Trainable params: 4,207,711\n",
            "Non-trainable params: 0\n",
            "_________________________________________________________________\n",
            "None\n",
            "Epoch 1/20\n",
            "80/80 [==============================] - 12s 144ms/step - loss: 4.3315 - mae: 0.5000 - acc: 0.5813 - val_loss: 0.9432 - val_mae: 0.5000 - val_acc: 0.4875\n",
            "Epoch 2/20\n",
            "80/80 [==============================] - 11s 140ms/step - loss: 0.5280 - mae: 0.5000 - acc: 0.7500 - val_loss: 0.7350 - val_mae: 0.5000 - val_acc: 0.5750\n",
            "Epoch 3/20\n",
            "80/80 [==============================] - 11s 140ms/step - loss: 0.4384 - mae: 0.5000 - acc: 0.8125 - val_loss: 0.4597 - val_mae: 0.5000 - val_acc: 0.7750\n",
            "Epoch 4/20\n",
            "80/80 [==============================] - 11s 141ms/step - loss: 0.2865 - mae: 0.5000 - acc: 0.8781 - val_loss: 0.5257 - val_mae: 0.5000 - val_acc: 0.7875\n",
            "Epoch 5/20\n",
            "80/80 [==============================] - 11s 140ms/step - loss: 0.7213 - mae: 0.5000 - acc: 0.8188 - val_loss: 1.4943 - val_mae: 0.5000 - val_acc: 0.5125\n",
            "Epoch 6/20\n",
            "80/80 [==============================] - 11s 140ms/step - loss: 0.2046 - mae: 0.5000 - acc: 0.9500 - val_loss: 0.4048 - val_mae: 0.5000 - val_acc: 0.8125\n",
            "Epoch 7/20\n",
            "80/80 [==============================] - 11s 140ms/step - loss: 0.0905 - mae: 0.5000 - acc: 0.9844 - val_loss: 0.3060 - val_mae: 0.5000 - val_acc: 0.8625\n",
            "Epoch 8/20\n",
            "80/80 [==============================] - 11s 140ms/step - loss: 0.0421 - mae: 0.5000 - acc: 0.9969 - val_loss: 0.3316 - val_mae: 0.5000 - val_acc: 0.8500\n",
            "Epoch 9/20\n",
            "80/80 [==============================] - 11s 139ms/step - loss: 0.0219 - mae: 0.5000 - acc: 1.0000 - val_loss: 0.3586 - val_mae: 0.5000 - val_acc: 0.8750\n",
            "Epoch 10/20\n",
            "80/80 [==============================] - 11s 140ms/step - loss: 0.0145 - mae: 0.5000 - acc: 1.0000 - val_loss: 0.3398 - val_mae: 0.5000 - val_acc: 0.8625\n",
            "Epoch 11/20\n",
            "80/80 [==============================] - 11s 141ms/step - loss: 0.0090 - mae: 0.5000 - acc: 1.0000 - val_loss: 0.3870 - val_mae: 0.5000 - val_acc: 0.8750\n",
            "Epoch 12/20\n",
            "80/80 [==============================] - 11s 141ms/step - loss: 0.0058 - mae: 0.5000 - acc: 1.0000 - val_loss: 0.3982 - val_mae: 0.5000 - val_acc: 0.8750\n",
            "Epoch 13/20\n",
            "80/80 [==============================] - 11s 141ms/step - loss: 0.0050 - mae: 0.5000 - acc: 1.0000 - val_loss: 0.4451 - val_mae: 0.5000 - val_acc: 0.9250\n",
            "Epoch 14/20\n",
            "80/80 [==============================] - 11s 141ms/step - loss: 1.8746 - mae: 0.5000 - acc: 0.8687 - val_loss: 4.4732 - val_mae: 0.5000 - val_acc: 0.3875\n",
            "Epoch 15/20\n",
            "80/80 [==============================] - 11s 140ms/step - loss: 0.6817 - mae: 0.5000 - acc: 0.6062 - val_loss: 0.8302 - val_mae: 0.5000 - val_acc: 0.6875\n",
            "Epoch 16/20\n",
            "80/80 [==============================] - 11s 140ms/step - loss: 0.4926 - mae: 0.5000 - acc: 0.7719 - val_loss: 0.4018 - val_mae: 0.5000 - val_acc: 0.8375\n",
            "Epoch 17/20\n",
            "80/80 [==============================] - 11s 139ms/step - loss: 0.5015 - mae: 0.5000 - acc: 0.7812 - val_loss: 0.5402 - val_mae: 0.5000 - val_acc: 0.8250\n",
            "Epoch 18/20\n",
            "80/80 [==============================] - 11s 140ms/step - loss: 0.6283 - mae: 0.5000 - acc: 0.8281 - val_loss: 0.7639 - val_mae: 0.5000 - val_acc: 0.5750\n",
            "Epoch 19/20\n",
            "80/80 [==============================] - 11s 137ms/step - loss: 0.6854 - mae: 0.5000 - acc: 0.5156 - val_loss: 0.5630 - val_mae: 0.5000 - val_acc: 0.6500\n",
            "Epoch 20/20\n",
            "80/80 [==============================] - 11s 137ms/step - loss: 0.5560 - mae: 0.5000 - acc: 0.7094 - val_loss: 0.4948 - val_mae: 0.5000 - val_acc: 0.7250\n",
            "25/25 [==============================] - 1s 26ms/step - loss: 0.5484 - mae: 0.5000 - acc: 0.7200\n"
          ]
        }
      ],
      "source": [
        "model.compile(loss='sparse_categorical_crossentropy', optimizer='adam', metrics=['mae', 'acc'])\n",
        "\n",
        "print(model.summary())\n",
        "\n",
        "history = model.fit(X_train, Y_train, validation_split=0.2, batch_size=batch_size, epochs=nb_epoch)\n",
        "score = model.evaluate(X_test, Y_test, batch_size=batch_size)"
      ]
    },
    {
      "cell_type": "code",
      "execution_count": null,
      "metadata": {
        "colab": {
          "background_save": true
        },
        "id": "u9j-k2KMQ15R",
        "outputId": "e70f8201-2230-4766-fcc0-dd7c639b934e"
      },
      "outputs": [
        {
          "name": "stdout",
          "output_type": "stream",
          "text": [
            "dict_keys(['loss', 'mae', 'acc', 'val_loss', 'val_mae', 'val_acc'])\n"
          ]
        },
        {
          "data": {
            "image/png": "[encoded data removed]",
            "text/plain": [
              "<Figure size 432x288 with 1 Axes>"
            ]
          },
          "metadata": {
            "tags": []
          },
          "output_type": "display_data"
        },
        {
          "data": {
            "image/png": "[encoded data removed]",
            "text/plain": [
              "<Figure size 432x288 with 1 Axes>"
            ]
          },
          "metadata": {
            "tags": []
          },
          "output_type": "display_data"
        }
      ],
      "source": [
        "# list all data in history\n",
        "print(history.history.keys())\n",
        "# summarize history for accuracy\n",
        "plt.plot(history.history['acc'])\n",
        "plt.plot(history.history['val_acc'])\n",
        "plt.title('model accuracy')\n",
        "plt.ylabel('accuracy')\n",
        "plt.xlabel('epoch')\n",
        "plt.legend(['train', 'test'], loc='upper left')\n",
        "plt.show()\n",
        "# summarize history for loss\n",
        "plt.plot(history.history['loss'])\n",
        "plt.plot(history.history['val_loss'])\n",
        "plt.title('model loss')\n",
        "plt.ylabel('loss')\n",
        "plt.xlabel('epoch')\n",
        "plt.legend(['train', 'test'], loc='upper left')\n",
        "plt.show()"
      ]
    },
    {
      "cell_type": "code",
      "execution_count": null,
      "metadata": {
        "colab": {
          "background_save": true
        },
        "id": "7QBlr-UenGHj",
        "outputId": "f3d234e3-26cb-4bd7-de6b-55e911b26194"
      },
      "outputs": [
        {
          "name": "stdout",
          "output_type": "stream",
          "text": [
            "4/4 [==============================] - 1s 114ms/step - loss: 0.5484 - mae: 0.5000 - acc: 0.7200\n"
          ]
        }
      ],
      "source": [
        "score = model.evaluate(X_test, Y_test)"
      ]
    },
    {
      "cell_type": "code",
      "execution_count": null,
      "metadata": {
        "colab": {
          "background_save": true
        },
        "id": "woBffvESnOO8"
      },
      "outputs": [],
      "source": [
        "cnn = tf.keras.models.Sequential()"
      ]
    },
    {
      "cell_type": "code",
      "execution_count": null,
      "metadata": {
        "colab": {
          "background_save": true
        },
        "id": "s2rXnyCrnd5d",
        "outputId": "11013e99-457a-4880-8f24-78253697719e"
      },
      "outputs": [
        {
          "name": "stdout",
          "output_type": "stream",
          "text": [
            "Model: \"sequential_2\"\n",
            "_________________________________________________________________\n",
            "Layer (type)                 Output Shape              Param #   \n",
            "=================================================================\n",
            "conv1d_6 (Conv1D)            (None, 4097, 32)          192       \n",
            "_________________________________________________________________\n",
            "max_pooling1d_2 (MaxPooling1 (None, 2049, 32)          0         \n",
            "_________________________________________________________________\n",
            "dropout_2 (Dropout)          (None, 2049, 32)          0         \n",
            "_________________________________________________________________\n",
            "conv1d_7 (Conv1D)            (None, 2049, 13)          2093      \n",
            "_________________________________________________________________\n",
            "max_pooling1d_3 (MaxPooling1 (None, 1025, 13)          0         \n",
            "_________________________________________________________________\n",
            "dropout_3 (Dropout)          (None, 1025, 13)          0         \n",
            "_________________________________________________________________\n",
            "conv1d_8 (Conv1D)            (None, 1025, 128)         8448      \n",
            "_________________________________________________________________\n",
            "max_pooling1d_4 (MaxPooling1 (None, 513, 128)          0         \n",
            "_________________________________________________________________\n",
            "dropout_4 (Dropout)          (None, 513, 128)          0         \n",
            "_________________________________________________________________\n",
            "flatten_2 (Flatten)          (None, 65664)             0         \n",
            "_________________________________________________________________\n",
            "dense_6 (Dense)              (None, 512)               33620480  \n",
            "_________________________________________________________________\n",
            "dropout_5 (Dropout)          (None, 512)               0         \n",
            "_________________________________________________________________\n",
            "dense_7 (Dense)              (None, 1024)              525312    \n",
            "_________________________________________________________________\n",
            "dropout_6 (Dropout)          (None, 1024)              0         \n",
            "_________________________________________________________________\n",
            "dense_8 (Dense)              (None, 2)                 2050      \n",
            "=================================================================\n",
            "Total params: 34,158,575\n",
            "Trainable params: 34,158,575\n",
            "Non-trainable params: 0\n",
            "_________________________________________________________________\n"
          ]
        }
      ],
      "source": [
        "#First CNN layer  with 32 filters, conv window 5, relu activation and same padding\n",
        "cnn.add(Conv1D(filters=32, kernel_size=(5,), padding='same', activation=tf.keras.layers.LeakyReLU(alpha=0.001), input_shape = (X_train.shape[1],1)))\n",
        "cnn.add(MaxPool1D(pool_size=(5,), strides=2, padding='same'))\n",
        "cnn.add(Dropout(0.5))\n",
        "#Second CNN layer  with 13 filters, conv window 5, relu activation and same padding\n",
        "cnn.add(Conv1D(filters=13, kernel_size=(5,), padding='same', activation=tf.keras.layers.LeakyReLU(alpha=0.001)))\n",
        "cnn.add(MaxPool1D(pool_size=(5,), strides=2, padding='same'))\n",
        "cnn.add(Dropout(0.5))\n",
        "#Third CNN layer with 64 filters, conv window 5, relu activation and same padding\n",
        "cnn.add(Conv1D(filters=128, kernel_size=(5,), padding='same', activation=tf.keras.layers.LeakyReLU(alpha=0.001)))\n",
        "#Fourth CNN layer with Max pooling\n",
        "cnn.add(MaxPool1D(pool_size=(5,), strides=2, padding='same'))\n",
        "cnn.add(Dropout(0.5))\n",
        "#Flatten the output\n",
        "cnn.add(Flatten())\n",
        "#Add a dense layer with 512 neurons\n",
        "cnn.add(Dense(units = 512, activation=tf.keras.layers.LeakyReLU(alpha=0.001)))\n",
        "cnn.add(Dropout(0.5))\n",
        "#Add a dense layer with 1024 neurons\n",
        "cnn.add(Dense(units = 1024, activation=tf.keras.layers.LeakyReLU(alpha=0.001)))\n",
        "cnn.add(Dropout(0.5))\n",
        "#Softmax as last layer with two outputs\n",
        "cnn.add(Dense(units = 2, activation='softmax'))\n",
        "cnn.summary()"
      ]
    },
    {
      "cell_type": "code",
      "execution_count": null,
      "metadata": {
        "colab": {
          "background_save": true,
          "base_uri": "https://localhost:8080/"
        },
        "id": "HbWF47xrntQ1",
        "outputId": "e4ebf6c4-97b4-4328-af35-62bc00f40cb5"
      },
      "outputs": [
        {
          "name": "stdout",
          "output_type": "stream",
          "text": [
            "Model: \"sequential_2\"\n",
            "_________________________________________________________________\n",
            "Layer (type)                 Output Shape              Param #   \n",
            "=================================================================\n",
            "conv1d_6 (Conv1D)            (None, 4097, 32)          192       \n",
            "_________________________________________________________________\n",
            "max_pooling1d_2 (MaxPooling1 (None, 2049, 32)          0         \n",
            "_________________________________________________________________\n",
            "dropout_2 (Dropout)          (None, 2049, 32)          0         \n",
            "_________________________________________________________________\n",
            "conv1d_7 (Conv1D)            (None, 2049, 13)          2093      \n",
            "_________________________________________________________________\n",
            "max_pooling1d_3 (MaxPooling1 (None, 1025, 13)          0         \n",
            "_________________________________________________________________\n",
            "dropout_3 (Dropout)          (None, 1025, 13)          0         \n",
            "_________________________________________________________________\n",
            "conv1d_8 (Conv1D)            (None, 1025, 128)         8448      \n",
            "_________________________________________________________________\n",
            "max_pooling1d_4 (MaxPooling1 (None, 513, 128)          0         \n",
            "_________________________________________________________________\n",
            "dropout_4 (Dropout)          (None, 513, 128)          0         \n",
            "_________________________________________________________________\n",
            "flatten_2 (Flatten)          (None, 65664)             0         \n",
            "_________________________________________________________________\n",
            "dense_6 (Dense)              (None, 512)               33620480  \n",
            "_________________________________________________________________\n",
            "dropout_5 (Dropout)          (None, 512)               0         \n",
            "_________________________________________________________________\n",
            "dense_7 (Dense)              (None, 1024)              525312    \n",
            "_________________________________________________________________\n",
            "dropout_6 (Dropout)          (None, 1024)              0         \n",
            "_________________________________________________________________\n",
            "dense_8 (Dense)              (None, 2)                 2050      \n",
            "=================================================================\n",
            "Total params: 34,158,575\n",
            "Trainable params: 34,158,575\n",
            "Non-trainable params: 0\n",
            "_________________________________________________________________\n",
            "None\n",
            "Epoch 1/20\n",
            "80/80 [==============================] - 78s 968ms/step - loss: 372.3542 - mae: 0.5000 - acc: 0.5281 - val_loss: 2.8330 - val_mae: 0.5000 - val_acc: 0.6500\n",
            "Epoch 2/20\n",
            "80/80 [==============================] - 77s 969ms/step - loss: 1.6088 - mae: 0.5000 - acc: 0.6469 - val_loss: 26.3454 - val_mae: 0.5000 - val_acc: 0.3500\n",
            "Epoch 3/20\n",
            "80/80 [==============================] - 79s 985ms/step - loss: 1.1015 - mae: 0.5000 - acc: 0.7531 - val_loss: 10.7101 - val_mae: 0.5000 - val_acc: 0.3500\n",
            "Epoch 4/20\n",
            "80/80 [==============================] - 78s 971ms/step - loss: 1.3717 - mae: 0.5000 - acc: 0.7000 - val_loss: 1.0086 - val_mae: 0.5000 - val_acc: 0.6500\n",
            "Epoch 5/20\n",
            "80/80 [==============================] - 78s 983ms/step - loss: 1.2597 - mae: 0.5000 - acc: 0.7344 - val_loss: 4.1318 - val_mae: 0.5000 - val_acc: 0.3500\n",
            "Epoch 6/20\n",
            "80/80 [==============================] - 78s 974ms/step - loss: 1.0247 - mae: 0.5000 - acc: 0.7437 - val_loss: 24.5667 - val_mae: 0.5000 - val_acc: 0.3500\n",
            "Epoch 7/20\n",
            "80/80 [==============================] - 78s 982ms/step - loss: 1.1238 - mae: 0.5000 - acc: 0.7625 - val_loss: 14.9937 - val_mae: 0.5000 - val_acc: 0.3500\n",
            "Epoch 8/20\n",
            "80/80 [==============================] - 78s 974ms/step - loss: 1.1399 - mae: 0.5000 - acc: 0.8219 - val_loss: 4.2984 - val_mae: 0.5000 - val_acc: 0.3500\n",
            "Epoch 9/20\n",
            "80/80 [==============================] - 77s 963ms/step - loss: 0.7610 - mae: 0.5000 - acc: 0.7719 - val_loss: 6.8789 - val_mae: 0.5000 - val_acc: 0.3500\n",
            "Epoch 10/20\n",
            "80/80 [==============================] - 78s 976ms/step - loss: 0.6095 - mae: 0.5000 - acc: 0.8375 - val_loss: 6.6287 - val_mae: 0.5000 - val_acc: 0.3500\n",
            "Epoch 11/20\n",
            "80/80 [==============================] - 79s 987ms/step - loss: 0.4964 - mae: 0.5000 - acc: 0.8562 - val_loss: 9.2626 - val_mae: 0.5000 - val_acc: 0.3500\n",
            "Epoch 12/20\n",
            "80/80 [==============================] - 79s 986ms/step - loss: 0.8980 - mae: 0.5000 - acc: 0.8219 - val_loss: 3.9962 - val_mae: 0.5000 - val_acc: 0.3500\n",
            "Epoch 13/20\n",
            "80/80 [==============================] - 79s 985ms/step - loss: 0.6136 - mae: 0.5000 - acc: 0.8438 - val_loss: 7.1680 - val_mae: 0.5000 - val_acc: 0.3500\n",
            "Epoch 14/20\n",
            "80/80 [==============================] - 78s 980ms/step - loss: 1.0498 - mae: 0.5000 - acc: 0.7656 - val_loss: 6.3242 - val_mae: 0.5000 - val_acc: 0.3500\n",
            "Epoch 15/20\n",
            "80/80 [==============================] - 78s 977ms/step - loss: 0.3853 - mae: 0.5000 - acc: 0.8687 - val_loss: 4.1755 - val_mae: 0.5000 - val_acc: 0.3500\n",
            "Epoch 16/20\n",
            "80/80 [==============================] - 78s 980ms/step - loss: 0.8650 - mae: 0.5000 - acc: 0.8188 - val_loss: 7.4834 - val_mae: 0.5000 - val_acc: 0.3500\n",
            "Epoch 17/20\n",
            "80/80 [==============================] - 79s 983ms/step - loss: 0.7045 - mae: 0.5000 - acc: 0.8219 - val_loss: 6.4885 - val_mae: 0.5000 - val_acc: 0.3500\n",
            "Epoch 18/20\n",
            "80/80 [==============================] - 79s 989ms/step - loss: 0.4857 - mae: 0.5000 - acc: 0.8906 - val_loss: 6.0999 - val_mae: 0.5000 - val_acc: 0.3500\n",
            "Epoch 19/20\n",
            "80/80 [==============================] - 78s 979ms/step - loss: 0.5270 - mae: 0.5000 - acc: 0.8750 - val_loss: 4.0191 - val_mae: 0.5000 - val_acc: 0.3500\n",
            "Epoch 20/20\n",
            "80/80 [==============================] - 78s 974ms/step - loss: 0.3178 - mae: 0.5000 - acc: 0.8875 - val_loss: 4.7878 - val_mae: 0.5000 - val_acc: 0.3500\n",
            "25/25 [==============================] - 1s 48ms/step - loss: 4.0663 - mae: 0.5000 - acc: 0.4000\n"
          ]
        }
      ],
      "source": [
        "cnn.compile(loss='sparse_categorical_crossentropy', optimizer='adam', metrics=['mae', 'acc'])\n",
        "\n",
        "print(cnn.summary())\n",
        "\n",
        "history = cnn.fit(X_train, Y_train, validation_split=0.2, batch_size=batch_size, epochs=nb_epoch)\n",
        "score = cnn.evaluate(X_test, Y_test, batch_size=batch_size)"
      ]
    },
    {
      "cell_type": "code",
      "execution_count": null,
      "metadata": {
        "colab": {
          "background_save": true
        },
        "id": "TDJq3syNRB3W",
        "outputId": "65032f5a-76e1-4655-adb7-0525fee6a132"
      },
      "outputs": [
        {
          "name": "stdout",
          "output_type": "stream",
          "text": [
            "dict_keys(['loss', 'mae', 'acc', 'val_loss', 'val_mae', 'val_acc'])\n"
          ]
        },
        {
          "data": {
            "image/png": "[encoded data removed]",
            "text/plain": [
              "<Figure size 432x288 with 1 Axes>"
            ]
          },
          "metadata": {},
          "output_type": "display_data"
        },
        {
          "data": {
            "image/png": "[encoded data removed]",
            "text/plain": [
              "<Figure size 432x288 with 1 Axes>"
            ]
          },
          "metadata": {},
          "output_type": "display_data"
        }
      ],
      "source": [
        "# list all data in history\n",
        "print(history.history.keys())\n",
        "# summarize history for accuracy\n",
        "plt.plot(history.history['acc'])\n",
        "plt.plot(history.history['val_acc'])\n",
        "plt.title('model accuracy')\n",
        "plt.ylabel('accuracy')\n",
        "plt.xlabel('epoch')\n",
        "plt.legend(['train', 'test'], loc='upper left')\n",
        "plt.show()\n",
        "# summarize history for loss\n",
        "plt.plot(history.history['loss'])\n",
        "plt.plot(history.history['val_loss'])\n",
        "plt.title('model loss')\n",
        "plt.ylabel('loss')\n",
        "plt.xlabel('epoch')\n",
        "plt.legend(['train', 'test'], loc='upper left')\n",
        "plt.show()"
      ]
    },
    {
      "cell_type": "code",
      "execution_count": null,
      "metadata": {
        "colab": {
          "background_save": true
        },
        "id": "vndS9lhvpQWh",
        "outputId": "61734df4-d8e3-43c7-ee7a-a1fb68d692d1"
      },
      "outputs": [
        {
          "name": "stdout",
          "output_type": "stream",
          "text": [
            "4/4 [==============================] - 1s 100ms/step - loss: 4.0663 - mae: 0.5000 - acc: 0.4000\n"
          ]
        }
      ],
      "source": [
        "score = cnn.evaluate(X_test, Y_test)"
      ]
    },
    {
      "cell_type": "code",
      "execution_count": null,
      "metadata": {
        "colab": {
          "background_save": true
        },
        "id": "7HCftzDqpzou"
      },
      "outputs": [],
      "source": [
        "ann = tf.keras.models.Sequential()\n",
        "ann.add(tf.keras.layers.Dense(units = 6, activation = 'relu'))\n",
        "ann.add(tf.keras.layers.Dense(units = 6, activation = 'relu'))\n",
        "ann.add(tf.keras.layers.Dense(units = 1))"
      ]
    },
    {
      "cell_type": "code",
      "execution_count": null,
      "metadata": {
        "colab": {
          "background_save": true
        },
        "id": "oDc6VWgVp8zd",
        "outputId": "1c81a17f-d886-452a-ec77-cdfa0003a15f"
      },
      "outputs": [
        {
          "name": "stdout",
          "output_type": "stream",
          "text": [
            "Epoch 1/20\n",
            "80/80 [==============================] - 1s 8ms/step - loss: 14.6152 - mae: 8.3462 - acc: 0.4949 - val_loss: 13.6488 - val_mae: 9.2775 - val_acc: 0.5255\n",
            "Epoch 2/20\n",
            "80/80 [==============================] - 0s 6ms/step - loss: 14.6057 - mae: 7.1911 - acc: 0.4945 - val_loss: 13.6519 - val_mae: 6.3420 - val_acc: 0.5233\n",
            "Epoch 3/20\n",
            "80/80 [==============================] - 1s 6ms/step - loss: 14.5524 - mae: 4.2354 - acc: 0.4826 - val_loss: 13.6427 - val_mae: 4.4338 - val_acc: 0.5155\n",
            "Epoch 4/20\n",
            "80/80 [==============================] - 1s 6ms/step - loss: 14.5391 - mae: 3.7500 - acc: 0.4900 - val_loss: 13.6233 - val_mae: 3.9605 - val_acc: 0.5044\n",
            "Epoch 5/20\n",
            "80/80 [==============================] - 1s 6ms/step - loss: 13.3331 - mae: 5.5961 - acc: 0.4420 - val_loss: 8.3180 - val_mae: 11.7636 - val_acc: 0.3500\n",
            "Epoch 6/20\n",
            "80/80 [==============================] - 1s 6ms/step - loss: 8.3180 - mae: 10.1668 - acc: 0.4125 - val_loss: 8.3180 - val_mae: 12.0554 - val_acc: 0.3500\n",
            "Epoch 7/20\n",
            "80/80 [==============================] - 1s 7ms/step - loss: 8.3180 - mae: 10.1959 - acc: 0.4125 - val_loss: 8.3180 - val_mae: 12.0555 - val_acc: 0.3500\n",
            "Epoch 8/20\n",
            "80/80 [==============================] - 1s 7ms/step - loss: 8.3180 - mae: 10.1959 - acc: 0.4125 - val_loss: 8.3180 - val_mae: 12.0555 - val_acc: 0.3500\n",
            "Epoch 9/20\n",
            "80/80 [==============================] - 1s 7ms/step - loss: 8.3180 - mae: 10.1959 - acc: 0.4125 - val_loss: 8.3180 - val_mae: 12.0555 - val_acc: 0.3500\n",
            "Epoch 10/20\n",
            "80/80 [==============================] - 0s 6ms/step - loss: 8.3180 - mae: 10.1959 - acc: 0.4125 - val_loss: 8.3180 - val_mae: 12.0555 - val_acc: 0.3500\n",
            "Epoch 11/20\n",
            "80/80 [==============================] - 1s 6ms/step - loss: 8.3180 - mae: 10.1959 - acc: 0.4125 - val_loss: 8.3180 - val_mae: 12.0555 - val_acc: 0.3500\n",
            "Epoch 12/20\n",
            "80/80 [==============================] - 0s 6ms/step - loss: 8.3180 - mae: 10.1959 - acc: 0.4125 - val_loss: 8.3180 - val_mae: 12.0555 - val_acc: 0.3500\n",
            "Epoch 13/20\n",
            "80/80 [==============================] - 1s 6ms/step - loss: 8.3180 - mae: 10.1959 - acc: 0.4125 - val_loss: 8.3180 - val_mae: 12.0555 - val_acc: 0.3500\n",
            "Epoch 14/20\n",
            "80/80 [==============================] - 1s 6ms/step - loss: 8.3180 - mae: 10.1959 - acc: 0.4125 - val_loss: 8.3180 - val_mae: 12.0555 - val_acc: 0.3500\n",
            "Epoch 15/20\n",
            "80/80 [==============================] - 1s 6ms/step - loss: 8.3180 - mae: 10.1959 - acc: 0.4125 - val_loss: 8.3180 - val_mae: 12.0555 - val_acc: 0.3500\n",
            "Epoch 16/20\n",
            "80/80 [==============================] - 1s 6ms/step - loss: 8.3180 - mae: 10.1959 - acc: 0.4125 - val_loss: 8.3180 - val_mae: 12.0555 - val_acc: 0.3500\n",
            "Epoch 17/20\n",
            "80/80 [==============================] - 1s 7ms/step - loss: 8.3180 - mae: 10.1959 - acc: 0.4125 - val_loss: 8.3180 - val_mae: 12.0555 - val_acc: 0.3500\n",
            "Epoch 18/20\n",
            "80/80 [==============================] - 1s 6ms/step - loss: 8.3180 - mae: 10.1959 - acc: 0.4125 - val_loss: 8.3180 - val_mae: 12.0555 - val_acc: 0.3500\n",
            "Epoch 19/20\n",
            "80/80 [==============================] - 1s 6ms/step - loss: 8.3180 - mae: 10.1959 - acc: 0.4125 - val_loss: 8.3180 - val_mae: 12.0555 - val_acc: 0.3500\n",
            "Epoch 20/20\n",
            "80/80 [==============================] - 0s 6ms/step - loss: 8.3180 - mae: 10.1959 - acc: 0.4125 - val_loss: 8.3180 - val_mae: 12.0555 - val_acc: 0.3500\n",
            "25/25 [==============================] - 0s 3ms/step - loss: 8.3180 - mae: 10.4839 - acc: 0.4000\n"
          ]
        }
      ],
      "source": [
        "ann.compile(loss='sparse_categorical_crossentropy', optimizer='adam', metrics=['mae', 'acc'])\n",
        "\n",
        "\n",
        "history = ann.fit(X_train, Y_train, validation_split=0.2, batch_size=batch_size, epochs=nb_epoch)\n",
        "score = ann.evaluate(X_test, Y_test, batch_size=batch_size)"
      ]
    },
    {
      "cell_type": "code",
      "execution_count": null,
      "metadata": {
        "colab": {
          "background_save": true
        },
        "id": "ZsctyJnxRNdb",
        "outputId": "0f7bfd00-3a57-41d8-9eed-53b3817aabb4"
      },
      "outputs": [
        {
          "name": "stdout",
          "output_type": "stream",
          "text": [
            "dict_keys(['loss', 'mae', 'acc', 'val_loss', 'val_mae', 'val_acc'])\n"
          ]
        },
        {
          "data": {
            "image/png": "[encoded data removed]",
            "text/plain": [
              "<Figure size 432x288 with 1 Axes>"
            ]
          },
          "metadata": {},
          "output_type": "display_data"
        },
        {
          "data": {
            "image/png": "[encoded data removed]",
            "text/plain": [
              "<Figure size 432x288 with 1 Axes>"
            ]
          },
          "metadata": {},
          "output_type": "display_data"
        }
      ],
      "source": [
        "# list all data in history\n",
        "print(history.history.keys())\n",
        "# summarize history for accuracy\n",
        "plt.plot(history.history['acc'])\n",
        "plt.plot(history.history['val_acc'])\n",
        "plt.title('model accuracy')\n",
        "plt.ylabel('accuracy')\n",
        "plt.xlabel('epoch')\n",
        "plt.legend(['train', 'test'], loc='upper left')\n",
        "plt.show()\n",
        "# summarize history for loss\n",
        "plt.plot(history.history['loss'])\n",
        "plt.plot(history.history['val_loss'])\n",
        "plt.title('model loss')\n",
        "plt.ylabel('loss')\n",
        "plt.xlabel('epoch')\n",
        "plt.legend(['train', 'test'], loc='upper left')\n",
        "plt.show()"
      ]
    },
    {
      "cell_type": "code",
      "execution_count": null,
      "metadata": {
        "colab": {
          "background_save": true
        },
        "id": "R8zKwyTkqUT5",
        "outputId": "e50cadb3-bd3f-4f06-9dc5-6a5a1aa5b641"
      },
      "outputs": [
        {
          "name": "stdout",
          "output_type": "stream",
          "text": [
            "4/4 [==============================] - 0s 11ms/step - loss: 8.3180 - mae: 10.4839 - acc: 0.4000\n"
          ]
        }
      ],
      "source": [
        "score = ann.evaluate(X_test, Y_test)"
      ]
    }
  ],
  "metadata": {
    "colab": {
      "provenance": []
    },
    "kernelspec": {
      "display_name": "Python 3",
      "name": "python3"
    },
    "language_info": {
      "name": "python"
    }
  },
  "nbformat": 4,
  "nbformat_minor": 0
}