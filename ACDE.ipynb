{
  "nbformat": 4,
  "nbformat_minor": 0,
  "metadata": {
    "colab": {
      "provenance": []
    },
    "kernelspec": {
      "name": "python3",
      "display_name": "Python 3"
    },
    "language_info": {
      "name": "python"
    }
  },
  "cells": [
    {
      "cell_type": "code",
      "metadata": {
        "colab": {
          "base_uri": "https://localhost:8080/"
        },
        "id": "EuglXV36NKR7",
        "outputId": "d9e1fb37-609a-4114-c468-e7a81b396dce"
      },
      "source": [
        "!unzip Z.zip -d 'Set A'\n",
        "!unzip O.zip -d 'Set B'\n",
        "!unzip N.zip -d 'Set C'\n",
        "!unzip F.zip -d 'Set D'\n",
        "!unzip S.zip -d 'Set E'"
      ],
      "execution_count": null,
      "outputs": [
        {
          "output_type": "stream",
          "text": [
            "Archive:  Z.zip\n",
            "  inflating: Set A/Z092.txt          \n",
            "  inflating: Set A/Z002.txt          \n",
            "  inflating: Set A/Z003.txt          \n",
            "  inflating: Set A/Z004.txt          \n",
            "  inflating: Set A/Z005.txt          \n",
            "  inflating: Set A/Z006.txt          \n",
            "  inflating: Set A/Z007.txt          \n",
            "  inflating: Set A/Z008.txt          \n",
            "  inflating: Set A/Z009.txt          \n",
            "  inflating: Set A/Z010.txt          \n",
            "  inflating: Set A/Z011.txt          \n",
            "  inflating: Set A/Z012.txt          \n",
            "  inflating: Set A/Z013.txt          \n",
            "  inflating: Set A/Z014.txt          \n",
            "  inflating: Set A/Z015.txt          \n",
            "  inflating: Set A/Z016.txt          \n",
            "  inflating: Set A/Z017.txt          \n",
            "  inflating: Set A/Z018.txt          \n",
            "  inflating: Set A/Z019.txt          \n",
            "  inflating: Set A/Z020.txt          \n",
            "  inflating: Set A/Z021.txt          \n",
            "  inflating: Set A/Z022.txt          \n",
            "  inflating: Set A/Z023.txt          \n",
            "  inflating: Set A/Z024.txt          \n",
            "  inflating: Set A/Z025.txt          \n",
            "  inflating: Set A/Z026.txt          \n",
            "  inflating: Set A/Z027.txt          \n",
            "  inflating: Set A/Z028.txt          \n",
            "  inflating: Set A/Z029.txt          \n",
            "  inflating: Set A/Z030.txt          \n",
            "  inflating: Set A/Z031.txt          \n",
            "  inflating: Set A/Z032.txt          \n",
            "  inflating: Set A/Z033.txt          \n",
            "  inflating: Set A/Z034.txt          \n",
            "  inflating: Set A/Z035.txt          \n",
            "  inflating: Set A/Z036.txt          \n",
            "  inflating: Set A/Z037.txt          \n",
            "  inflating: Set A/Z038.txt          \n",
            "  inflating: Set A/Z039.txt          \n",
            "  inflating: Set A/Z040.txt          \n",
            "  inflating: Set A/Z041.txt          \n",
            "  inflating: Set A/Z042.txt          \n",
            "  inflating: Set A/Z043.txt          \n",
            "  inflating: Set A/Z044.txt          \n",
            "  inflating: Set A/Z045.txt          \n",
            "  inflating: Set A/Z046.txt          \n",
            "  inflating: Set A/Z047.txt          \n",
            "  inflating: Set A/Z048.txt          \n",
            "  inflating: Set A/Z049.txt          \n",
            "  inflating: Set A/Z050.txt          \n",
            "  inflating: Set A/Z051.txt          \n",
            "  inflating: Set A/Z052.txt          \n",
            "  inflating: Set A/Z053.txt          \n",
            "  inflating: Set A/Z054.txt          \n",
            "  inflating: Set A/Z055.txt          \n",
            "  inflating: Set A/Z056.txt          \n",
            "  inflating: Set A/Z057.txt          \n",
            "  inflating: Set A/Z058.txt          \n",
            "  inflating: Set A/Z059.txt          \n",
            "  inflating: Set A/Z060.txt          \n",
            "  inflating: Set A/Z061.txt          \n",
            "  inflating: Set A/Z062.txt          \n",
            "  inflating: Set A/Z063.txt          \n",
            "  inflating: Set A/Z064.txt          \n",
            "  inflating: Set A/Z065.txt          \n",
            "  inflating: Set A/Z066.txt          \n",
            "  inflating: Set A/Z067.txt          \n",
            "  inflating: Set A/Z068.txt          \n",
            "  inflating: Set A/Z069.txt          \n",
            "  inflating: Set A/Z070.txt          \n",
            "  inflating: Set A/Z071.txt          \n",
            "  inflating: Set A/Z072.txt          \n",
            "  inflating: Set A/Z073.txt          \n",
            "  inflating: Set A/Z074.txt          \n",
            "  inflating: Set A/Z075.txt          \n",
            "  inflating: Set A/Z076.txt          \n",
            "  inflating: Set A/Z077.txt          \n",
            "  inflating: Set A/Z078.txt          \n",
            "  inflating: Set A/Z079.txt          \n",
            "  inflating: Set A/Z080.txt          \n",
            "  inflating: Set A/Z081.txt          \n",
            "  inflating: Set A/Z082.txt          \n",
            "  inflating: Set A/Z083.txt          \n",
            "  inflating: Set A/Z084.txt          \n",
            "  inflating: Set A/Z085.txt          \n",
            "  inflating: Set A/Z086.txt          \n",
            "  inflating: Set A/Z087.txt          \n",
            "  inflating: Set A/Z088.txt          \n",
            "  inflating: Set A/Z089.txt          \n",
            "  inflating: Set A/Z090.txt          \n",
            "  inflating: Set A/Z091.txt          \n",
            "  inflating: Set A/Z001.txt          \n",
            "  inflating: Set A/Z093.txt          \n",
            "  inflating: Set A/Z094.txt          \n",
            "  inflating: Set A/Z095.txt          \n",
            "  inflating: Set A/Z096.txt          \n",
            "  inflating: Set A/Z097.txt          \n",
            "  inflating: Set A/Z098.txt          \n",
            "  inflating: Set A/Z099.txt          \n",
            "  inflating: Set A/Z100.txt          \n",
            "Archive:  O.zip\n",
            "  inflating: Set B/O099.txt          \n",
            "  inflating: Set B/O100.txt          \n",
            "  inflating: Set B/O098.txt          \n",
            "  inflating: Set B/O097.txt          \n",
            "  inflating: Set B/O096.txt          \n",
            "  inflating: Set B/O095.txt          \n",
            "  inflating: Set B/O094.txt          \n",
            "  inflating: Set B/O093.txt          \n",
            "  inflating: Set B/O092.txt          \n",
            "  inflating: Set B/O091.txt          \n",
            "  inflating: Set B/O090.txt          \n",
            "  inflating: Set B/O089.txt          \n",
            "  inflating: Set B/O088.txt          \n",
            "  inflating: Set B/O087.txt          \n",
            "  inflating: Set B/O086.txt          \n",
            "  inflating: Set B/O085.txt          \n",
            "  inflating: Set B/O084.txt          \n",
            "  inflating: Set B/O083.txt          \n",
            "  inflating: Set B/O082.txt          \n",
            "  inflating: Set B/O081.txt          \n",
            "  inflating: Set B/O080.txt          \n",
            "  inflating: Set B/O079.txt          \n",
            "  inflating: Set B/O078.txt          \n",
            "  inflating: Set B/O077.txt          \n",
            "  inflating: Set B/O076.txt          \n",
            "  inflating: Set B/O075.txt          \n",
            "  inflating: Set B/O074.txt          \n",
            "  inflating: Set B/O073.txt          \n",
            "  inflating: Set B/O072.txt          \n",
            "  inflating: Set B/O071.txt          \n",
            "  inflating: Set B/O070.txt          \n",
            "  inflating: Set B/O069.txt          \n",
            "  inflating: Set B/O068.txt          \n",
            "  inflating: Set B/O067.txt          \n",
            "  inflating: Set B/O066.txt          \n",
            "  inflating: Set B/O065.txt          \n",
            "  inflating: Set B/O064.txt          \n",
            "  inflating: Set B/O063.txt          \n",
            "  inflating: Set B/O062.txt          \n",
            "  inflating: Set B/O061.txt          \n",
            "  inflating: Set B/O060.txt          \n",
            "  inflating: Set B/O059.txt          \n",
            "  inflating: Set B/O058.txt          \n",
            "  inflating: Set B/O057.txt          \n",
            "  inflating: Set B/O056.txt          \n",
            "  inflating: Set B/O055.txt          \n",
            "  inflating: Set B/O054.txt          \n",
            "  inflating: Set B/O053.txt          \n",
            "  inflating: Set B/O052.txt          \n",
            "  inflating: Set B/O051.txt          \n",
            "  inflating: Set B/O050.txt          \n",
            "  inflating: Set B/O049.txt          \n",
            "  inflating: Set B/O048.txt          \n",
            "  inflating: Set B/O047.txt          \n",
            "  inflating: Set B/O046.txt          \n",
            "  inflating: Set B/O045.txt          \n",
            "  inflating: Set B/O044.txt          \n",
            "  inflating: Set B/O043.txt          \n",
            "  inflating: Set B/O042.txt          \n",
            "  inflating: Set B/O041.txt          \n",
            "  inflating: Set B/O040.txt          \n",
            "  inflating: Set B/O039.txt          \n",
            "  inflating: Set B/O038.txt          \n",
            "  inflating: Set B/O037.txt          \n",
            "  inflating: Set B/O036.txt          \n",
            "  inflating: Set B/O035.txt          \n",
            "  inflating: Set B/O034.txt          \n",
            "  inflating: Set B/O033.txt          \n",
            "  inflating: Set B/O032.txt          \n",
            "  inflating: Set B/O031.txt          \n",
            "  inflating: Set B/O030.txt          \n",
            "  inflating: Set B/O029.txt          \n",
            "  inflating: Set B/O028.txt          \n",
            "  inflating: Set B/O027.txt          \n",
            "  inflating: Set B/O026.txt          \n",
            "  inflating: Set B/O025.txt          \n",
            "  inflating: Set B/O024.txt          \n",
            "  inflating: Set B/O023.txt          \n",
            "  inflating: Set B/O022.txt          \n",
            "  inflating: Set B/O021.txt          \n",
            "  inflating: Set B/O020.txt          \n",
            "  inflating: Set B/O019.txt          \n",
            "  inflating: Set B/O018.txt          \n",
            "  inflating: Set B/O017.txt          \n",
            "  inflating: Set B/O016.txt          \n",
            "  inflating: Set B/O015.txt          \n",
            "  inflating: Set B/O014.txt          \n",
            "  inflating: Set B/O013.txt          \n",
            "  inflating: Set B/O012.txt          \n",
            "  inflating: Set B/O011.txt          \n",
            "  inflating: Set B/O010.txt          \n",
            "  inflating: Set B/O009.txt          \n",
            "  inflating: Set B/O008.txt          \n",
            "  inflating: Set B/O007.txt          \n",
            "  inflating: Set B/O006.txt          \n",
            "  inflating: Set B/O005.txt          \n",
            "  inflating: Set B/O004.txt          \n",
            "  inflating: Set B/O003.txt          \n",
            "  inflating: Set B/O002.txt          \n",
            "  inflating: Set B/O001.txt          \n",
            "Archive:  N.zip\n",
            "  inflating: Set C/N001.TXT          \n",
            "  inflating: Set C/N099.TXT          \n",
            "  inflating: Set C/N098.TXT          \n",
            "  inflating: Set C/N097.TXT          \n",
            "  inflating: Set C/N096.TXT          \n",
            "  inflating: Set C/N095.TXT          \n",
            "  inflating: Set C/N094.TXT          \n",
            "  inflating: Set C/N093.TXT          \n",
            "  inflating: Set C/N092.TXT          \n",
            "  inflating: Set C/N091.TXT          \n",
            "  inflating: Set C/N090.TXT          \n",
            "  inflating: Set C/N089.TXT          \n",
            "  inflating: Set C/N088.TXT          \n",
            "  inflating: Set C/N087.TXT          \n",
            "  inflating: Set C/N086.TXT          \n",
            "  inflating: Set C/N085.TXT          \n",
            "  inflating: Set C/N084.TXT          \n",
            "  inflating: Set C/N083.TXT          \n",
            "  inflating: Set C/N082.TXT          \n",
            "  inflating: Set C/N081.TXT          \n",
            "  inflating: Set C/N080.TXT          \n",
            "  inflating: Set C/N079.TXT          \n",
            "  inflating: Set C/N078.TXT          \n",
            "  inflating: Set C/N077.TXT          \n",
            "  inflating: Set C/N076.TXT          \n",
            "  inflating: Set C/N075.TXT          \n",
            "  inflating: Set C/N074.TXT          \n",
            "  inflating: Set C/N073.TXT          \n",
            "  inflating: Set C/N072.TXT          \n",
            "  inflating: Set C/N071.TXT          \n",
            "  inflating: Set C/N070.TXT          \n",
            "  inflating: Set C/N069.TXT          \n",
            "  inflating: Set C/N068.TXT          \n",
            "  inflating: Set C/N067.TXT          \n",
            "  inflating: Set C/N066.TXT          \n",
            "  inflating: Set C/N065.TXT          \n",
            "  inflating: Set C/N064.TXT          \n",
            "  inflating: Set C/N063.TXT          \n",
            "  inflating: Set C/N062.TXT          \n",
            "  inflating: Set C/N061.TXT          \n",
            "  inflating: Set C/N060.TXT          \n",
            "  inflating: Set C/N059.TXT          \n",
            "  inflating: Set C/N058.TXT          \n",
            "  inflating: Set C/N057.TXT          \n",
            "  inflating: Set C/N056.TXT          \n",
            "  inflating: Set C/N055.TXT          \n",
            "  inflating: Set C/N054.TXT          \n",
            "  inflating: Set C/N053.TXT          \n",
            "  inflating: Set C/N052.TXT          \n",
            "  inflating: Set C/N051.TXT          \n",
            "  inflating: Set C/N050.TXT          \n",
            "  inflating: Set C/N049.TXT          \n",
            "  inflating: Set C/N048.TXT          \n",
            "  inflating: Set C/N047.TXT          \n",
            "  inflating: Set C/N046.TXT          \n",
            "  inflating: Set C/N045.TXT          \n",
            "  inflating: Set C/N044.TXT          \n",
            "  inflating: Set C/N043.TXT          \n",
            "  inflating: Set C/N042.TXT          \n",
            "  inflating: Set C/N041.TXT          \n",
            "  inflating: Set C/N040.TXT          \n",
            "  inflating: Set C/N039.TXT          \n",
            "  inflating: Set C/N038.TXT          \n",
            "  inflating: Set C/N037.TXT          \n",
            "  inflating: Set C/N036.TXT          \n",
            "  inflating: Set C/N035.TXT          \n",
            "  inflating: Set C/N034.TXT          \n",
            "  inflating: Set C/N033.TXT          \n",
            "  inflating: Set C/N032.TXT          \n",
            "  inflating: Set C/N031.TXT          \n",
            "  inflating: Set C/N030.TXT          \n",
            "  inflating: Set C/N029.TXT          \n",
            "  inflating: Set C/N028.TXT          \n",
            "  inflating: Set C/N027.TXT          \n",
            "  inflating: Set C/N026.TXT          \n",
            "  inflating: Set C/N025.TXT          \n",
            "  inflating: Set C/N024.TXT          \n",
            "  inflating: Set C/N023.TXT          \n",
            "  inflating: Set C/N022.TXT          \n",
            "  inflating: Set C/N021.TXT          \n",
            "  inflating: Set C/N020.TXT          \n",
            "  inflating: Set C/N019.TXT          \n",
            "  inflating: Set C/N018.TXT          \n",
            "  inflating: Set C/N017.TXT          \n",
            "  inflating: Set C/N016.TXT          \n",
            "  inflating: Set C/N015.TXT          \n",
            "  inflating: Set C/N014.TXT          \n",
            "  inflating: Set C/N013.TXT          \n",
            "  inflating: Set C/N012.TXT          \n",
            "  inflating: Set C/N011.TXT          \n",
            "  inflating: Set C/N010.TXT          \n",
            "  inflating: Set C/N009.TXT          \n",
            "  inflating: Set C/N008.TXT          \n",
            "  inflating: Set C/N007.TXT          \n",
            "  inflating: Set C/N006.TXT          \n",
            "  inflating: Set C/N005.TXT          \n",
            "  inflating: Set C/N004.TXT          \n",
            "  inflating: Set C/N003.TXT          \n",
            "  inflating: Set C/N002.TXT          \n",
            "  inflating: Set C/N100.TXT          \n",
            "Archive:  F.zip\n",
            "  inflating: Set D/F100.txt          \n",
            "  inflating: Set D/F002.txt          \n",
            "  inflating: Set D/F003.txt          \n",
            "  inflating: Set D/F004.txt          \n",
            "  inflating: Set D/F005.txt          \n",
            "  inflating: Set D/F006.txt          \n",
            "  inflating: Set D/F007.txt          \n",
            "  inflating: Set D/F008.txt          \n",
            "  inflating: Set D/F009.txt          \n",
            "  inflating: Set D/F010.txt          \n",
            "  inflating: Set D/F011.txt          \n",
            "  inflating: Set D/F012.txt          \n",
            "  inflating: Set D/F013.txt          \n",
            "  inflating: Set D/F014.txt          \n",
            "  inflating: Set D/F015.txt          \n",
            "  inflating: Set D/F016.txt          \n",
            "  inflating: Set D/F017.txt          \n",
            "  inflating: Set D/F018.txt          \n",
            "  inflating: Set D/F019.txt          \n",
            "  inflating: Set D/F020.txt          \n",
            "  inflating: Set D/F021.txt          \n",
            "  inflating: Set D/F022.txt          \n",
            "  inflating: Set D/F023.txt          \n",
            "  inflating: Set D/F024.txt          \n",
            "  inflating: Set D/F025.txt          \n",
            "  inflating: Set D/F026.txt          \n",
            "  inflating: Set D/F027.txt          \n",
            "  inflating: Set D/F028.txt          \n",
            "  inflating: Set D/F029.txt          \n",
            "  inflating: Set D/F030.txt          \n",
            "  inflating: Set D/F031.txt          \n",
            "  inflating: Set D/F032.txt          \n",
            "  inflating: Set D/F033.txt          \n",
            "  inflating: Set D/F034.txt          \n",
            "  inflating: Set D/F035.txt          \n",
            "  inflating: Set D/F036.txt          \n",
            "  inflating: Set D/F037.txt          \n",
            "  inflating: Set D/F038.txt          \n",
            "  inflating: Set D/F039.txt          \n",
            "  inflating: Set D/F040.txt          \n",
            "  inflating: Set D/F041.txt          \n",
            "  inflating: Set D/F042.txt          \n",
            "  inflating: Set D/F043.txt          \n",
            "  inflating: Set D/F044.txt          \n",
            "  inflating: Set D/F045.txt          \n",
            "  inflating: Set D/F046.txt          \n",
            "  inflating: Set D/F047.txt          \n",
            "  inflating: Set D/F048.txt          \n",
            "  inflating: Set D/F049.txt          \n",
            "  inflating: Set D/F050.txt          \n",
            "  inflating: Set D/F051.txt          \n",
            "  inflating: Set D/F052.txt          \n",
            "  inflating: Set D/F053.txt          \n",
            "  inflating: Set D/F054.txt          \n",
            "  inflating: Set D/F055.txt          \n",
            "  inflating: Set D/F056.txt          \n",
            "  inflating: Set D/F057.txt          \n",
            "  inflating: Set D/F058.txt          \n",
            "  inflating: Set D/F059.txt          \n",
            "  inflating: Set D/F060.txt          \n",
            "  inflating: Set D/F061.txt          \n",
            "  inflating: Set D/F062.txt          \n",
            "  inflating: Set D/F063.txt          \n",
            "  inflating: Set D/F064.txt          \n",
            "  inflating: Set D/F065.txt          \n",
            "  inflating: Set D/F066.txt          \n",
            "  inflating: Set D/F067.txt          \n",
            "  inflating: Set D/F068.txt          \n",
            "  inflating: Set D/F069.txt          \n",
            "  inflating: Set D/F070.txt          \n",
            "  inflating: Set D/F071.txt          \n",
            "  inflating: Set D/F072.txt          \n",
            "  inflating: Set D/F073.txt          \n",
            "  inflating: Set D/F074.txt          \n",
            "  inflating: Set D/F075.txt          \n",
            "  inflating: Set D/F076.txt          \n",
            "  inflating: Set D/F077.txt          \n",
            "  inflating: Set D/F078.txt          \n",
            "  inflating: Set D/F079.txt          \n",
            "  inflating: Set D/F080.txt          \n",
            "  inflating: Set D/F081.txt          \n",
            "  inflating: Set D/F082.txt          \n",
            "  inflating: Set D/F083.txt          \n",
            "  inflating: Set D/F084.txt          \n",
            "  inflating: Set D/F085.txt          \n",
            "  inflating: Set D/F086.txt          \n",
            "  inflating: Set D/F087.txt          \n",
            "  inflating: Set D/F088.txt          \n",
            "  inflating: Set D/F089.txt          \n",
            "  inflating: Set D/F090.txt          \n",
            "  inflating: Set D/F091.txt          \n",
            "  inflating: Set D/F092.txt          \n",
            "  inflating: Set D/F093.txt          \n",
            "  inflating: Set D/F094.txt          \n",
            "  inflating: Set D/F095.txt          \n",
            "  inflating: Set D/F096.txt          \n",
            "  inflating: Set D/F097.txt          \n",
            "  inflating: Set D/F098.txt          \n",
            "  inflating: Set D/F099.txt          \n",
            "  inflating: Set D/F001.txt          \n",
            "Archive:  S.zip\n",
            "  inflating: Set E/S011.txt          \n",
            "  inflating: Set E/S099.txt          \n",
            "  inflating: Set E/S098.txt          \n",
            "  inflating: Set E/S097.txt          \n",
            "  inflating: Set E/S096.txt          \n",
            "  inflating: Set E/S095.txt          \n",
            "  inflating: Set E/S094.txt          \n",
            "  inflating: Set E/S093.txt          \n",
            "  inflating: Set E/S092.txt          \n",
            "  inflating: Set E/S091.txt          \n",
            "  inflating: Set E/S090.txt          \n",
            "  inflating: Set E/S089.txt          \n",
            "  inflating: Set E/S088.txt          \n",
            "  inflating: Set E/S087.txt          \n",
            "  inflating: Set E/S086.txt          \n",
            "  inflating: Set E/S085.txt          \n",
            "  inflating: Set E/S084.txt          \n",
            "  inflating: Set E/S083.txt          \n",
            "  inflating: Set E/S082.txt          \n",
            "  inflating: Set E/S081.txt          \n",
            "  inflating: Set E/S080.txt          \n",
            "  inflating: Set E/S079.txt          \n",
            "  inflating: Set E/S078.txt          \n",
            "  inflating: Set E/S077.txt          \n",
            "  inflating: Set E/S076.txt          \n",
            "  inflating: Set E/S075.txt          \n",
            "  inflating: Set E/S074.txt          \n",
            "  inflating: Set E/S073.txt          \n",
            "  inflating: Set E/S072.txt          \n",
            "  inflating: Set E/S071.txt          \n",
            "  inflating: Set E/S070.txt          \n",
            "  inflating: Set E/S069.txt          \n",
            "  inflating: Set E/S068.txt          \n",
            "  inflating: Set E/S067.txt          \n",
            "  inflating: Set E/S066.txt          \n",
            "  inflating: Set E/S065.txt          \n",
            "  inflating: Set E/S064.txt          \n",
            "  inflating: Set E/S063.txt          \n",
            "  inflating: Set E/S062.txt          \n",
            "  inflating: Set E/S061.txt          \n",
            "  inflating: Set E/S060.txt          \n",
            "  inflating: Set E/S059.txt          \n",
            "  inflating: Set E/S058.txt          \n",
            "  inflating: Set E/S057.txt          \n",
            "  inflating: Set E/S056.txt          \n",
            "  inflating: Set E/S055.txt          \n",
            "  inflating: Set E/S054.txt          \n",
            "  inflating: Set E/S053.txt          \n",
            "  inflating: Set E/S052.txt          \n",
            "  inflating: Set E/S051.txt          \n",
            "  inflating: Set E/S050.txt          \n",
            "  inflating: Set E/S049.txt          \n",
            "  inflating: Set E/S048.txt          \n",
            "  inflating: Set E/S047.txt          \n",
            "  inflating: Set E/S046.txt          \n",
            "  inflating: Set E/S045.txt          \n",
            "  inflating: Set E/S044.txt          \n",
            "  inflating: Set E/S043.txt          \n",
            "  inflating: Set E/S042.txt          \n",
            "  inflating: Set E/S041.txt          \n",
            "  inflating: Set E/S040.txt          \n",
            "  inflating: Set E/S039.txt          \n",
            "  inflating: Set E/S038.txt          \n",
            "  inflating: Set E/S037.txt          \n",
            "  inflating: Set E/S036.txt          \n",
            "  inflating: Set E/S035.txt          \n",
            "  inflating: Set E/S034.txt          \n",
            "  inflating: Set E/S033.txt          \n",
            "  inflating: Set E/S032.txt          \n",
            "  inflating: Set E/S031.txt          \n",
            "  inflating: Set E/S030.txt          \n",
            "  inflating: Set E/S029.txt          \n",
            "  inflating: Set E/S028.txt          \n",
            "  inflating: Set E/S027.txt          \n",
            "  inflating: Set E/S026.txt          \n",
            "  inflating: Set E/S025.txt          \n",
            "  inflating: Set E/S024.txt          \n",
            "  inflating: Set E/S023.txt          \n",
            "  inflating: Set E/S022.txt          \n",
            "  inflating: Set E/S021.txt          \n",
            "  inflating: Set E/S020.txt          \n",
            "  inflating: Set E/S019.txt          \n",
            "  inflating: Set E/S018.txt          \n",
            "  inflating: Set E/S017.txt          \n",
            "  inflating: Set E/S016.txt          \n",
            "  inflating: Set E/S015.txt          \n",
            "  inflating: Set E/S014.txt          \n",
            "  inflating: Set E/S013.txt          \n",
            "  inflating: Set E/S012.txt          \n",
            "  inflating: Set E/S100.txt          \n",
            "  inflating: Set E/S010.txt          \n",
            "  inflating: Set E/S009.txt          \n",
            "  inflating: Set E/S008.txt          \n",
            "  inflating: Set E/S007.txt          \n",
            "  inflating: Set E/S006.txt          \n",
            "  inflating: Set E/S005.txt          \n",
            "  inflating: Set E/S004.txt          \n",
            "  inflating: Set E/S003.txt          \n",
            "  inflating: Set E/S002.txt          \n",
            "  inflating: Set E/S001.txt          \n"
          ],
          "name": "stdout"
        }
      ]
    },
    {
      "cell_type": "markdown",
      "source": [
        "# Import Dataset"
      ],
      "metadata": {
        "id": "zFQmFmJjP60q"
      }
    },
    {
      "cell_type": "code",
      "metadata": {
        "id": "qsTtwwFlSDrq"
      },
      "source": [
        "import glob\n",
        "import numpy as np\n",
        "import matplotlib as mpl\n",
        "import matplotlib.pyplot as plt"
      ],
      "execution_count": null,
      "outputs": []
    },
    {
      "cell_type": "code",
      "metadata": {
        "colab": {
          "base_uri": "https://localhost:8080/"
        },
        "id": "VpbB_TWZSOWl",
        "outputId": "cd9f54af-699e-4656-cc37-58a17323a8f3"
      },
      "source": [
        "GColab = False\n",
        "\n",
        "if GColab:\n",
        "  !pip install tqdm\n",
        "  \n",
        "import os\n",
        "from tqdm import tqdm\n",
        "\n",
        "DATA_DIR_A = '/content/Set A/'\n",
        "DATA_DIR_B = '/content/Set B/'\n",
        "DATA_DIR_C = '/content/Set C/'\n",
        "DATA_DIR_D = '/content/Set D/'\n",
        "DATA_DIR_E = '/content/Set E/'\n",
        "\n",
        "  \n",
        "LABEL_C1 = 0\n",
        "LABEL_C2 = 1\n",
        "LABEL_C3 = 2\n",
        "\n",
        "def load_data():\n",
        "    data = []\n",
        "    nbFiles = 0\n",
        "    for fname in tqdm(os.listdir(DATA_DIR_A)):\n",
        "        img = np.loadtxt(DATA_DIR_A + fname)\n",
        "        data.append([img, np.array(LABEL_C1)])\n",
        "        nbFiles+=1\n",
        "\n",
        "    #for fname in tqdm(os.listdir(DATA_DIR_B)):\n",
        "     #   img = np.loadtxt(DATA_DIR_B + fname)\n",
        "      #  data.append([img, np.array(LABEL_C1)])\n",
        "       # nbFiles+=1    \n",
        "    \n",
        "    for fname in tqdm(os.listdir(DATA_DIR_C)):\n",
        "        img = np.loadtxt(DATA_DIR_C + fname)\n",
        "        data.append([np.array(img), np.array(LABEL_C2)])\n",
        "        nbFiles+=1\n",
        "\n",
        "    for fname in tqdm(os.listdir(DATA_DIR_D)):\n",
        "        img = np.loadtxt(DATA_DIR_D + fname)\n",
        "        data.append([np.array(img), np.array(LABEL_C2)])\n",
        "        nbFiles+=1\n",
        "\n",
        "    for fname in tqdm(os.listdir(DATA_DIR_E)):\n",
        "        img = np.loadtxt(DATA_DIR_E + fname)\n",
        "        data.append([np.array(img), np.array(LABEL_C2)])\n",
        "        nbFiles+=1\n",
        "        \n",
        "    return data\n",
        "\n",
        "\n",
        "data = load_data()\n",
        "print(len(data), \"Files\")"
      ],
      "execution_count": null,
      "outputs": [
        {
          "output_type": "stream",
          "text": [
            "100%|██████████| 100/100 [00:01<00:00, 77.03it/s]\n",
            "100%|██████████| 100/100 [00:01<00:00, 75.13it/s]\n",
            "100%|██████████| 100/100 [00:01<00:00, 75.49it/s]\n",
            "100%|██████████| 100/100 [00:01<00:00, 75.19it/s]"
          ],
          "name": "stderr"
        },
        {
          "output_type": "stream",
          "text": [
            "400 Files\n"
          ],
          "name": "stdout"
        },
        {
          "output_type": "stream",
          "text": [
            "\n"
          ],
          "name": "stderr"
        }
      ]
    },
    {
      "cell_type": "code",
      "metadata": {
        "id": "JatO3NJsS6fC"
      },
      "source": [
        "from sklearn.utils import shuffle\n",
        "data = shuffle(data)\n",
        "\n",
        "nb_train = round(len(data) * 0.8)\n",
        "data_train = data[0:nb_train]\n",
        "data_test = data[nb_train:]\n",
        "\n",
        "X_train = np.array([d[0] for d in data_train])\n",
        "Y_train = np.array([d[1] for d in data_train])\n",
        "\n",
        "X_test = np.array([d[0] for d in data_test])\n",
        "Y_test = np.array([d[1] for d in data_test])\n",
        "\n",
        "X_train.shape\n",
        "    \n",
        "X_train = X_train.reshape(X_train.shape[0], 4097, 1)\n",
        "Y_train = Y_train.reshape(Y_train.shape[0], 1)\n",
        "\n",
        "X_test = X_test.reshape(X_test.shape[0], 4097, 1)\n",
        "Y_test = Y_test.reshape(Y_test.shape[0], 1)"
      ],
      "execution_count": null,
      "outputs": []
    },
    {
      "cell_type": "markdown",
      "source": [
        "# LSTM"
      ],
      "metadata": {
        "id": "uGi7iVTuP-n_"
      }
    },
    {
      "cell_type": "code",
      "metadata": {
        "colab": {
          "base_uri": "https://localhost:8080/"
        },
        "id": "D5hV01s8TDKE",
        "outputId": "911dd845-56ff-4696-fcf4-0eacccd7a5f1"
      },
      "source": [
        "from keras.models import Sequential\n",
        "from keras.layers import Dense, Dropout, Activation\n",
        "from keras.layers import Embedding\n",
        "from keras.layers import LSTM\n",
        "\n",
        "#num_steps = 30\n",
        "batch_size = 4\n",
        "nb_epoch = 20\n",
        "hidden_size = 64\n",
        "use_dropout=True\n",
        "\n",
        "model = Sequential()\n",
        "model.add(LSTM(hidden_size, input_shape=(4097,1)))\n",
        "#model.add(LSTM(64, return_sequences=False))\n",
        "\n",
        "if use_dropout:\n",
        "  model.add(Dropout(0.35))\n",
        "model.add(Dense(1))\n",
        "model.add(Activation('sigmoid'))\n",
        "\n",
        "model.compile(loss='binary_crossentropy', optimizer='adam', metrics=['mae', 'acc'])\n",
        "\n",
        "print(model.summary())\n",
        "\n",
        "history = model.fit(X_train, Y_train, validation_split=0.2, batch_size=batch_size, epochs=nb_epoch)\n",
        "score = model.evaluate(X_test, Y_test, batch_size=batch_size)"
      ],
      "execution_count": null,
      "outputs": [
        {
          "output_type": "stream",
          "text": [
            "Model: \"sequential\"\n",
            "_________________________________________________________________\n",
            "Layer (type)                 Output Shape              Param #   \n",
            "=================================================================\n",
            "lstm (LSTM)                  (None, 64)                16896     \n",
            "_________________________________________________________________\n",
            "dropout (Dropout)            (None, 64)                0         \n",
            "_________________________________________________________________\n",
            "dense (Dense)                (None, 1)                 65        \n",
            "_________________________________________________________________\n",
            "activation (Activation)      (None, 1)                 0         \n",
            "=================================================================\n",
            "Total params: 16,961\n",
            "Trainable params: 16,961\n",
            "Non-trainable params: 0\n",
            "_________________________________________________________________\n",
            "None\n",
            "Epoch 1/20\n",
            "64/64 [==============================] - 80s 976ms/step - loss: 0.8058 - mae: 0.5064 - acc: 0.5117 - val_loss: 0.6183 - val_mae: 0.4136 - val_acc: 0.7031\n",
            "Epoch 2/20\n",
            "64/64 [==============================] - 61s 960ms/step - loss: 0.5924 - mae: 0.3906 - acc: 0.7116 - val_loss: 0.5810 - val_mae: 0.3835 - val_acc: 0.7031\n",
            "Epoch 3/20\n",
            "64/64 [==============================] - 62s 964ms/step - loss: 0.4904 - mae: 0.3341 - acc: 0.7861 - val_loss: 0.5541 - val_mae: 0.3734 - val_acc: 0.7031\n",
            "Epoch 4/20\n",
            "64/64 [==============================] - 61s 961ms/step - loss: 0.5441 - mae: 0.3675 - acc: 0.7197 - val_loss: 0.5386 - val_mae: 0.3594 - val_acc: 0.7031\n",
            "Epoch 5/20\n",
            "64/64 [==============================] - 62s 963ms/step - loss: 0.5300 - mae: 0.3565 - acc: 0.7250 - val_loss: 0.5307 - val_mae: 0.3505 - val_acc: 0.6875\n",
            "Epoch 6/20\n",
            "64/64 [==============================] - 61s 956ms/step - loss: 0.4687 - mae: 0.3143 - acc: 0.7934 - val_loss: 0.4985 - val_mae: 0.3467 - val_acc: 0.7188\n",
            "Epoch 7/20\n",
            "64/64 [==============================] - 62s 962ms/step - loss: 0.4956 - mae: 0.3475 - acc: 0.7192 - val_loss: 0.4923 - val_mae: 0.3316 - val_acc: 0.7500\n",
            "Epoch 8/20\n",
            "64/64 [==============================] - 61s 958ms/step - loss: 0.4165 - mae: 0.2875 - acc: 0.8434 - val_loss: 0.4152 - val_mae: 0.2902 - val_acc: 0.7812\n",
            "Epoch 9/20\n",
            "64/64 [==============================] - 62s 967ms/step - loss: 0.4218 - mae: 0.2904 - acc: 0.8010 - val_loss: 0.4201 - val_mae: 0.2716 - val_acc: 0.7656\n",
            "Epoch 10/20\n",
            "64/64 [==============================] - 62s 963ms/step - loss: 0.3459 - mae: 0.2388 - acc: 0.8411 - val_loss: 0.5650 - val_mae: 0.3341 - val_acc: 0.7344\n",
            "Epoch 11/20\n",
            "64/64 [==============================] - 62s 964ms/step - loss: 0.4544 - mae: 0.3077 - acc: 0.7834 - val_loss: 0.4265 - val_mae: 0.2728 - val_acc: 0.7969\n",
            "Epoch 12/20\n",
            "64/64 [==============================] - 62s 963ms/step - loss: 0.3002 - mae: 0.2154 - acc: 0.8911 - val_loss: 0.3525 - val_mae: 0.2323 - val_acc: 0.8438\n",
            "Epoch 13/20\n",
            "64/64 [==============================] - 61s 959ms/step - loss: 0.2713 - mae: 0.1912 - acc: 0.8911 - val_loss: 0.4031 - val_mae: 0.2299 - val_acc: 0.7969\n",
            "Epoch 14/20\n",
            "64/64 [==============================] - 61s 962ms/step - loss: 0.3202 - mae: 0.2020 - acc: 0.8866 - val_loss: 0.2714 - val_mae: 0.1889 - val_acc: 0.8750\n",
            "Epoch 15/20\n",
            "64/64 [==============================] - 62s 964ms/step - loss: 0.2453 - mae: 0.1785 - acc: 0.8993 - val_loss: 0.3701 - val_mae: 0.2206 - val_acc: 0.8281\n",
            "Epoch 16/20\n",
            "64/64 [==============================] - 62s 971ms/step - loss: 0.2507 - mae: 0.1791 - acc: 0.9012 - val_loss: 0.2861 - val_mae: 0.1854 - val_acc: 0.8750\n",
            "Epoch 17/20\n",
            "64/64 [==============================] - 61s 961ms/step - loss: 0.2766 - mae: 0.1836 - acc: 0.8937 - val_loss: 0.3752 - val_mae: 0.2142 - val_acc: 0.7812\n",
            "Epoch 18/20\n",
            "64/64 [==============================] - 61s 954ms/step - loss: 0.2659 - mae: 0.1860 - acc: 0.8779 - val_loss: 0.3652 - val_mae: 0.2040 - val_acc: 0.8125\n",
            "Epoch 19/20\n",
            "64/64 [==============================] - 61s 961ms/step - loss: 0.2646 - mae: 0.1753 - acc: 0.8848 - val_loss: 0.3683 - val_mae: 0.2010 - val_acc: 0.8438\n",
            "Epoch 20/20\n",
            "64/64 [==============================] - 61s 956ms/step - loss: 0.1849 - mae: 0.1393 - acc: 0.9334 - val_loss: 0.3413 - val_mae: 0.1857 - val_acc: 0.8281\n",
            "20/20 [==============================] - 4s 202ms/step - loss: 0.3811 - mae: 0.1991 - acc: 0.8375\n"
          ],
          "name": "stdout"
        }
      ]
    },
    {
      "cell_type": "code",
      "metadata": {
        "colab": {
          "base_uri": "https://localhost:8080/",
          "height": 590
        },
        "id": "r9y7OC-Zhsgg",
        "outputId": "902c3ec7-ca02-43bd-dbb9-4ee57546baae"
      },
      "source": [
        "# list all data in history\n",
        "print(history.history.keys())\n",
        "# summarize history for accuracy\n",
        "plt.plot(history.history['acc'])\n",
        "plt.plot(history.history['val_acc'])\n",
        "plt.title('model accuracy')\n",
        "plt.ylabel('accuracy')\n",
        "plt.xlabel('epoch')\n",
        "plt.legend(['train', 'test'], loc='upper left')\n",
        "plt.show()\n",
        "# summarize history for loss\n",
        "plt.plot(history.history['loss'])\n",
        "plt.plot(history.history['val_loss'])\n",
        "plt.title('model loss')\n",
        "plt.ylabel('loss')\n",
        "plt.xlabel('epoch')\n",
        "plt.legend(['train', 'test'], loc='upper left')\n",
        "plt.show()"
      ],
      "execution_count": null,
      "outputs": [
        {
          "output_type": "stream",
          "text": [
            "dict_keys(['loss', 'mae', 'acc', 'val_loss', 'val_mae', 'val_acc'])\n"
          ],
          "name": "stdout"
        },
        {
          "output_type": "display_data",
          "data": {
            "image/png": "[encoded data removed]",
            "text/plain": [
              "<Figure size 432x288 with 1 Axes>"
            ]
          },
          "metadata": {
            "tags": [],
            "needs_background": "light"
          }
        },
        {
          "output_type": "display_data",
          "data": {
            "image/png": "[encoded data removed]",
            "text/plain": [
              "<Figure size 432x288 with 1 Axes>"
            ]
          },
          "metadata": {
            "tags": [],
            "needs_background": "light"
          }
        }
      ]
    },
    {
      "cell_type": "code",
      "metadata": {
        "colab": {
          "base_uri": "https://localhost:8080/"
        },
        "id": "QW0pUSsaiOK-",
        "outputId": "8f88d014-fff1-4f92-9372-9af2e4723d11"
      },
      "source": [
        "score = model.evaluate(X_test, Y_test, batch_size=batch_size)"
      ],
      "execution_count": null,
      "outputs": [
        {
          "output_type": "stream",
          "text": [
            "20/20 [==============================] - 4s 204ms/step - loss: 0.3811 - mae: 0.1991 - acc: 0.8375\n"
          ],
          "name": "stdout"
        }
      ]
    },
    {
      "cell_type": "code",
      "metadata": {
        "id": "4Z2D5aQaijgR"
      },
      "source": [
        "from tensorflow.keras.layers import Flatten, Dense, Conv1D, MaxPool1D, Dropout"
      ],
      "execution_count": null,
      "outputs": []
    },
    {
      "cell_type": "code",
      "metadata": {
        "colab": {
          "base_uri": "https://localhost:8080/"
        },
        "id": "cDY_XiXvi0aR",
        "outputId": "07b1c81a-1d0c-4bd8-b6c7-21a3936218ac"
      },
      "source": [
        "import numpy as np\n",
        "X_train = np.array(X_train).reshape(X_train.shape[0], X_train.shape[1], 1)\n",
        "X_test = np.array(X_test).reshape(X_test.shape[0], X_test.shape[1], 1)\n",
        "\n",
        "print(\"Train shape: \", X_train.shape)\n",
        "print(\"Test shape: \", X_test.shape)"
      ],
      "execution_count": null,
      "outputs": [
        {
          "output_type": "stream",
          "text": [
            "Train shape:  (320, 4097, 1)\n",
            "Test shape:  (80, 4097, 1)\n"
          ],
          "name": "stdout"
        }
      ]
    },
    {
      "cell_type": "code",
      "metadata": {
        "id": "jjHocqmOjLNz"
      },
      "source": [
        "import tensorflow as tf\n",
        "clf = tf.keras.models.Sequential()"
      ],
      "execution_count": null,
      "outputs": []
    },
    {
      "cell_type": "markdown",
      "source": [
        "# CNN"
      ],
      "metadata": {
        "id": "xsXY-hx1QD1D"
      }
    },
    {
      "cell_type": "code",
      "metadata": {
        "colab": {
          "base_uri": "https://localhost:8080/"
        },
        "id": "nIb1DgPojXDw",
        "outputId": "adc34133-21ab-4463-958c-ba09c415ab76"
      },
      "source": [
        "#First CNN layer  with 32 filters, conv window 5, relu activation and same padding\n",
        "clf.add(Conv1D(filters=32, kernel_size=(5,), padding='same', activation=tf.keras.layers.LeakyReLU(alpha=0.001), input_shape = (X_train.shape[1],1)))\n",
        "#Second CNN layer  with 13 filters, conv window 5, relu activation and same padding\n",
        "clf.add(Conv1D(filters=13, kernel_size=(5,), padding='same', activation=tf.keras.layers.LeakyReLU(alpha=0.001)))\n",
        "#Third CNN layer with 64 filters, conv window 5, relu activation and same padding\n",
        "clf.add(Conv1D(filters=128, kernel_size=(5,), padding='same', activation=tf.keras.layers.LeakyReLU(alpha=0.001)))\n",
        "#Fourth CNN layer with Max pooling\n",
        "clf.add(MaxPool1D(pool_size=(5,), strides=2, padding='same'))\n",
        "clf.add(Dropout(0.5))\n",
        "#Flatten the output\n",
        "clf.add(Flatten())\n",
        "#Add a dense layer with 512 neurons\n",
        "clf.add(Dense(units = 512, activation=tf.keras.layers.LeakyReLU(alpha=0.001)))\n",
        "#Add a dense layer with 1024 neurons\n",
        "clf.add(Dense(units = 1024, activation=tf.keras.layers.LeakyReLU(alpha=0.001)))\n",
        "#Softmax as last layer with two outputs\n",
        "clf.add(Dense(units = 2, activation='softmax'))\n",
        "clf.summary()"
      ],
      "execution_count": null,
      "outputs": [
        {
          "output_type": "stream",
          "text": [
            "Model: \"sequential\"\n",
            "_________________________________________________________________\n",
            "Layer (type)                 Output Shape              Param #   \n",
            "=================================================================\n",
            "conv1d (Conv1D)              (None, 4097, 32)          192       \n",
            "_________________________________________________________________\n",
            "conv1d_1 (Conv1D)            (None, 4097, 13)          2093      \n",
            "_________________________________________________________________\n",
            "conv1d_2 (Conv1D)            (None, 4097, 128)         8448      \n",
            "_________________________________________________________________\n",
            "max_pooling1d (MaxPooling1D) (None, 2049, 128)         0         \n",
            "_________________________________________________________________\n",
            "dropout (Dropout)            (None, 2049, 128)         0         \n",
            "_________________________________________________________________\n",
            "flatten (Flatten)            (None, 262272)            0         \n",
            "_________________________________________________________________\n",
            "dense (Dense)                (None, 512)               134283776 \n",
            "_________________________________________________________________\n",
            "dense_1 (Dense)              (None, 1024)              525312    \n",
            "_________________________________________________________________\n",
            "dense_2 (Dense)              (None, 2)                 2050      \n",
            "=================================================================\n",
            "Total params: 134,821,871\n",
            "Trainable params: 134,821,871\n",
            "Non-trainable params: 0\n",
            "_________________________________________________________________\n"
          ],
          "name": "stdout"
        }
      ]
    },
    {
      "cell_type": "code",
      "metadata": {
        "colab": {
          "base_uri": "https://localhost:8080/"
        },
        "id": "GMTYJxDzjq2e",
        "outputId": "26d3618a-9456-491b-c609-7d7d6e51c748"
      },
      "source": [
        "clf.compile(optimizer='adam', loss = 'sparse_categorical_crossentropy', metrics=['accuracy'])\n",
        "history = clf.fit(X_train, Y_train, epochs = 20)"
      ],
      "execution_count": null,
      "outputs": [
        {
          "output_type": "stream",
          "text": [
            "Epoch 1/20\n",
            "10/10 [==============================] - 22s 2s/step - loss: 308.6800 - accuracy: 0.6187\n",
            "Epoch 2/20\n",
            "10/10 [==============================] - 18s 2s/step - loss: 62.9549 - accuracy: 0.6438\n",
            "Epoch 3/20\n",
            "10/10 [==============================] - 18s 2s/step - loss: 17.3253 - accuracy: 0.7250\n",
            "Epoch 4/20\n",
            "10/10 [==============================] - 18s 2s/step - loss: 7.6501 - accuracy: 0.6344\n",
            "Epoch 5/20\n",
            "10/10 [==============================] - 18s 2s/step - loss: 1.6787 - accuracy: 0.6000\n",
            "Epoch 6/20\n",
            "10/10 [==============================] - 18s 2s/step - loss: 0.3202 - accuracy: 0.8750\n",
            "Epoch 7/20\n",
            "10/10 [==============================] - 18s 2s/step - loss: 0.1146 - accuracy: 0.9750\n",
            "Epoch 8/20\n",
            "10/10 [==============================] - 18s 2s/step - loss: 0.0558 - accuracy: 0.9844\n",
            "Epoch 9/20\n",
            "10/10 [==============================] - 18s 2s/step - loss: 0.0264 - accuracy: 0.9937\n",
            "Epoch 10/20\n",
            "10/10 [==============================] - 18s 2s/step - loss: 0.0070 - accuracy: 1.0000\n",
            "Epoch 11/20\n",
            "10/10 [==============================] - 18s 2s/step - loss: 0.0028 - accuracy: 1.0000\n",
            "Epoch 12/20\n",
            "10/10 [==============================] - 18s 2s/step - loss: 0.0017 - accuracy: 1.0000\n",
            "Epoch 13/20\n",
            "10/10 [==============================] - 18s 2s/step - loss: 9.2739e-04 - accuracy: 1.0000\n",
            "Epoch 14/20\n",
            "10/10 [==============================] - 18s 2s/step - loss: 6.6933e-04 - accuracy: 1.0000\n",
            "Epoch 15/20\n",
            "10/10 [==============================] - 18s 2s/step - loss: 5.2727e-04 - accuracy: 1.0000\n",
            "Epoch 16/20\n",
            "10/10 [==============================] - 18s 2s/step - loss: 4.1854e-04 - accuracy: 1.0000\n",
            "Epoch 17/20\n",
            "10/10 [==============================] - 18s 2s/step - loss: 3.5013e-04 - accuracy: 1.0000\n",
            "Epoch 18/20\n",
            "10/10 [==============================] - 18s 2s/step - loss: 2.9918e-04 - accuracy: 1.0000\n",
            "Epoch 19/20\n",
            "10/10 [==============================] - 18s 2s/step - loss: 2.8430e-04 - accuracy: 1.0000\n",
            "Epoch 20/20\n",
            "10/10 [==============================] - 18s 2s/step - loss: 2.4438e-04 - accuracy: 1.0000\n"
          ],
          "name": "stdout"
        }
      ]
    },
    {
      "cell_type": "code",
      "metadata": {
        "colab": {
          "base_uri": "https://localhost:8080/"
        },
        "id": "mHaQjFQYkOJC",
        "outputId": "b90ab2f8-f3eb-4f80-fa32-e08bf01fea00"
      },
      "source": [
        "score = clf.evaluate(X_test, Y_test)"
      ],
      "execution_count": null,
      "outputs": [
        {
          "output_type": "stream",
          "text": [
            "3/3 [==============================] - 1s 304ms/step - loss: 0.6387 - accuracy: 0.8625\n"
          ],
          "name": "stdout"
        }
      ]
    },
    {
      "cell_type": "code",
      "metadata": {
        "id": "1f4uvOL0luau"
      },
      "source": [
        "model = tf.keras.models.Sequential()"
      ],
      "execution_count": null,
      "outputs": []
    },
    {
      "cell_type": "code",
      "metadata": {
        "colab": {
          "base_uri": "https://localhost:8080/"
        },
        "id": "tO8gVAcFl8Am",
        "outputId": "5ae75588-f4dc-4f44-e134-799e900d49e1"
      },
      "source": [
        "model.add(Conv1D(filters=32, kernel_size=(5,), padding='same', activation=tf.keras.layers.LeakyReLU(alpha=0.001), input_shape = (X_train.shape[1],1)))\n",
        "#Second CNN layer  with 13 filters, conv window 5, relu activation and same padding\n",
        "model.add(Conv1D(filters=13, kernel_size=(5,), padding='same', activation=tf.keras.layers.LeakyReLU(alpha=0.001)))\n",
        "#Third CNN layer with 64 filters, conv window 5, relu activation and same padding\n",
        "model.add(Conv1D(filters=128, kernel_size=(5,), padding='same', activation=tf.keras.layers.LeakyReLU(alpha=0.001)))\n",
        "#Fourth CNN layer with Max pooling\n",
        "model.add(MaxPool1D(pool_size=(5,), strides=2, padding='same'))\n",
        "model.add(Dropout(0.5))\n",
        "#Flatten the output\n",
        "model.add(Flatten())\n",
        "#Add a dense layer with 512 neurons\n",
        "model.add(Dense(units = 16, activation=tf.keras.layers.LeakyReLU(alpha=0.001)))\n",
        "#Add a dense layer with 1024 neurons\n",
        "model.add(Dense(units = 32, activation=tf.keras.layers.LeakyReLU(alpha=0.001)))\n",
        "#Softmax as last layer with two outputs\n",
        "model.add(Dense(units = 2, activation='softmax'))\n",
        "model.summary()"
      ],
      "execution_count": null,
      "outputs": [
        {
          "output_type": "stream",
          "text": [
            "Model: \"sequential_1\"\n",
            "_________________________________________________________________\n",
            "Layer (type)                 Output Shape              Param #   \n",
            "=================================================================\n",
            "conv1d_3 (Conv1D)            (None, 4097, 32)          192       \n",
            "_________________________________________________________________\n",
            "conv1d_4 (Conv1D)            (None, 4097, 13)          2093      \n",
            "_________________________________________________________________\n",
            "conv1d_5 (Conv1D)            (None, 4097, 128)         8448      \n",
            "_________________________________________________________________\n",
            "max_pooling1d_1 (MaxPooling1 (None, 2049, 128)         0         \n",
            "_________________________________________________________________\n",
            "dropout_1 (Dropout)          (None, 2049, 128)         0         \n",
            "_________________________________________________________________\n",
            "flatten_1 (Flatten)          (None, 262272)            0         \n",
            "_________________________________________________________________\n",
            "dense_3 (Dense)              (None, 16)                4196368   \n",
            "_________________________________________________________________\n",
            "dense_4 (Dense)              (None, 32)                544       \n",
            "_________________________________________________________________\n",
            "dense_5 (Dense)              (None, 2)                 66        \n",
            "=================================================================\n",
            "Total params: 4,207,711\n",
            "Trainable params: 4,207,711\n",
            "Non-trainable params: 0\n",
            "_________________________________________________________________\n"
          ],
          "name": "stdout"
        }
      ]
    },
    {
      "cell_type": "code",
      "metadata": {
        "colab": {
          "base_uri": "https://localhost:8080/"
        },
        "id": "l9ezwFy7mKh_",
        "outputId": "5946a6dd-8b71-4757-8523-0c7864f6387e"
      },
      "source": [
        "model.compile(optimizer='adam', loss = 'sparse_categorical_crossentropy', metrics=['accuracy'])\n",
        "history1 = model.fit(X_train, Y_train, epochs = 20)"
      ],
      "execution_count": null,
      "outputs": [
        {
          "output_type": "stream",
          "text": [
            "Epoch 1/20\n",
            "10/10 [==============================] - 9s 789ms/step - loss: 25.4279 - accuracy: 0.6625\n",
            "Epoch 2/20\n",
            "10/10 [==============================] - 8s 774ms/step - loss: 2.6649 - accuracy: 0.6531\n",
            "Epoch 3/20\n",
            "10/10 [==============================] - 8s 768ms/step - loss: 0.9029 - accuracy: 0.7219\n",
            "Epoch 4/20\n",
            "10/10 [==============================] - 8s 768ms/step - loss: 0.6379 - accuracy: 0.7750\n",
            "Epoch 5/20\n",
            "10/10 [==============================] - 8s 768ms/step - loss: 0.2783 - accuracy: 0.9062\n",
            "Epoch 6/20\n",
            "10/10 [==============================] - 8s 758ms/step - loss: 0.2345 - accuracy: 0.9062\n",
            "Epoch 7/20\n",
            "10/10 [==============================] - 8s 771ms/step - loss: 0.1382 - accuracy: 0.9688\n",
            "Epoch 8/20\n",
            "10/10 [==============================] - 8s 767ms/step - loss: 0.0816 - accuracy: 0.9969\n",
            "Epoch 9/20\n",
            "10/10 [==============================] - 8s 763ms/step - loss: 0.0649 - accuracy: 0.9906\n",
            "Epoch 10/20\n",
            "10/10 [==============================] - 8s 763ms/step - loss: 0.0362 - accuracy: 1.0000\n",
            "Epoch 11/20\n",
            "10/10 [==============================] - 8s 801ms/step - loss: 0.0254 - accuracy: 1.0000\n",
            "Epoch 12/20\n",
            "10/10 [==============================] - 8s 768ms/step - loss: 0.0177 - accuracy: 1.0000\n",
            "Epoch 13/20\n",
            "10/10 [==============================] - 8s 773ms/step - loss: 0.0136 - accuracy: 1.0000\n",
            "Epoch 14/20\n",
            "10/10 [==============================] - 8s 769ms/step - loss: 0.0107 - accuracy: 1.0000\n",
            "Epoch 15/20\n",
            "10/10 [==============================] - 8s 774ms/step - loss: 0.0083 - accuracy: 1.0000\n",
            "Epoch 16/20\n",
            "10/10 [==============================] - 8s 772ms/step - loss: 0.0068 - accuracy: 1.0000\n",
            "Epoch 17/20\n",
            "10/10 [==============================] - 8s 768ms/step - loss: 0.0070 - accuracy: 1.0000\n",
            "Epoch 18/20\n",
            "10/10 [==============================] - 8s 771ms/step - loss: 0.0053 - accuracy: 1.0000\n",
            "Epoch 19/20\n",
            "10/10 [==============================] - 8s 767ms/step - loss: 0.0048 - accuracy: 1.0000\n",
            "Epoch 20/20\n",
            "10/10 [==============================] - 8s 771ms/step - loss: 0.0039 - accuracy: 1.0000\n"
          ],
          "name": "stdout"
        }
      ]
    },
    {
      "cell_type": "code",
      "metadata": {
        "colab": {
          "base_uri": "https://localhost:8080/"
        },
        "id": "_MPN-5IwmZJ1",
        "outputId": "2bda8dac-cbb7-488e-ebb0-7b673d3e40ef"
      },
      "source": [
        "score = model.evaluate(X_test, Y_test)"
      ],
      "execution_count": null,
      "outputs": [
        {
          "output_type": "stream",
          "text": [
            "3/3 [==============================] - 1s 117ms/step - loss: 0.1801 - accuracy: 0.9500\n"
          ],
          "name": "stdout"
        }
      ]
    },
    {
      "cell_type": "code",
      "metadata": {
        "id": "Xl4hQ9rQmzQv"
      },
      "source": [
        "cnn = tf.keras.models.Sequential()"
      ],
      "execution_count": null,
      "outputs": []
    },
    {
      "cell_type": "markdown",
      "source": [
        "# Proposed Model"
      ],
      "metadata": {
        "id": "1iZeFrrBQMYx"
      }
    },
    {
      "cell_type": "code",
      "metadata": {
        "colab": {
          "base_uri": "https://localhost:8080/"
        },
        "id": "lXxIdHICnUh0",
        "outputId": "4004b32b-0a43-429d-8c25-7fad5d9cd781"
      },
      "source": [
        "#First CNN layer  with 32 filters, conv window 5, relu activation and same padding\n",
        "cnn.add(Conv1D(filters=32, kernel_size=(5,), padding='same', activation=tf.keras.layers.LeakyReLU(alpha=0.001), input_shape = (X_train.shape[1],1)))\n",
        "cnn.add(MaxPool1D(pool_size=(5,), strides=2, padding='same'))\n",
        "cnn.add(Dropout(0.5))\n",
        "#Second CNN layer  with 13 filters, conv window 5, relu activation and same padding\n",
        "cnn.add(Conv1D(filters=13, kernel_size=(5,), padding='same', activation=tf.keras.layers.LeakyReLU(alpha=0.001)))\n",
        "cnn.add(MaxPool1D(pool_size=(5,), strides=2, padding='same'))\n",
        "cnn.add(Dropout(0.5))\n",
        "#Third CNN layer with 64 filters, conv window 5, relu activation and same padding\n",
        "cnn.add(Conv1D(filters=128, kernel_size=(5,), padding='same', activation=tf.keras.layers.LeakyReLU(alpha=0.001)))\n",
        "#Fourth CNN layer with Max pooling\n",
        "cnn.add(MaxPool1D(pool_size=(5,), strides=2, padding='same'))\n",
        "cnn.add(Dropout(0.5))\n",
        "#Flatten the output\n",
        "cnn.add(Flatten())\n",
        "#Add a dense layer with 512 neurons\n",
        "cnn.add(Dense(units = 512, activation=tf.keras.layers.LeakyReLU(alpha=0.001)))\n",
        "cnn.add(Dropout(0.5))\n",
        "#Add a dense layer with 1024 neurons\n",
        "cnn.add(Dense(units = 1024, activation=tf.keras.layers.LeakyReLU(alpha=0.001)))\n",
        "cnn.add(Dropout(0.5))\n",
        "#Softmax as last layer with two outputs\n",
        "cnn.add(Dense(units = 2, activation='softmax'))\n",
        "cnn.summary()"
      ],
      "execution_count": null,
      "outputs": [
        {
          "output_type": "stream",
          "text": [
            "Model: \"sequential_2\"\n",
            "_________________________________________________________________\n",
            "Layer (type)                 Output Shape              Param #   \n",
            "=================================================================\n",
            "conv1d_6 (Conv1D)            (None, 4097, 32)          192       \n",
            "_________________________________________________________________\n",
            "max_pooling1d_2 (MaxPooling1 (None, 2049, 32)          0         \n",
            "_________________________________________________________________\n",
            "dropout_2 (Dropout)          (None, 2049, 32)          0         \n",
            "_________________________________________________________________\n",
            "conv1d_7 (Conv1D)            (None, 2049, 13)          2093      \n",
            "_________________________________________________________________\n",
            "max_pooling1d_3 (MaxPooling1 (None, 1025, 13)          0         \n",
            "_________________________________________________________________\n",
            "dropout_3 (Dropout)          (None, 1025, 13)          0         \n",
            "_________________________________________________________________\n",
            "conv1d_8 (Conv1D)            (None, 1025, 128)         8448      \n",
            "_________________________________________________________________\n",
            "max_pooling1d_4 (MaxPooling1 (None, 513, 128)          0         \n",
            "_________________________________________________________________\n",
            "dropout_4 (Dropout)          (None, 513, 128)          0         \n",
            "_________________________________________________________________\n",
            "flatten_2 (Flatten)          (None, 65664)             0         \n",
            "_________________________________________________________________\n",
            "dense_6 (Dense)              (None, 512)               33620480  \n",
            "_________________________________________________________________\n",
            "dropout_5 (Dropout)          (None, 512)               0         \n",
            "_________________________________________________________________\n",
            "dense_7 (Dense)              (None, 1024)              525312    \n",
            "_________________________________________________________________\n",
            "dropout_6 (Dropout)          (None, 1024)              0         \n",
            "_________________________________________________________________\n",
            "dense_8 (Dense)              (None, 2)                 2050      \n",
            "=================================================================\n",
            "Total params: 34,158,575\n",
            "Trainable params: 34,158,575\n",
            "Non-trainable params: 0\n",
            "_________________________________________________________________\n"
          ],
          "name": "stdout"
        }
      ]
    },
    {
      "cell_type": "code",
      "metadata": {
        "colab": {
          "base_uri": "https://localhost:8080/"
        },
        "id": "Xo7yoGyinkj2",
        "outputId": "a7ac980c-7822-4c0a-d916-531c1c5f1923"
      },
      "source": [
        "cnn.compile(optimizer='adam', loss = 'sparse_categorical_crossentropy', metrics=['accuracy'])\n",
        "history1 = cnn.fit(X_train, Y_train, epochs = 50)"
      ],
      "execution_count": null,
      "outputs": [
        {
          "output_type": "stream",
          "text": [
            "Epoch 1/50\n",
            "10/10 [==============================] - 7s 654ms/step - loss: 547.5104 - accuracy: 0.6375\n",
            "Epoch 2/50\n",
            "10/10 [==============================] - 6s 642ms/step - loss: 178.0701 - accuracy: 0.6562\n",
            "Epoch 3/50\n",
            "10/10 [==============================] - 6s 641ms/step - loss: 81.9178 - accuracy: 0.7188\n",
            "Epoch 4/50\n",
            "10/10 [==============================] - 6s 639ms/step - loss: 43.8212 - accuracy: 0.6969\n",
            "Epoch 5/50\n",
            "10/10 [==============================] - 6s 642ms/step - loss: 27.7884 - accuracy: 0.7281\n",
            "Epoch 6/50\n",
            "10/10 [==============================] - 6s 640ms/step - loss: 14.3463 - accuracy: 0.6844\n",
            "Epoch 7/50\n",
            "10/10 [==============================] - 6s 641ms/step - loss: 5.3372 - accuracy: 0.6938\n",
            "Epoch 8/50\n",
            "10/10 [==============================] - 6s 639ms/step - loss: 2.1183 - accuracy: 0.6719\n",
            "Epoch 9/50\n",
            "10/10 [==============================] - 6s 643ms/step - loss: 1.2727 - accuracy: 0.6625\n",
            "Epoch 10/50\n",
            "10/10 [==============================] - 6s 641ms/step - loss: 1.0318 - accuracy: 0.6938\n",
            "Epoch 11/50\n",
            "10/10 [==============================] - 6s 641ms/step - loss: 0.8823 - accuracy: 0.7250\n",
            "Epoch 12/50\n",
            "10/10 [==============================] - 6s 643ms/step - loss: 0.5964 - accuracy: 0.7281\n",
            "Epoch 13/50\n",
            "10/10 [==============================] - 6s 640ms/step - loss: 0.5560 - accuracy: 0.7250\n",
            "Epoch 14/50\n",
            "10/10 [==============================] - 6s 636ms/step - loss: 0.5948 - accuracy: 0.7094\n",
            "Epoch 15/50\n",
            "10/10 [==============================] - 6s 638ms/step - loss: 0.5677 - accuracy: 0.6875\n",
            "Epoch 16/50\n",
            "10/10 [==============================] - 6s 641ms/step - loss: 0.5352 - accuracy: 0.7219\n",
            "Epoch 17/50\n",
            "10/10 [==============================] - 6s 638ms/step - loss: 0.4353 - accuracy: 0.7563\n",
            "Epoch 18/50\n",
            "10/10 [==============================] - 6s 633ms/step - loss: 0.4681 - accuracy: 0.7563\n",
            "Epoch 19/50\n",
            "10/10 [==============================] - 6s 639ms/step - loss: 0.4650 - accuracy: 0.7312\n",
            "Epoch 20/50\n",
            "10/10 [==============================] - 6s 639ms/step - loss: 0.5274 - accuracy: 0.7375\n",
            "Epoch 21/50\n",
            "10/10 [==============================] - 6s 642ms/step - loss: 0.5025 - accuracy: 0.7281\n",
            "Epoch 22/50\n",
            "10/10 [==============================] - 6s 643ms/step - loss: 0.4346 - accuracy: 0.7594\n",
            "Epoch 23/50\n",
            "10/10 [==============================] - 6s 641ms/step - loss: 0.4571 - accuracy: 0.7875\n",
            "Epoch 24/50\n",
            "10/10 [==============================] - 6s 643ms/step - loss: 0.5388 - accuracy: 0.7375\n",
            "Epoch 25/50\n",
            "10/10 [==============================] - 6s 641ms/step - loss: 0.4794 - accuracy: 0.7281\n",
            "Epoch 26/50\n",
            "10/10 [==============================] - 6s 640ms/step - loss: 0.4676 - accuracy: 0.7688\n",
            "Epoch 27/50\n",
            "10/10 [==============================] - 6s 642ms/step - loss: 0.4408 - accuracy: 0.7563\n",
            "Epoch 28/50\n",
            "10/10 [==============================] - 6s 641ms/step - loss: 0.3644 - accuracy: 0.8188\n",
            "Epoch 29/50\n",
            "10/10 [==============================] - 6s 643ms/step - loss: 0.4224 - accuracy: 0.8062\n",
            "Epoch 30/50\n",
            "10/10 [==============================] - 6s 638ms/step - loss: 0.4479 - accuracy: 0.8219\n",
            "Epoch 31/50\n",
            "10/10 [==============================] - 6s 641ms/step - loss: 0.3595 - accuracy: 0.8094\n",
            "Epoch 32/50\n",
            "10/10 [==============================] - 6s 639ms/step - loss: 0.3776 - accuracy: 0.8344\n",
            "Epoch 33/50\n",
            "10/10 [==============================] - 6s 637ms/step - loss: 0.4127 - accuracy: 0.7969\n",
            "Epoch 34/50\n",
            "10/10 [==============================] - 6s 636ms/step - loss: 0.3469 - accuracy: 0.8219\n",
            "Epoch 35/50\n",
            "10/10 [==============================] - 6s 638ms/step - loss: 0.2879 - accuracy: 0.8344\n",
            "Epoch 36/50\n",
            "10/10 [==============================] - 6s 640ms/step - loss: 0.3615 - accuracy: 0.8250\n",
            "Epoch 37/50\n",
            "10/10 [==============================] - 6s 639ms/step - loss: 0.4392 - accuracy: 0.8250\n",
            "Epoch 38/50\n",
            "10/10 [==============================] - 6s 627ms/step - loss: 0.4594 - accuracy: 0.8062\n",
            "Epoch 39/50\n",
            "10/10 [==============================] - 6s 645ms/step - loss: 0.3376 - accuracy: 0.8531\n",
            "Epoch 40/50\n",
            "10/10 [==============================] - 6s 637ms/step - loss: 0.2964 - accuracy: 0.8656\n",
            "Epoch 41/50\n",
            "10/10 [==============================] - 6s 641ms/step - loss: 0.2820 - accuracy: 0.8562\n",
            "Epoch 42/50\n",
            "10/10 [==============================] - 6s 642ms/step - loss: 0.2998 - accuracy: 0.8750\n",
            "Epoch 43/50\n",
            "10/10 [==============================] - 6s 641ms/step - loss: 0.3896 - accuracy: 0.8156\n",
            "Epoch 44/50\n",
            "10/10 [==============================] - 6s 642ms/step - loss: 0.4656 - accuracy: 0.8313\n",
            "Epoch 45/50\n",
            "10/10 [==============================] - 6s 643ms/step - loss: 0.3917 - accuracy: 0.8219\n",
            "Epoch 46/50\n",
            "10/10 [==============================] - 6s 640ms/step - loss: 0.2946 - accuracy: 0.8687\n",
            "Epoch 47/50\n",
            "10/10 [==============================] - 6s 639ms/step - loss: 0.2894 - accuracy: 0.8625\n",
            "Epoch 48/50\n",
            "10/10 [==============================] - 6s 636ms/step - loss: 0.2723 - accuracy: 0.8562\n",
            "Epoch 49/50\n",
            "10/10 [==============================] - 6s 642ms/step - loss: 0.4206 - accuracy: 0.8469\n",
            "Epoch 50/50\n",
            "10/10 [==============================] - 6s 643ms/step - loss: 0.3092 - accuracy: 0.8531\n"
          ],
          "name": "stdout"
        }
      ]
    },
    {
      "cell_type": "code",
      "metadata": {
        "colab": {
          "base_uri": "https://localhost:8080/"
        },
        "id": "i-Sw070En3Yj",
        "outputId": "2b45825b-151d-4b06-ad9f-36a472e89fa0"
      },
      "source": [
        "score = cnn.evaluate(X_test, Y_test)"
      ],
      "execution_count": null,
      "outputs": [
        {
          "output_type": "stream",
          "text": [
            "3/3 [==============================] - 0s 106ms/step - loss: 1.0201 - accuracy: 0.7625\n"
          ],
          "name": "stdout"
        }
      ]
    },
    {
      "cell_type": "markdown",
      "source": [
        "# ANN Model"
      ],
      "metadata": {
        "id": "UH-XXmzDQQ2b"
      }
    },
    {
      "cell_type": "code",
      "metadata": {
        "id": "tcCOeighpfF-"
      },
      "source": [
        "ann = tf.keras.models.Sequential()\n",
        "ann.add(tf.keras.layers.Dense(units = 6, activation = 'relu'))\n",
        "ann.add(tf.keras.layers.Dense(units = 6, activation = 'relu'))\n",
        "ann.add(tf.keras.layers.Dense(units = 1))\n"
      ],
      "execution_count": null,
      "outputs": []
    },
    {
      "cell_type": "code",
      "metadata": {
        "colab": {
          "base_uri": "https://localhost:8080/"
        },
        "id": "imuusDYjpnrW",
        "outputId": "cb125de4-1c48-4244-a65d-068b6dca8787"
      },
      "source": [
        "ann.compile(optimizer='adam', loss = 'sparse_categorical_crossentropy', metrics=['accuracy'])\n",
        "history2 = ann.fit(X_train, Y_train, epochs = 50)"
      ],
      "execution_count": null,
      "outputs": [
        {
          "output_type": "stream",
          "text": [
            "Epoch 1/50\n",
            "10/10 [==============================] - 1s 26ms/step - loss: 8.3180 - accuracy: 0.2562\n",
            "Epoch 2/50\n",
            "10/10 [==============================] - 0s 25ms/step - loss: 8.3180 - accuracy: 0.2562\n",
            "Epoch 3/50\n",
            "10/10 [==============================] - 0s 25ms/step - loss: 8.3180 - accuracy: 0.2562\n",
            "Epoch 4/50\n",
            "10/10 [==============================] - 0s 25ms/step - loss: 8.3180 - accuracy: 0.2562\n",
            "Epoch 5/50\n",
            "10/10 [==============================] - 0s 25ms/step - loss: 8.3180 - accuracy: 0.2562\n",
            "Epoch 6/50\n",
            "10/10 [==============================] - 0s 23ms/step - loss: 8.3180 - accuracy: 0.2562\n",
            "Epoch 7/50\n",
            "10/10 [==============================] - 0s 23ms/step - loss: 8.3180 - accuracy: 0.2562\n",
            "Epoch 8/50\n",
            "10/10 [==============================] - 0s 24ms/step - loss: 8.3180 - accuracy: 0.2562\n",
            "Epoch 9/50\n",
            "10/10 [==============================] - 0s 25ms/step - loss: 8.3180 - accuracy: 0.2562\n",
            "Epoch 10/50\n",
            "10/10 [==============================] - 0s 24ms/step - loss: 8.3180 - accuracy: 0.2562\n",
            "Epoch 11/50\n",
            "10/10 [==============================] - 0s 24ms/step - loss: 8.3180 - accuracy: 0.2562\n",
            "Epoch 12/50\n",
            "10/10 [==============================] - 0s 25ms/step - loss: 8.3180 - accuracy: 0.2562\n",
            "Epoch 13/50\n",
            "10/10 [==============================] - 0s 26ms/step - loss: 8.3180 - accuracy: 0.2562\n",
            "Epoch 14/50\n",
            "10/10 [==============================] - 0s 28ms/step - loss: 8.3180 - accuracy: 0.2562\n",
            "Epoch 15/50\n",
            "10/10 [==============================] - 0s 24ms/step - loss: 8.3180 - accuracy: 0.2562\n",
            "Epoch 16/50\n",
            "10/10 [==============================] - 0s 24ms/step - loss: 8.3180 - accuracy: 0.2562\n",
            "Epoch 17/50\n",
            "10/10 [==============================] - 0s 25ms/step - loss: 8.3180 - accuracy: 0.2562\n",
            "Epoch 18/50\n",
            "10/10 [==============================] - 0s 24ms/step - loss: 8.3180 - accuracy: 0.2562\n",
            "Epoch 19/50\n",
            "10/10 [==============================] - 0s 24ms/step - loss: 8.3180 - accuracy: 0.2562\n",
            "Epoch 20/50\n",
            "10/10 [==============================] - 0s 25ms/step - loss: 8.3180 - accuracy: 0.2562\n",
            "Epoch 21/50\n",
            "10/10 [==============================] - 0s 24ms/step - loss: 8.3180 - accuracy: 0.2562\n",
            "Epoch 22/50\n",
            "10/10 [==============================] - 0s 25ms/step - loss: 8.3180 - accuracy: 0.2562\n",
            "Epoch 23/50\n",
            "10/10 [==============================] - 0s 24ms/step - loss: 8.3180 - accuracy: 0.2562\n",
            "Epoch 24/50\n",
            "10/10 [==============================] - 0s 24ms/step - loss: 8.3180 - accuracy: 0.2562\n",
            "Epoch 25/50\n",
            "10/10 [==============================] - 0s 24ms/step - loss: 8.3180 - accuracy: 0.2562\n",
            "Epoch 26/50\n",
            "10/10 [==============================] - 0s 24ms/step - loss: 8.3180 - accuracy: 0.2562\n",
            "Epoch 27/50\n",
            "10/10 [==============================] - 0s 24ms/step - loss: 8.3180 - accuracy: 0.2562\n",
            "Epoch 28/50\n",
            "10/10 [==============================] - 0s 24ms/step - loss: 8.3180 - accuracy: 0.2562\n",
            "Epoch 29/50\n",
            "10/10 [==============================] - 0s 24ms/step - loss: 8.3180 - accuracy: 0.2562\n",
            "Epoch 30/50\n",
            "10/10 [==============================] - 0s 26ms/step - loss: 8.3180 - accuracy: 0.2562\n",
            "Epoch 31/50\n",
            "10/10 [==============================] - 0s 25ms/step - loss: 8.3180 - accuracy: 0.2562\n",
            "Epoch 32/50\n",
            "10/10 [==============================] - 0s 24ms/step - loss: 8.3180 - accuracy: 0.2562\n",
            "Epoch 33/50\n",
            "10/10 [==============================] - 0s 24ms/step - loss: 8.3180 - accuracy: 0.2562\n",
            "Epoch 34/50\n",
            "10/10 [==============================] - 0s 24ms/step - loss: 8.3180 - accuracy: 0.2562\n",
            "Epoch 35/50\n",
            "10/10 [==============================] - 0s 24ms/step - loss: 8.3180 - accuracy: 0.2562\n",
            "Epoch 36/50\n",
            "10/10 [==============================] - 0s 25ms/step - loss: 8.3180 - accuracy: 0.2562\n",
            "Epoch 37/50\n",
            "10/10 [==============================] - 0s 25ms/step - loss: 8.3180 - accuracy: 0.2562\n",
            "Epoch 38/50\n",
            "10/10 [==============================] - 0s 25ms/step - loss: 8.3180 - accuracy: 0.2562\n",
            "Epoch 39/50\n",
            "10/10 [==============================] - 0s 25ms/step - loss: 8.3180 - accuracy: 0.2562\n",
            "Epoch 40/50\n",
            "10/10 [==============================] - 0s 27ms/step - loss: 8.3180 - accuracy: 0.2562\n",
            "Epoch 41/50\n",
            "10/10 [==============================] - 0s 24ms/step - loss: 8.3180 - accuracy: 0.2562\n",
            "Epoch 42/50\n",
            "10/10 [==============================] - 0s 25ms/step - loss: 8.3180 - accuracy: 0.2562\n",
            "Epoch 43/50\n",
            "10/10 [==============================] - 0s 23ms/step - loss: 8.3180 - accuracy: 0.2562\n",
            "Epoch 44/50\n",
            "10/10 [==============================] - 0s 25ms/step - loss: 8.3180 - accuracy: 0.2562\n",
            "Epoch 45/50\n",
            "10/10 [==============================] - 0s 24ms/step - loss: 8.3180 - accuracy: 0.2562\n",
            "Epoch 46/50\n",
            "10/10 [==============================] - 0s 25ms/step - loss: 8.3180 - accuracy: 0.2562\n",
            "Epoch 47/50\n",
            "10/10 [==============================] - 0s 25ms/step - loss: 8.3180 - accuracy: 0.2562\n",
            "Epoch 48/50\n",
            "10/10 [==============================] - 0s 24ms/step - loss: 8.3180 - accuracy: 0.2562\n",
            "Epoch 49/50\n",
            "10/10 [==============================] - 0s 25ms/step - loss: 8.3180 - accuracy: 0.2562\n",
            "Epoch 50/50\n",
            "10/10 [==============================] - 0s 25ms/step - loss: 8.3180 - accuracy: 0.2562\n"
          ],
          "name": "stdout"
        }
      ]
    },
    {
      "cell_type": "code",
      "metadata": {
        "colab": {
          "base_uri": "https://localhost:8080/"
        },
        "id": "Oxc8lTz6qDok",
        "outputId": "ad874c0a-715c-4e2f-9832-507bd50f88fc"
      },
      "source": [
        "score = ann.evaluate(X_test, Y_test)"
      ],
      "execution_count": null,
      "outputs": [
        {
          "output_type": "stream",
          "text": [
            "3/3 [==============================] - 0s 11ms/step - loss: 8.3180 - accuracy: 0.2250\n"
          ],
          "name": "stdout"
        }
      ]
    }
  ]
}