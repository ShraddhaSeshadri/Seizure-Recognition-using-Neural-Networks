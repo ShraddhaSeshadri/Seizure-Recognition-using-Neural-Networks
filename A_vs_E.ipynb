{
  "nbformat": 4,
  "nbformat_minor": 0,
  "metadata": {
    "colab": {
      "provenance": []
    },
    "kernelspec": {
      "name": "python3",
      "display_name": "Python 3"
    },
    "language_info": {
      "name": "python"
    }
  },
  "cells": [
    {
      "cell_type": "markdown",
      "source": [
        "# Import Dataset"
      ],
      "metadata": {
        "id": "hipbnHBuLjZs"
      }
    },
    {
      "cell_type": "code",
      "metadata": {
        "id": "Y2A9KreGpfiK"
      },
      "source": [
        "import glob\n",
        "import numpy as np\n",
        "import matplotlib as mpl\n",
        "import matplotlib.pyplot as plt"
      ],
      "execution_count": null,
      "outputs": []
    },
    {
      "cell_type": "markdown",
      "source": [
        "# Load the dataset"
      ],
      "metadata": {
        "id": "Y3XfwYhvLn9R"
      }
    },
    {
      "cell_type": "code",
      "metadata": {
        "colab": {
          "base_uri": "https://localhost:8080/"
        },
        "id": "mjmQMIuoprTJ",
        "outputId": "0e9f0f6b-0e2d-46d5-af27-12235dd7d0b8"
      },
      "source": [
        "GColab = False\n",
        "\n",
        "if GColab:\n",
        "  !pip install tqdm\n",
        "  \n",
        "import os\n",
        "from tqdm import tqdm\n",
        "\n",
        "DATA_DIR_A = '/content/Set A/'\n",
        "DATA_DIR_B = '/content/Set B/'\n",
        "DATA_DIR_C = '/content/Set C/'\n",
        "DATA_DIR_D = '/content/Set D/'\n",
        "DATA_DIR_E = '/content/Set E/'\n",
        "\n",
        "  \n",
        "LABEL_C1 = 0\n",
        "LABEL_C2 = 1\n",
        "LABEL_C3 = 2\n",
        "\n",
        "def load_data():\n",
        "    data = []\n",
        "    nbFiles = 0\n",
        "    for fname in tqdm(os.listdir(DATA_DIR_A)):\n",
        "        img = np.loadtxt(DATA_DIR_A + fname)\n",
        "        data.append([img, np.array(LABEL_C1)])\n",
        "        nbFiles+=1\n",
        "\n",
        "    #for fname in tqdm(os.listdir(DATA_DIR_B)):\n",
        "    #    img = np.loadtxt(DATA_DIR_B + fname)\n",
        "    #    data.append([img, np.array(LABEL_C1)])\n",
        "    #    nbFiles+=1    \n",
        "    \n",
        "    #for fname in tqdm(os.listdir(DATA_DIR_C)):\n",
        "    #    img = np.loadtxt(DATA_DIR_C + fname)\n",
        "    #    data.append([np.array(img), np.array(LABEL_C2)])\n",
        "    #    nbFiles+=1\n",
        "\n",
        "    #for fname in tqdm(os.listdir(DATA_DIR_D)):\n",
        "    #    img = np.loadtxt(DATA_DIR_D + fname)\n",
        "    #    data.append([np.array(img), np.array(LABEL_C2)])\n",
        "    #    nbFiles+=1\n",
        "\n",
        "    for fname in tqdm(os.listdir(DATA_DIR_E)):\n",
        "        img = np.loadtxt(DATA_DIR_E + fname)\n",
        "        data.append([np.array(img), np.array(LABEL_C2)])\n",
        "        nbFiles+=1\n",
        "        \n",
        "    return data\n",
        "\n",
        "\n",
        "data = load_data()\n",
        "print(len(data), \"Files\")\n"
      ],
      "execution_count": null,
      "outputs": [
        {
          "output_type": "stream",
          "text": [
            "100%|██████████| 100/100 [00:01<00:00, 73.99it/s]\n",
            "100%|██████████| 100/100 [00:01<00:00, 75.06it/s]"
          ],
          "name": "stderr"
        },
        {
          "output_type": "stream",
          "text": [
            "200 Files\n"
          ],
          "name": "stdout"
        },
        {
          "output_type": "stream",
          "text": [
            "\n"
          ],
          "name": "stderr"
        }
      ]
    },
    {
      "cell_type": "markdown",
      "source": [
        "# Data Cleaning"
      ],
      "metadata": {
        "id": "KRBroOW5LtPu"
      }
    },
    {
      "cell_type": "code",
      "metadata": {
        "id": "64hBe182sOPc"
      },
      "source": [
        "from sklearn.utils import shuffle\n",
        "data = shuffle(data)\n",
        "\n",
        "nb_train = round(len(data) * 0.8)\n",
        "data_train = data[0:nb_train]\n",
        "data_test = data[nb_train:]\n",
        "\n",
        "X_train = np.array([d[0] for d in data_train])\n",
        "Y_train = np.array([d[1] for d in data_train])\n",
        "\n",
        "X_test = np.array([d[0] for d in data_test])\n",
        "Y_test = np.array([d[1] for d in data_test])\n",
        "\n",
        "X_train.shape\n",
        "    \n",
        "X_train = X_train.reshape(X_train.shape[0], 4097, 1)\n",
        "Y_train = Y_train.reshape(Y_train.shape[0], 1)\n",
        "\n",
        "X_test = X_test.reshape(X_test.shape[0], 4097, 1)\n",
        "Y_test = Y_test.reshape(Y_test.shape[0], 1)"
      ],
      "execution_count": null,
      "outputs": []
    },
    {
      "cell_type": "markdown",
      "source": [
        "# LSTM"
      ],
      "metadata": {
        "id": "FNHBEG8zL3sR"
      }
    },
    {
      "cell_type": "code",
      "metadata": {
        "colab": {
          "base_uri": "https://localhost:8080/"
        },
        "id": "R9NW5zHLtV7G",
        "outputId": "dd9f597a-f4b1-4d9d-996d-ea1d86cc3ed1"
      },
      "source": [
        "from keras.models import Sequential\n",
        "from keras.layers import Dense, Dropout, Activation\n",
        "from keras.layers import Embedding\n",
        "from keras.layers import LSTM\n",
        "\n",
        "#num_steps = 30\n",
        "batch_size = 4\n",
        "nb_epoch = 20\n",
        "hidden_size = 64\n",
        "use_dropout=True\n",
        "\n",
        "model = Sequential()\n",
        "model.add(LSTM(hidden_size, input_shape=(4097,1)))\n",
        "#model.add(LSTM(64, return_sequences=False))\n",
        "\n",
        "if use_dropout:\n",
        "  model.add(Dropout(0.35))\n",
        "model.add(Dense(1))\n",
        "model.add(Activation('sigmoid'))\n",
        "\n",
        "model.compile(loss='binary_crossentropy', optimizer='adam', metrics=['mae', 'acc'])\n",
        "\n",
        "print(model.summary())\n",
        "\n",
        "history = model.fit(X_train, Y_train, validation_split=0.2, batch_size=batch_size, epochs=nb_epoch)\n",
        "score = model.evaluate(X_test, Y_test, batch_size=batch_size)"
      ],
      "execution_count": null,
      "outputs": [
        {
          "output_type": "stream",
          "text": [
            "Model: \"sequential\"\n",
            "_________________________________________________________________\n",
            "Layer (type)                 Output Shape              Param #   \n",
            "=================================================================\n",
            "lstm (LSTM)                  (None, 64)                16896     \n",
            "_________________________________________________________________\n",
            "dropout (Dropout)            (None, 64)                0         \n",
            "_________________________________________________________________\n",
            "dense (Dense)                (None, 1)                 65        \n",
            "_________________________________________________________________\n",
            "activation (Activation)      (None, 1)                 0         \n",
            "=================================================================\n",
            "Total params: 16,961\n",
            "Trainable params: 16,961\n",
            "Non-trainable params: 0\n",
            "_________________________________________________________________\n",
            "None\n",
            "Epoch 1/20\n",
            "32/32 [==============================] - 49s 988ms/step - loss: 0.5942 - mae: 0.4195 - acc: 0.6853 - val_loss: 0.3932 - val_mae: 0.3169 - val_acc: 0.9688\n",
            "Epoch 2/20\n",
            "32/32 [==============================] - 30s 950ms/step - loss: 0.4408 - mae: 0.3388 - acc: 0.8831 - val_loss: 0.3070 - val_mae: 0.2534 - val_acc: 0.9375\n",
            "Epoch 3/20\n",
            "32/32 [==============================] - 30s 951ms/step - loss: 0.3814 - mae: 0.2895 - acc: 0.8761 - val_loss: 0.2344 - val_mae: 0.1995 - val_acc: 0.9688\n",
            "Epoch 4/20\n",
            "32/32 [==============================] - 30s 953ms/step - loss: 0.3685 - mae: 0.2686 - acc: 0.8732 - val_loss: 0.1856 - val_mae: 0.1616 - val_acc: 0.9688\n",
            "Epoch 5/20\n",
            "32/32 [==============================] - 31s 960ms/step - loss: 0.2582 - mae: 0.2076 - acc: 0.9527 - val_loss: 0.1480 - val_mae: 0.1284 - val_acc: 0.9688\n",
            "Epoch 6/20\n",
            "32/32 [==============================] - 31s 966ms/step - loss: 0.2028 - mae: 0.1631 - acc: 0.9400 - val_loss: 0.1168 - val_mae: 0.1025 - val_acc: 0.9688\n",
            "Epoch 7/20\n",
            "32/32 [==============================] - 30s 947ms/step - loss: 0.1969 - mae: 0.1489 - acc: 0.9552 - val_loss: 0.0921 - val_mae: 0.0823 - val_acc: 1.0000\n",
            "Epoch 8/20\n",
            "32/32 [==============================] - 31s 955ms/step - loss: 0.1424 - mae: 0.1137 - acc: 0.9583 - val_loss: 0.0727 - val_mae: 0.0655 - val_acc: 1.0000\n",
            "Epoch 9/20\n",
            "32/32 [==============================] - 31s 965ms/step - loss: 0.1121 - mae: 0.0861 - acc: 0.9581 - val_loss: 0.0701 - val_mae: 0.0627 - val_acc: 1.0000\n",
            "Epoch 10/20\n",
            "32/32 [==============================] - 31s 963ms/step - loss: 0.0898 - mae: 0.0717 - acc: 0.9639 - val_loss: 0.0551 - val_mae: 0.0506 - val_acc: 1.0000\n",
            "Epoch 11/20\n",
            "32/32 [==============================] - 31s 967ms/step - loss: 0.0496 - mae: 0.0436 - acc: 0.9979 - val_loss: 0.0367 - val_mae: 0.0350 - val_acc: 1.0000\n",
            "Epoch 12/20\n",
            "32/32 [==============================] - 31s 961ms/step - loss: 0.0315 - mae: 0.0287 - acc: 0.9946 - val_loss: 0.0305 - val_mae: 0.0290 - val_acc: 1.0000\n",
            "Epoch 13/20\n",
            "32/32 [==============================] - 30s 955ms/step - loss: 0.0232 - mae: 0.0225 - acc: 1.0000 - val_loss: 0.0203 - val_mae: 0.0198 - val_acc: 1.0000\n",
            "Epoch 14/20\n",
            "32/32 [==============================] - 33s 1s/step - loss: 0.0222 - mae: 0.0215 - acc: 1.0000 - val_loss: 0.0160 - val_mae: 0.0157 - val_acc: 1.0000\n",
            "Epoch 15/20\n",
            "32/32 [==============================] - 31s 966ms/step - loss: 0.0142 - mae: 0.0139 - acc: 1.0000 - val_loss: 0.0132 - val_mae: 0.0130 - val_acc: 1.0000\n",
            "Epoch 16/20\n",
            "32/32 [==============================] - 31s 963ms/step - loss: 0.0147 - mae: 0.0144 - acc: 1.0000 - val_loss: 0.0109 - val_mae: 0.0107 - val_acc: 1.0000\n",
            "Epoch 17/20\n",
            "32/32 [==============================] - 31s 968ms/step - loss: 0.0105 - mae: 0.0103 - acc: 1.0000 - val_loss: 0.0092 - val_mae: 0.0091 - val_acc: 1.0000\n",
            "Epoch 18/20\n",
            "32/32 [==============================] - 31s 969ms/step - loss: 0.0165 - mae: 0.0158 - acc: 1.0000 - val_loss: 0.0082 - val_mae: 0.0082 - val_acc: 1.0000\n",
            "Epoch 19/20\n",
            "32/32 [==============================] - 31s 957ms/step - loss: 0.0076 - mae: 0.0075 - acc: 1.0000 - val_loss: 0.0068 - val_mae: 0.0067 - val_acc: 1.0000\n",
            "Epoch 20/20\n",
            "32/32 [==============================] - 31s 957ms/step - loss: 0.0081 - mae: 0.0080 - acc: 1.0000 - val_loss: 0.0061 - val_mae: 0.0060 - val_acc: 1.0000\n",
            "10/10 [==============================] - 2s 210ms/step - loss: 0.1298 - mae: 0.0306 - acc: 0.9750\n"
          ],
          "name": "stdout"
        }
      ]
    },
    {
      "cell_type": "markdown",
      "source": [
        "# Visualizing the train and test result"
      ],
      "metadata": {
        "id": "y8Ar1-K1L8uo"
      }
    },
    {
      "cell_type": "code",
      "metadata": {
        "colab": {
          "base_uri": "https://localhost:8080/",
          "height": 590
        },
        "id": "nB26R5X2Y-Kj",
        "outputId": "6f181dce-ea28-4bcc-c1b7-8e588c940508"
      },
      "source": [
        "# list all data in history\n",
        "print(history.history.keys())\n",
        "# summarize history for accuracy\n",
        "plt.plot(history.history['acc'])\n",
        "plt.plot(history.history['val_acc'])\n",
        "plt.title('model accuracy')\n",
        "plt.ylabel('accuracy')\n",
        "plt.xlabel('epoch')\n",
        "plt.legend(['train', 'test'], loc='upper left')\n",
        "plt.show()\n",
        "# summarize history for loss\n",
        "plt.plot(history.history['loss'])\n",
        "plt.plot(history.history['val_loss'])\n",
        "plt.title('model loss')\n",
        "plt.ylabel('loss')\n",
        "plt.xlabel('epoch')\n",
        "plt.legend(['train', 'test'], loc='upper left')\n",
        "plt.show()"
      ],
      "execution_count": null,
      "outputs": [
        {
          "output_type": "stream",
          "text": [
            "dict_keys(['loss', 'mae', 'acc', 'val_loss', 'val_mae', 'val_acc'])\n"
          ],
          "name": "stdout"
        },
        {
          "output_type": "display_data",
          "data": {
            "image/png": "[encoded data removed]",
            "text/plain": [
              "<Figure size 432x288 with 1 Axes>"
            ]
          },
          "metadata": {
            "tags": [],
            "needs_background": "light"
          }
        },
        {
          "output_type": "display_data",
          "data": {
            "image/png": "[encoded data removed]",
            "text/plain": [
              "<Figure size 432x288 with 1 Axes>"
            ]
          },
          "metadata": {
            "tags": [],
            "needs_background": "light"
          }
        }
      ]
    },
    {
      "cell_type": "code",
      "metadata": {
        "id": "Zr2Zcy2BsmEs"
      },
      "source": [
        "from sklearn.datasets import make_circles\n",
        "from sklearn.metrics import accuracy_score\n",
        "from sklearn.metrics import precision_score\n",
        "from sklearn.metrics import recall_score\n",
        "from sklearn.metrics import f1_score\n",
        "from sklearn.metrics import cohen_kappa_score\n",
        "from sklearn.metrics import roc_auc_score\n",
        "from sklearn.metrics import confusion_matrix"
      ],
      "execution_count": null,
      "outputs": []
    },
    {
      "cell_type": "code",
      "metadata": {
        "colab": {
          "base_uri": "https://localhost:8080/"
        },
        "id": "vhIMPhrVsvbs",
        "outputId": "3d19e95e-a20b-44f2-d90d-1a2ce45dcd0f"
      },
      "source": [
        "yhat_classes = model.predict_classes(X_test, verbose=0)\n",
        "yhat_probs = model.predict(X_test, verbose=0)\n",
        "\n",
        "yhat_probs = yhat_probs[:, 0]\n",
        "yhat_classes = yhat_classes[:, 0]\n",
        "\n",
        "# accuracy: (tp + tn) / (p + n)\n",
        "accuracy = accuracy_score(Y_test, yhat_classes)\n",
        "print('Accuracy: %f' % accuracy)\n",
        "# precision tp / (tp + fp)\n",
        "precision = precision_score(Y_test, yhat_classes)\n",
        "print('Precision: %f' % precision)\n",
        "# recall: tp / (tp + fn)\n",
        "recall = recall_score(Y_test, yhat_classes)\n",
        "print('Recall: %f' % recall)\n",
        "# f1: 2 tp / (2 tp + fp + fn)\n",
        "f1 = f1_score(Y_test, yhat_classes)\n",
        "print('F1 score: %f' % f1)"
      ],
      "execution_count": null,
      "outputs": [
        {
          "output_type": "stream",
          "text": [
            "/usr/local/lib/python3.7/dist-packages/keras/engine/sequential.py:450: UserWarning: `model.predict_classes()` is deprecated and will be removed after 2021-01-01. Please use instead:* `np.argmax(model.predict(x), axis=-1)`,   if your model does multi-class classification   (e.g. if it uses a `softmax` last-layer activation).* `(model.predict(x) > 0.5).astype(\"int32\")`,   if your model does binary classification   (e.g. if it uses a `sigmoid` last-layer activation).\n",
            "  warnings.warn('`model.predict_classes()` is deprecated and '\n"
          ],
          "name": "stderr"
        },
        {
          "output_type": "stream",
          "text": [
            "Accuracy: 0.975000\n",
            "Precision: 1.000000\n",
            "Recall: 0.950000\n",
            "F1 score: 0.974359\n"
          ],
          "name": "stdout"
        }
      ]
    },
    {
      "cell_type": "code",
      "metadata": {
        "id": "1s-DW6AnZbs2"
      },
      "source": [
        "y_pred = model.predict(X_test)"
      ],
      "execution_count": null,
      "outputs": []
    },
    {
      "cell_type": "code",
      "metadata": {
        "colab": {
          "base_uri": "https://localhost:8080/"
        },
        "id": "MYzs7ZFNdc2Q",
        "outputId": "77151c7c-bbdd-4a92-cf25-47d493e40fb9"
      },
      "source": [
        "score = model.evaluate(X_test, Y_test, batch_size=batch_size)"
      ],
      "execution_count": null,
      "outputs": [
        {
          "output_type": "stream",
          "text": [
            "10/10 [==============================] - 2s 212ms/step - loss: 0.1298 - mae: 0.0306 - acc: 0.9750\n"
          ],
          "name": "stdout"
        }
      ]
    },
    {
      "cell_type": "code",
      "metadata": {
        "id": "d0aJ5UOvBgPr"
      },
      "source": [
        "from tensorflow.keras.layers import Flatten, Dense, Conv1D, MaxPool1D, Dropout"
      ],
      "execution_count": null,
      "outputs": []
    },
    {
      "cell_type": "code",
      "metadata": {
        "colab": {
          "base_uri": "https://localhost:8080/"
        },
        "id": "Ne0hCzOX1vEq",
        "outputId": "2d132064-2a2f-4dd0-b339-2993f34d0033"
      },
      "source": [
        "import numpy as np\n",
        "X_train = np.array(X_train).reshape(X_train.shape[0], X_train.shape[1], 1)\n",
        "X_test = np.array(X_test).reshape(X_test.shape[0], X_test.shape[1], 1)\n",
        "\n",
        "print(\"Train shape: \", X_train.shape)\n",
        "print(\"Test shape: \", X_test.shape)"
      ],
      "execution_count": null,
      "outputs": [
        {
          "output_type": "stream",
          "text": [
            "Train shape:  (160, 4097, 1)\n",
            "Test shape:  (40, 4097, 1)\n"
          ],
          "name": "stdout"
        }
      ]
    },
    {
      "cell_type": "code",
      "metadata": {
        "id": "QMwjWbV0BwP4"
      },
      "source": [
        "import tensorflow as tf\n",
        "clf = tf.keras.models.Sequential()"
      ],
      "execution_count": null,
      "outputs": []
    },
    {
      "cell_type": "markdown",
      "source": [
        "#CNN Model"
      ],
      "metadata": {
        "id": "zMvxeG6IPdtu"
      }
    },
    {
      "cell_type": "code",
      "metadata": {
        "id": "CSO50VRiB-sz"
      },
      "source": [
        "#First CNN layer  with 32 filters, conv window 5, relu activation and same padding\n",
        "clf.add(Conv1D(filters=32, kernel_size=(5,), padding='same', activation=tf.keras.layers.LeakyReLU(alpha=0.001), input_shape = (X_train.shape[1],1)))\n",
        "#Second CNN layer  with 13 filters, conv window 5, relu activation and same padding\n",
        "clf.add(Conv1D(filters=13, kernel_size=(5,), padding='same', activation=tf.keras.layers.LeakyReLU(alpha=0.001)))\n",
        "#Third CNN layer with 64 filters, conv window 5, relu activation and same padding\n",
        "clf.add(Conv1D(filters=128, kernel_size=(5,), padding='same', activation=tf.keras.layers.LeakyReLU(alpha=0.001)))\n",
        "#Fourth CNN layer with Max pooling\n",
        "clf.add(MaxPool1D(pool_size=(5,), strides=2, padding='same'))\n",
        "clf.add(Dropout(0.5))\n",
        "#Flatten the output\n",
        "clf.add(Flatten())\n",
        "#Add a dense layer with 512 neurons\n",
        "clf.add(Dense(units = 512, activation=tf.keras.layers.LeakyReLU(alpha=0.001)))\n",
        "#Add a dense layer with 1024 neurons\n",
        "clf.add(Dense(units = 1024, activation=tf.keras.layers.LeakyReLU(alpha=0.001)))\n",
        "#Softmax as last layer with two outputs\n",
        "clf.add(Dense(units = 2, activation='softmax'))"
      ],
      "execution_count": null,
      "outputs": []
    },
    {
      "cell_type": "code",
      "metadata": {
        "colab": {
          "base_uri": "https://localhost:8080/"
        },
        "id": "BeIzzStXCIUo",
        "outputId": "a1f646d2-3bbd-41c8-8d5e-7c5d0fe777fa"
      },
      "source": [
        "clf.compile(loss='sparse_categorical_crossentropy', optimizer='adam', metrics=['mae', 'acc'])\n",
        "\n",
        "print(clf.summary())\n",
        "\n",
        "history = clf.fit(X_train, Y_train, validation_split=0.2, batch_size=batch_size, epochs=nb_epoch)\n",
        "score = clf.evaluate(X_test, Y_test, batch_size=batch_size)"
      ],
      "execution_count": null,
      "outputs": [
        {
          "output_type": "stream",
          "text": [
            "Model: \"sequential\"\n",
            "_________________________________________________________________\n",
            "Layer (type)                 Output Shape              Param #   \n",
            "=================================================================\n",
            "conv1d (Conv1D)              (None, 4097, 32)          192       \n",
            "_________________________________________________________________\n",
            "conv1d_1 (Conv1D)            (None, 4097, 13)          2093      \n",
            "_________________________________________________________________\n",
            "conv1d_2 (Conv1D)            (None, 4097, 128)         8448      \n",
            "_________________________________________________________________\n",
            "max_pooling1d (MaxPooling1D) (None, 2049, 128)         0         \n",
            "_________________________________________________________________\n",
            "dropout (Dropout)            (None, 2049, 128)         0         \n",
            "_________________________________________________________________\n",
            "flatten (Flatten)            (None, 262272)            0         \n",
            "_________________________________________________________________\n",
            "dense (Dense)                (None, 512)               134283776 \n",
            "_________________________________________________________________\n",
            "dense_1 (Dense)              (None, 1024)              525312    \n",
            "_________________________________________________________________\n",
            "dense_2 (Dense)              (None, 2)                 2050      \n",
            "=================================================================\n",
            "Total params: 134,821,871\n",
            "Trainable params: 134,821,871\n",
            "Non-trainable params: 0\n",
            "_________________________________________________________________\n",
            "None\n",
            "Epoch 1/20\n",
            "32/32 [==============================] - 76s 2s/step - loss: 349.2888 - mae: 0.5000 - acc: 0.4609 - val_loss: 34.3859 - val_mae: 0.5000 - val_acc: 0.4688\n",
            "Epoch 2/20\n",
            "32/32 [==============================] - 73s 2s/step - loss: 4.8151 - mae: 0.5000 - acc: 0.8672 - val_loss: 7.0997e-06 - val_mae: 0.5000 - val_acc: 1.0000\n",
            "Epoch 3/20\n",
            "32/32 [==============================] - 72s 2s/step - loss: 1.0649 - mae: 0.5000 - acc: 0.9062 - val_loss: 1.9278 - val_mae: 0.5000 - val_acc: 0.7812\n",
            "Epoch 4/20\n",
            "32/32 [==============================] - 73s 2s/step - loss: 2.3327 - mae: 0.5000 - acc: 0.8516 - val_loss: 0.0000e+00 - val_mae: 0.5000 - val_acc: 1.0000\n",
            "Epoch 5/20\n",
            "32/32 [==============================] - 74s 2s/step - loss: 0.1357 - mae: 0.5000 - acc: 0.9922 - val_loss: 0.0000e+00 - val_mae: 0.5000 - val_acc: 1.0000\n",
            "Epoch 6/20\n",
            "32/32 [==============================] - 76s 2s/step - loss: 0.0541 - mae: 0.5000 - acc: 0.9844 - val_loss: 0.2266 - val_mae: 0.5000 - val_acc: 0.9688\n",
            "Epoch 7/20\n",
            "32/32 [==============================] - 75s 2s/step - loss: 4.5251 - mae: 0.5000 - acc: 0.9141 - val_loss: 0.0000e+00 - val_mae: 0.5000 - val_acc: 1.0000\n",
            "Epoch 8/20\n",
            "32/32 [==============================] - 74s 2s/step - loss: 1.4472 - mae: 0.5000 - acc: 0.9766 - val_loss: 1.0739 - val_mae: 0.5000 - val_acc: 0.9375\n",
            "Epoch 9/20\n",
            "32/32 [==============================] - 76s 2s/step - loss: 3.8805 - mae: 0.5000 - acc: 0.8906 - val_loss: 3.6639 - val_mae: 0.5000 - val_acc: 0.7812\n",
            "Epoch 10/20\n",
            "32/32 [==============================] - 74s 2s/step - loss: 1.7303e-05 - mae: 0.5000 - acc: 1.0000 - val_loss: 5.8114e-07 - val_mae: 0.5000 - val_acc: 1.0000\n",
            "Epoch 11/20\n",
            "32/32 [==============================] - 76s 2s/step - loss: 0.1485 - mae: 0.5000 - acc: 0.9922 - val_loss: 2.2352e-08 - val_mae: 0.5000 - val_acc: 1.0000\n",
            "Epoch 12/20\n",
            "32/32 [==============================] - 76s 2s/step - loss: 0.0000e+00 - mae: 0.5000 - acc: 1.0000 - val_loss: 1.2107e-06 - val_mae: 0.5000 - val_acc: 1.0000\n",
            "Epoch 13/20\n",
            "32/32 [==============================] - 74s 2s/step - loss: 0.0000e+00 - mae: 0.5000 - acc: 1.0000 - val_loss: 1.4044e-06 - val_mae: 0.5000 - val_acc: 1.0000\n",
            "Epoch 14/20\n",
            "32/32 [==============================] - 79s 2s/step - loss: 0.0000e+00 - mae: 0.5000 - acc: 1.0000 - val_loss: 1.4081e-06 - val_mae: 0.5000 - val_acc: 1.0000\n",
            "Epoch 15/20\n",
            "32/32 [==============================] - 75s 2s/step - loss: 0.0000e+00 - mae: 0.5000 - acc: 1.0000 - val_loss: 1.4081e-06 - val_mae: 0.5000 - val_acc: 1.0000\n",
            "Epoch 16/20\n",
            "32/32 [==============================] - 75s 2s/step - loss: 0.0000e+00 - mae: 0.5000 - acc: 1.0000 - val_loss: 1.4081e-06 - val_mae: 0.5000 - val_acc: 1.0000\n",
            "Epoch 17/20\n",
            "32/32 [==============================] - 75s 2s/step - loss: 0.0000e+00 - mae: 0.5000 - acc: 1.0000 - val_loss: 1.4081e-06 - val_mae: 0.5000 - val_acc: 1.0000\n",
            "Epoch 18/20\n",
            "32/32 [==============================] - 75s 2s/step - loss: 0.0000e+00 - mae: 0.5000 - acc: 1.0000 - val_loss: 1.4081e-06 - val_mae: 0.5000 - val_acc: 1.0000\n",
            "Epoch 19/20\n",
            "32/32 [==============================] - 75s 2s/step - loss: 0.0000e+00 - mae: 0.5000 - acc: 1.0000 - val_loss: 1.4081e-06 - val_mae: 0.5000 - val_acc: 1.0000\n",
            "Epoch 20/20\n",
            "32/32 [==============================] - 75s 2s/step - loss: 0.0000e+00 - mae: 0.5000 - acc: 1.0000 - val_loss: 1.4081e-06 - val_mae: 0.5000 - val_acc: 1.0000\n",
            "10/10 [==============================] - 1s 107ms/step - loss: 0.4070 - mae: 0.5000 - acc: 0.9750\n"
          ],
          "name": "stdout"
        }
      ]
    },
    {
      "cell_type": "code",
      "metadata": {
        "colab": {
          "base_uri": "https://localhost:8080/",
          "height": 88
        },
        "id": "21zzLkYDtC2Y",
        "outputId": "0494820a-d048-488c-a7ac-9750076074b5"
      },
      "source": [
        "# list all data in history\n",
        "print(history.history.keys())\n",
        "# summarize history for accuracy\n",
        "plt.plot(history.history['acc'])\n",
        "plt.plot(history.history['val_acc'])\n",
        "plt.title('model accuracy')\n",
        "plt.ylabel('accuracy')\n",
        "plt.xlabel('epoch')\n",
        "plt.legend(['train', 'test'], loc='upper left')\n",
        "plt.show()\n",
        "# summarize history for loss\n",
        "plt.plot(history.history['loss'])\n",
        "plt.plot(history.history['val_loss'])\n",
        "plt.title('model loss')\n",
        "plt.ylabel('loss')\n",
        "plt.xlabel('epoch')\n",
        "plt.legend(['train', 'test'], loc='upper left')\n",
        "plt.show()"
      ],
      "execution_count": null,
      "outputs": [
        {
          "output_type": "stream",
          "text": [
            "dict_keys(['loss', 'mae', 'acc', 'val_loss', 'val_mae', 'val_acc'])\n"
          ],
          "name": "stdout"
        },
        {
          "output_type": "display_data",
          "data": {
            "image/png": "[encoded data removed]",
            "text/plain": [
              "<Figure size 432x288 with 1 Axes>"
            ]
          },
          "metadata": {
            "tags": [],
            "needs_background": "light"
          }
        },
        {
          "output_type": "display_data",
          "data": {
            "image/png": "[encoded data removed]",
            "text/plain": [
              "<Figure size 432x288 with 1 Axes>"
            ]
          },
          "metadata": {
            "tags": [],
            "needs_background": "light"
          }
        }
      ]
    },
    {
      "cell_type": "code",
      "metadata": {
        "colab": {
          "base_uri": "https://localhost:8080/"
        },
        "id": "SW0PB4WWhBGZ",
        "outputId": "d8b1be85-0f14-4244-b0a7-1758f7b505f9"
      },
      "source": [
        "score = model.evaluate(X_test, Y_test)"
      ],
      "execution_count": null,
      "outputs": [
        {
          "output_type": "stream",
          "text": [
            "2/2 [==============================] - 1s 247ms/step - loss: 0.1298 - mae: 0.0306 - acc: 0.9750\n"
          ],
          "name": "stdout"
        }
      ]
    },
    {
      "cell_type": "code",
      "metadata": {
        "id": "JllIWu_VFXhf"
      },
      "source": [
        "model = tf.keras.models.Sequential()"
      ],
      "execution_count": null,
      "outputs": []
    },
    {
      "cell_type": "code",
      "metadata": {
        "id": "rwci3iM3DJTW"
      },
      "source": [
        "model.add(Conv1D(filters=32, kernel_size=(5,), padding='same', activation=tf.keras.layers.LeakyReLU(alpha=0.001), input_shape = (X_train.shape[1],1)))\n",
        "#Second CNN layer  with 13 filters, conv window 5, relu activation and same padding\n",
        "model.add(Conv1D(filters=13, kernel_size=(5,), padding='same', activation=tf.keras.layers.LeakyReLU(alpha=0.001)))\n",
        "#Third CNN layer with 64 filters, conv window 5, relu activation and same padding\n",
        "model.add(Conv1D(filters=128, kernel_size=(5,), padding='same', activation=tf.keras.layers.LeakyReLU(alpha=0.001)))\n",
        "#Fourth CNN layer with Max pooling\n",
        "model.add(MaxPool1D(pool_size=(5,), strides=2, padding='same'))\n",
        "model.add(Dropout(0.5))\n",
        "#Flatten the output\n",
        "model.add(Flatten())\n",
        "#Add a dense layer with 512 neurons\n",
        "model.add(Dense(units = 16, activation=tf.keras.layers.LeakyReLU(alpha=0.001)))\n",
        "#Add a dense layer with 1024 neurons\n",
        "model.add(Dense(units = 32, activation=tf.keras.layers.LeakyReLU(alpha=0.001)))\n",
        "#Softmax as last layer with two outputs\n",
        "model.add(Dense(units = 2, activation='softmax'))"
      ],
      "execution_count": null,
      "outputs": []
    },
    {
      "cell_type": "code",
      "metadata": {
        "colab": {
          "base_uri": "https://localhost:8080/"
        },
        "id": "l7TFdc40JXAS",
        "outputId": "492e7135-f997-49f8-982b-3772960b3b36"
      },
      "source": [
        "model.compile(loss='sparse_categorical_crossentropy', optimizer='adam', metrics=['mae', 'acc'])\n",
        "\n",
        "print(model.summary())\n",
        "\n",
        "history = model.fit(X_train, Y_train, validation_split=0.2, batch_size=batch_size, epochs=nb_epoch)\n",
        "score = model.evaluate(X_test, Y_test, batch_size=batch_size)"
      ],
      "execution_count": null,
      "outputs": [
        {
          "output_type": "stream",
          "text": [
            "Model: \"sequential_1\"\n",
            "_________________________________________________________________\n",
            "Layer (type)                 Output Shape              Param #   \n",
            "=================================================================\n",
            "conv1d_3 (Conv1D)            (None, 4097, 32)          192       \n",
            "_________________________________________________________________\n",
            "conv1d_4 (Conv1D)            (None, 4097, 13)          2093      \n",
            "_________________________________________________________________\n",
            "conv1d_5 (Conv1D)            (None, 4097, 128)         8448      \n",
            "_________________________________________________________________\n",
            "max_pooling1d_1 (MaxPooling1 (None, 2049, 128)         0         \n",
            "_________________________________________________________________\n",
            "dropout_1 (Dropout)          (None, 2049, 128)         0         \n",
            "_________________________________________________________________\n",
            "flatten_1 (Flatten)          (None, 262272)            0         \n",
            "_________________________________________________________________\n",
            "dense_3 (Dense)              (None, 16)                4196368   \n",
            "_________________________________________________________________\n",
            "dense_4 (Dense)              (None, 32)                544       \n",
            "_________________________________________________________________\n",
            "dense_5 (Dense)              (None, 2)                 66        \n",
            "=================================================================\n",
            "Total params: 4,207,711\n",
            "Trainable params: 4,207,711\n",
            "Non-trainable params: 0\n",
            "_________________________________________________________________\n",
            "None\n",
            "Epoch 1/20\n",
            "32/32 [==============================] - 5s 146ms/step - loss: 28.5482 - mae: 0.5000 - acc: 0.5859 - val_loss: 8.9245 - val_mae: 0.5000 - val_acc: 0.9062\n",
            "Epoch 2/20\n",
            "32/32 [==============================] - 4s 139ms/step - loss: 6.0070 - mae: 0.5000 - acc: 0.7500 - val_loss: 0.4230 - val_mae: 0.5000 - val_acc: 0.8125\n",
            "Epoch 3/20\n",
            "32/32 [==============================] - 4s 138ms/step - loss: 0.6543 - mae: 0.5000 - acc: 0.9062 - val_loss: 1.1958 - val_mae: 0.5000 - val_acc: 0.6875\n",
            "Epoch 4/20\n",
            "32/32 [==============================] - 4s 137ms/step - loss: 1.2900 - mae: 0.5000 - acc: 0.8672 - val_loss: 5.4826 - val_mae: 0.5000 - val_acc: 0.4688\n",
            "Epoch 5/20\n",
            "32/32 [==============================] - 4s 137ms/step - loss: 0.8325 - mae: 0.5000 - acc: 0.8359 - val_loss: 0.8899 - val_mae: 0.5000 - val_acc: 0.7188\n",
            "Epoch 6/20\n",
            "32/32 [==============================] - 4s 137ms/step - loss: 0.1613 - mae: 0.5000 - acc: 0.9531 - val_loss: 0.3621 - val_mae: 0.5000 - val_acc: 0.7500\n",
            "Epoch 7/20\n",
            "32/32 [==============================] - 4s 137ms/step - loss: 0.0074 - mae: 0.5000 - acc: 1.0000 - val_loss: 9.1217e-04 - val_mae: 0.5000 - val_acc: 1.0000\n",
            "Epoch 8/20\n",
            "32/32 [==============================] - 4s 138ms/step - loss: 3.3235e-04 - mae: 0.5000 - acc: 1.0000 - val_loss: 8.5243e-04 - val_mae: 0.5000 - val_acc: 1.0000\n",
            "Epoch 9/20\n",
            "32/32 [==============================] - 4s 137ms/step - loss: 1.4289e-04 - mae: 0.5000 - acc: 1.0000 - val_loss: 8.4948e-04 - val_mae: 0.5000 - val_acc: 1.0000\n",
            "Epoch 10/20\n",
            "32/32 [==============================] - 4s 138ms/step - loss: 2.3987e-04 - mae: 0.5000 - acc: 1.0000 - val_loss: 8.6185e-04 - val_mae: 0.5000 - val_acc: 1.0000\n",
            "Epoch 11/20\n",
            "32/32 [==============================] - 4s 138ms/step - loss: 1.7829e-04 - mae: 0.5000 - acc: 1.0000 - val_loss: 9.0114e-04 - val_mae: 0.5000 - val_acc: 1.0000\n",
            "Epoch 12/20\n",
            "32/32 [==============================] - 4s 138ms/step - loss: 1.3097e-04 - mae: 0.5000 - acc: 1.0000 - val_loss: 8.8344e-04 - val_mae: 0.5000 - val_acc: 1.0000\n",
            "Epoch 13/20\n",
            "32/32 [==============================] - 4s 138ms/step - loss: 1.2583e-04 - mae: 0.5000 - acc: 1.0000 - val_loss: 8.5419e-04 - val_mae: 0.5000 - val_acc: 1.0000\n",
            "Epoch 14/20\n",
            "32/32 [==============================] - 4s 139ms/step - loss: 1.1768e-04 - mae: 0.5000 - acc: 1.0000 - val_loss: 8.2872e-04 - val_mae: 0.5000 - val_acc: 1.0000\n",
            "Epoch 15/20\n",
            "32/32 [==============================] - 4s 138ms/step - loss: 1.7871e-04 - mae: 0.5000 - acc: 1.0000 - val_loss: 8.3214e-04 - val_mae: 0.5000 - val_acc: 1.0000\n",
            "Epoch 16/20\n",
            "32/32 [==============================] - 4s 138ms/step - loss: 1.1569e-04 - mae: 0.5000 - acc: 1.0000 - val_loss: 8.0925e-04 - val_mae: 0.5000 - val_acc: 1.0000\n",
            "Epoch 17/20\n",
            "32/32 [==============================] - 4s 139ms/step - loss: 1.3149e-04 - mae: 0.5000 - acc: 1.0000 - val_loss: 8.1202e-04 - val_mae: 0.5000 - val_acc: 1.0000\n",
            "Epoch 18/20\n",
            "32/32 [==============================] - 4s 139ms/step - loss: 1.2533e-04 - mae: 0.5000 - acc: 1.0000 - val_loss: 8.0590e-04 - val_mae: 0.5000 - val_acc: 1.0000\n",
            "Epoch 19/20\n",
            "32/32 [==============================] - 4s 138ms/step - loss: 1.2341e-04 - mae: 0.5000 - acc: 1.0000 - val_loss: 7.9146e-04 - val_mae: 0.5000 - val_acc: 1.0000\n",
            "Epoch 20/20\n",
            "32/32 [==============================] - 4s 138ms/step - loss: 9.4226e-05 - mae: 0.5000 - acc: 1.0000 - val_loss: 7.7314e-04 - val_mae: 0.5000 - val_acc: 1.0000\n",
            "10/10 [==============================] - 0s 24ms/step - loss: 0.0014 - mae: 0.5000 - acc: 1.0000\n"
          ],
          "name": "stdout"
        }
      ]
    },
    {
      "cell_type": "code",
      "metadata": {
        "colab": {
          "base_uri": "https://localhost:8080/"
        },
        "id": "QjeZSDMdtP-b",
        "outputId": "31de180d-b9e6-4e75-a3a3-c9a8bf55cc00"
      },
      "source": [
        "# list all data in history\n",
        "print(history.history.keys())\n",
        "# summarize history for accuracy\n",
        "plt.plot(history.history['acc'])\n",
        "plt.plot(history.history['val_acc'])\n",
        "plt.title('model accuracy')\n",
        "plt.ylabel('accuracy')\n",
        "plt.xlabel('epoch')\n",
        "plt.legend(['train', 'test'], loc='upper left')\n",
        "plt.show()\n",
        "# summarize history for loss\n",
        "plt.plot(history.history['loss'])\n",
        "plt.plot(history.history['val_loss'])\n",
        "plt.title('model loss')\n",
        "plt.ylabel('loss')\n",
        "plt.xlabel('epoch')\n",
        "plt.legend(['train', 'test'], loc='upper left')\n",
        "plt.show()"
      ],
      "execution_count": null,
      "outputs": [
        {
          "output_type": "stream",
          "text": [
            "dict_keys(['loss', 'mae', 'acc', 'val_loss', 'val_mae', 'val_acc'])\n"
          ],
          "name": "stdout"
        },
        {
          "output_type": "display_data",
          "data": {
            "image/png": "[encoded data removed]",
            "text/plain": [
              "<Figure size 432x288 with 1 Axes>"
            ]
          },
          "metadata": {
            "tags": [],
            "needs_background": "light"
          }
        },
        {
          "output_type": "display_data",
          "data": {
            "image/png": "[encoded data removed]",
            "text/plain": [
              "<Figure size 432x288 with 1 Axes>"
            ]
          },
          "metadata": {
            "tags": [],
            "needs_background": "light"
          }
        }
      ]
    },
    {
      "cell_type": "code",
      "metadata": {
        "colab": {
          "base_uri": "https://localhost:8080/"
        },
        "id": "L_pCDxQVik96",
        "outputId": "5dd94377-64b7-4692-f8d6-241d73fbe4f1"
      },
      "source": [
        "score = model.evaluate(X_test, Y_test)"
      ],
      "execution_count": null,
      "outputs": [
        {
          "output_type": "stream",
          "text": [
            "2/2 [==============================] - 0s 45ms/step - loss: 0.0014 - mae: 0.5000 - acc: 1.0000\n"
          ],
          "name": "stdout"
        }
      ]
    },
    {
      "cell_type": "markdown",
      "metadata": {
        "id": "H1A8Gc5BPT1A"
      },
      "source": [
        "PROPOSED METHOD\n"
      ]
    },
    {
      "cell_type": "code",
      "metadata": {
        "id": "8aPdAWBePEE1"
      },
      "source": [
        "cnn = tf.keras.models.Sequential()"
      ],
      "execution_count": null,
      "outputs": []
    },
    {
      "cell_type": "code",
      "metadata": {
        "id": "m8S0CnN_P-L0"
      },
      "source": [
        "#First CNN layer  with 32 filters, conv window 5, relu activation and same padding\n",
        "cnn.add(Conv1D(filters=32, kernel_size=(5,), padding='same', activation=tf.keras.layers.LeakyReLU(alpha=0.001), input_shape = (X_train.shape[1],1)))\n",
        "cnn.add(MaxPool1D(pool_size=(5,), strides=2, padding='same'))\n",
        "cnn.add(Dropout(0.5))\n",
        "#Second CNN layer  with 13 filters, conv window 5, relu activation and same padding\n",
        "cnn.add(Conv1D(filters=13, kernel_size=(5,), padding='same', activation=tf.keras.layers.LeakyReLU(alpha=0.001)))\n",
        "cnn.add(MaxPool1D(pool_size=(5,), strides=2, padding='same'))\n",
        "cnn.add(Dropout(0.5))\n",
        "#Third CNN layer with 64 filters, conv window 5, relu activation and same padding\n",
        "cnn.add(Conv1D(filters=128, kernel_size=(5,), padding='same', activation=tf.keras.layers.LeakyReLU(alpha=0.001)))\n",
        "#Fourth CNN layer with Max pooling\n",
        "cnn.add(MaxPool1D(pool_size=(5,), strides=2, padding='same'))\n",
        "cnn.add(Dropout(0.5))\n",
        "#Flatten the output\n",
        "cnn.add(Flatten())\n",
        "#Add a dense layer with 512 neurons\n",
        "cnn.add(Dense(units = 512, activation=tf.keras.layers.LeakyReLU(alpha=0.001)))\n",
        "cnn.add(Dropout(0.5))\n",
        "#Add a dense layer with 1024 neurons\n",
        "cnn.add(Dense(units = 1024, activation=tf.keras.layers.LeakyReLU(alpha=0.001)))\n",
        "cnn.add(Dropout(0.5))\n",
        "#Softmax as last layer with two outputs\n",
        "cnn.add(Dense(units = 2, activation='softmax'))"
      ],
      "execution_count": null,
      "outputs": []
    },
    {
      "cell_type": "code",
      "metadata": {
        "colab": {
          "base_uri": "https://localhost:8080/"
        },
        "id": "Uqe-6AqfQywN",
        "outputId": "7f69064a-12cf-4679-b425-10a4f01d5270"
      },
      "source": [
        "cnn.compile(loss='sparse_categorical_crossentropy', optimizer='adam', metrics=['mae', 'acc'])\n",
        "\n",
        "print(cnn.summary())\n",
        "\n",
        "history = cnn.fit(X_train, Y_train, validation_split=0.2, batch_size=batch_size, epochs=nb_epoch)\n",
        "score = cnn.evaluate(X_test, Y_test, batch_size=batch_size)"
      ],
      "execution_count": null,
      "outputs": [
        {
          "output_type": "stream",
          "text": [
            "Model: \"sequential_2\"\n",
            "_________________________________________________________________\n",
            "Layer (type)                 Output Shape              Param #   \n",
            "=================================================================\n",
            "conv1d_6 (Conv1D)            (None, 4097, 32)          192       \n",
            "_________________________________________________________________\n",
            "max_pooling1d_2 (MaxPooling1 (None, 2049, 32)          0         \n",
            "_________________________________________________________________\n",
            "dropout_2 (Dropout)          (None, 2049, 32)          0         \n",
            "_________________________________________________________________\n",
            "conv1d_7 (Conv1D)            (None, 2049, 13)          2093      \n",
            "_________________________________________________________________\n",
            "max_pooling1d_3 (MaxPooling1 (None, 1025, 13)          0         \n",
            "_________________________________________________________________\n",
            "dropout_3 (Dropout)          (None, 1025, 13)          0         \n",
            "_________________________________________________________________\n",
            "conv1d_8 (Conv1D)            (None, 1025, 128)         8448      \n",
            "_________________________________________________________________\n",
            "max_pooling1d_4 (MaxPooling1 (None, 513, 128)          0         \n",
            "_________________________________________________________________\n",
            "dropout_4 (Dropout)          (None, 513, 128)          0         \n",
            "_________________________________________________________________\n",
            "flatten_2 (Flatten)          (None, 65664)             0         \n",
            "_________________________________________________________________\n",
            "dense_6 (Dense)              (None, 512)               33620480  \n",
            "_________________________________________________________________\n",
            "dropout_5 (Dropout)          (None, 512)               0         \n",
            "_________________________________________________________________\n",
            "dense_7 (Dense)              (None, 1024)              525312    \n",
            "_________________________________________________________________\n",
            "dropout_6 (Dropout)          (None, 1024)              0         \n",
            "_________________________________________________________________\n",
            "dense_8 (Dense)              (None, 2)                 2050      \n",
            "=================================================================\n",
            "Total params: 34,158,575\n",
            "Trainable params: 34,158,575\n",
            "Non-trainable params: 0\n",
            "_________________________________________________________________\n",
            "None\n",
            "Epoch 1/20\n",
            "32/32 [==============================] - 23s 694ms/step - loss: 1169.1367 - mae: 0.5000 - acc: 0.5781 - val_loss: 34.4613 - val_mae: 0.5000 - val_acc: 0.4688\n",
            "Epoch 2/20\n",
            "32/32 [==============================] - 23s 710ms/step - loss: 337.0962 - mae: 0.5000 - acc: 0.4766 - val_loss: 49.0887 - val_mae: 0.5000 - val_acc: 0.5312\n",
            "Epoch 3/20\n",
            "32/32 [==============================] - 22s 687ms/step - loss: 38.6096 - mae: 0.5000 - acc: 0.5234 - val_loss: 7.1528 - val_mae: 0.5000 - val_acc: 0.5312\n",
            "Epoch 4/20\n",
            "32/32 [==============================] - 22s 695ms/step - loss: 3.9795 - mae: 0.5000 - acc: 0.7109 - val_loss: 9.0219 - val_mae: 0.5000 - val_acc: 0.5312\n",
            "Epoch 5/20\n",
            "32/32 [==============================] - 22s 693ms/step - loss: 1.4043 - mae: 0.5000 - acc: 0.6641 - val_loss: 16.5822 - val_mae: 0.5000 - val_acc: 0.5312\n",
            "Epoch 6/20\n",
            "32/32 [==============================] - 22s 692ms/step - loss: 1.1244 - mae: 0.5000 - acc: 0.8594 - val_loss: 23.5990 - val_mae: 0.5000 - val_acc: 0.5312\n",
            "Epoch 7/20\n",
            "32/32 [==============================] - 22s 690ms/step - loss: 1.8409 - mae: 0.5000 - acc: 0.8516 - val_loss: 36.3902 - val_mae: 0.5000 - val_acc: 0.5312\n",
            "Epoch 8/20\n",
            "32/32 [==============================] - 22s 692ms/step - loss: 0.8058 - mae: 0.5000 - acc: 0.8750 - val_loss: 31.2054 - val_mae: 0.5000 - val_acc: 0.5312\n",
            "Epoch 9/20\n",
            "32/32 [==============================] - 22s 690ms/step - loss: 0.6944 - mae: 0.5000 - acc: 0.8281 - val_loss: 28.4231 - val_mae: 0.5000 - val_acc: 0.5312\n",
            "Epoch 10/20\n",
            "32/32 [==============================] - 22s 686ms/step - loss: 1.5957 - mae: 0.5000 - acc: 0.8203 - val_loss: 23.7442 - val_mae: 0.5000 - val_acc: 0.5312\n",
            "Epoch 11/20\n",
            "32/32 [==============================] - 22s 695ms/step - loss: 0.8884 - mae: 0.5000 - acc: 0.8281 - val_loss: 0.2340 - val_mae: 0.5000 - val_acc: 0.9062\n",
            "Epoch 12/20\n",
            "32/32 [==============================] - 22s 689ms/step - loss: 1.1815 - mae: 0.5000 - acc: 0.8125 - val_loss: 25.4123 - val_mae: 0.5000 - val_acc: 0.5312\n",
            "Epoch 13/20\n",
            "32/32 [==============================] - 22s 690ms/step - loss: 1.4507 - mae: 0.5000 - acc: 0.8125 - val_loss: 18.3145 - val_mae: 0.5000 - val_acc: 0.5312\n",
            "Epoch 14/20\n",
            "32/32 [==============================] - 22s 691ms/step - loss: 1.8064 - mae: 0.5000 - acc: 0.8516 - val_loss: 0.1940 - val_mae: 0.5000 - val_acc: 0.9688\n",
            "Epoch 15/20\n",
            "32/32 [==============================] - 22s 691ms/step - loss: 0.9095 - mae: 0.5000 - acc: 0.8438 - val_loss: 19.6819 - val_mae: 0.5000 - val_acc: 0.5312\n",
            "Epoch 16/20\n",
            "32/32 [==============================] - 22s 690ms/step - loss: 1.9662 - mae: 0.5000 - acc: 0.8203 - val_loss: 1.4704 - val_mae: 0.5000 - val_acc: 0.4688\n",
            "Epoch 17/20\n",
            "32/32 [==============================] - 22s 690ms/step - loss: 1.2584 - mae: 0.5000 - acc: 0.7734 - val_loss: 11.3602 - val_mae: 0.5000 - val_acc: 0.5312\n",
            "Epoch 18/20\n",
            "32/32 [==============================] - 22s 695ms/step - loss: 1.0545 - mae: 0.5000 - acc: 0.8750 - val_loss: 15.0557 - val_mae: 0.5000 - val_acc: 0.5312\n",
            "Epoch 19/20\n",
            "32/32 [==============================] - 22s 688ms/step - loss: 0.5667 - mae: 0.5000 - acc: 0.9297 - val_loss: 19.5728 - val_mae: 0.5000 - val_acc: 0.5312\n",
            "Epoch 20/20\n",
            "32/32 [==============================] - 22s 688ms/step - loss: 0.2322 - mae: 0.5000 - acc: 0.9453 - val_loss: 25.8718 - val_mae: 0.5000 - val_acc: 0.5312\n",
            "10/10 [==============================] - 0s 39ms/step - loss: 32.0240 - mae: 0.5000 - acc: 0.5000\n"
          ],
          "name": "stdout"
        }
      ]
    },
    {
      "cell_type": "code",
      "metadata": {
        "colab": {
          "base_uri": "https://localhost:8080/"
        },
        "id": "C5NZrcZ7teKu",
        "outputId": "b32399ce-b575-4ec2-a14b-0179e51d78f0"
      },
      "source": [
        "# list all data in history\n",
        "print(history.history.keys())\n",
        "# summarize history for accuracy\n",
        "plt.plot(history.history['acc'])\n",
        "plt.plot(history.history['val_acc'])\n",
        "plt.title('model accuracy')\n",
        "plt.ylabel('accuracy')\n",
        "plt.xlabel('epoch')\n",
        "plt.legend(['train', 'test'], loc='upper left')\n",
        "plt.show()\n",
        "# summarize history for loss\n",
        "plt.plot(history.history['loss'])\n",
        "plt.plot(history.history['val_loss'])\n",
        "plt.title('model loss')\n",
        "plt.ylabel('loss')\n",
        "plt.xlabel('epoch')\n",
        "plt.legend(['train', 'test'], loc='upper left')\n",
        "plt.show()"
      ],
      "execution_count": null,
      "outputs": [
        {
          "output_type": "stream",
          "text": [
            "dict_keys(['loss', 'mae', 'acc', 'val_loss', 'val_mae', 'val_acc'])\n"
          ],
          "name": "stdout"
        },
        {
          "output_type": "display_data",
          "data": {
            "image/png": "[encoded data removed]",
            "text/plain": [
              "<Figure size 432x288 with 1 Axes>"
            ]
          },
          "metadata": {
            "tags": [],
            "needs_background": "light"
          }
        },
        {
          "output_type": "display_data",
          "data": {
            "image/png": "[encoded data removed]",
            "text/plain": [
              "<Figure size 432x288 with 1 Axes>"
            ]
          },
          "metadata": {
            "tags": [],
            "needs_background": "light"
          }
        }
      ]
    },
    {
      "cell_type": "code",
      "metadata": {
        "colab": {
          "base_uri": "https://localhost:8080/"
        },
        "id": "s2ERwmLelTte",
        "outputId": "b9177a1c-dd35-41e6-a6fa-f195a558b51d"
      },
      "source": [
        "score = cnn.evaluate(X_test, Y_test)"
      ],
      "execution_count": null,
      "outputs": [
        {
          "output_type": "stream",
          "text": [
            "2/2 [==============================] - 0s 55ms/step - loss: 32.0240 - mae: 0.5000 - acc: 0.5000\n"
          ],
          "name": "stdout"
        }
      ]
    },
    {
      "cell_type": "markdown",
      "metadata": {
        "id": "uKOWQCp2Su_8"
      },
      "source": [
        "ANN"
      ]
    },
    {
      "cell_type": "code",
      "metadata": {
        "id": "2Mm--2TUSlVC"
      },
      "source": [
        "ann = tf.keras.models.Sequential()\n",
        "ann.add(tf.keras.layers.Dense(units = 6, activation = 'relu'))\n",
        "ann.add(tf.keras.layers.Dense(units = 6, activation = 'relu'))\n",
        "ann.add(tf.keras.layers.Dense(units = 1))"
      ],
      "execution_count": null,
      "outputs": []
    },
    {
      "cell_type": "code",
      "metadata": {
        "colab": {
          "base_uri": "https://localhost:8080/"
        },
        "id": "jw1VSXRjSy1M",
        "outputId": "63f404f4-cf95-4ab3-e470-c17d520a69c0"
      },
      "source": [
        "ann.compile(optimizer='adam', loss = 'sparse_categorical_crossentropy', metrics=['accuracy'])\n",
        "history2 = ann.fit(X_train, Y_train, epochs = 50)"
      ],
      "execution_count": null,
      "outputs": [
        {
          "output_type": "stream",
          "text": [
            "Epoch 1/50\n",
            "5/5 [==============================] - 1s 28ms/step - loss: 13.8105 - accuracy: 0.4990\n",
            "Epoch 2/50\n",
            "5/5 [==============================] - 0s 24ms/step - loss: 13.8047 - accuracy: 0.4990\n",
            "Epoch 3/50\n",
            "5/5 [==============================] - 0s 31ms/step - loss: 13.7974 - accuracy: 0.4990\n",
            "Epoch 4/50\n",
            "5/5 [==============================] - 0s 26ms/step - loss: 13.7933 - accuracy: 0.5017\n",
            "Epoch 5/50\n",
            "5/5 [==============================] - 0s 28ms/step - loss: 13.7911 - accuracy: 0.5024\n",
            "Epoch 6/50\n",
            "5/5 [==============================] - 0s 25ms/step - loss: 13.7883 - accuracy: 0.5024\n",
            "Epoch 7/50\n",
            "5/5 [==============================] - 0s 25ms/step - loss: 13.7877 - accuracy: 0.5024\n",
            "Epoch 8/50\n",
            "5/5 [==============================] - 0s 28ms/step - loss: 13.7865 - accuracy: 0.5024\n",
            "Epoch 9/50\n",
            "5/5 [==============================] - 0s 25ms/step - loss: 13.7855 - accuracy: 0.5024\n",
            "Epoch 10/50\n",
            "5/5 [==============================] - 0s 28ms/step - loss: 13.7845 - accuracy: 0.5024\n",
            "Epoch 11/50\n",
            "5/5 [==============================] - 0s 27ms/step - loss: 13.7840 - accuracy: 0.5024\n",
            "Epoch 12/50\n",
            "5/5 [==============================] - 0s 30ms/step - loss: 13.7830 - accuracy: 0.5024\n",
            "Epoch 13/50\n",
            "5/5 [==============================] - 0s 27ms/step - loss: 13.7822 - accuracy: 0.5024\n",
            "Epoch 14/50\n",
            "5/5 [==============================] - 0s 25ms/step - loss: 13.7819 - accuracy: 0.5024\n",
            "Epoch 15/50\n",
            "5/5 [==============================] - 0s 25ms/step - loss: 13.7814 - accuracy: 0.5024\n",
            "Epoch 16/50\n",
            "5/5 [==============================] - 0s 27ms/step - loss: 13.7807 - accuracy: 0.5024\n",
            "Epoch 17/50\n",
            "5/5 [==============================] - 0s 25ms/step - loss: 13.7799 - accuracy: 0.5024\n",
            "Epoch 18/50\n",
            "5/5 [==============================] - 0s 29ms/step - loss: 13.7796 - accuracy: 0.5024\n",
            "Epoch 19/50\n",
            "5/5 [==============================] - 0s 28ms/step - loss: 13.7791 - accuracy: 0.5024\n",
            "Epoch 20/50\n",
            "5/5 [==============================] - 0s 27ms/step - loss: 13.7785 - accuracy: 0.5024\n",
            "Epoch 21/50\n",
            "5/5 [==============================] - 0s 25ms/step - loss: 13.7785 - accuracy: 0.5024\n",
            "Epoch 22/50\n",
            "5/5 [==============================] - 0s 26ms/step - loss: 13.7778 - accuracy: 0.5024\n",
            "Epoch 23/50\n",
            "5/5 [==============================] - 0s 27ms/step - loss: 13.7775 - accuracy: 0.5024\n",
            "Epoch 24/50\n",
            "5/5 [==============================] - 0s 27ms/step - loss: 13.7771 - accuracy: 0.5024\n",
            "Epoch 25/50\n",
            "5/5 [==============================] - 0s 31ms/step - loss: 13.7768 - accuracy: 0.5024\n",
            "Epoch 26/50\n",
            "5/5 [==============================] - 0s 28ms/step - loss: 13.7765 - accuracy: 0.5024\n",
            "Epoch 27/50\n",
            "5/5 [==============================] - 0s 27ms/step - loss: 13.7762 - accuracy: 0.5024\n",
            "Epoch 28/50\n",
            "5/5 [==============================] - 0s 26ms/step - loss: 13.7759 - accuracy: 0.5024\n",
            "Epoch 29/50\n",
            "5/5 [==============================] - 0s 27ms/step - loss: 13.7757 - accuracy: 0.5024\n",
            "Epoch 30/50\n",
            "5/5 [==============================] - 0s 28ms/step - loss: 13.7754 - accuracy: 0.5024\n",
            "Epoch 31/50\n",
            "5/5 [==============================] - 0s 27ms/step - loss: 13.7751 - accuracy: 0.5024\n",
            "Epoch 32/50\n",
            "5/5 [==============================] - 0s 28ms/step - loss: 13.7749 - accuracy: 0.5024\n",
            "Epoch 33/50\n",
            "5/5 [==============================] - 0s 29ms/step - loss: 13.7746 - accuracy: 0.5024\n",
            "Epoch 34/50\n",
            "5/5 [==============================] - 0s 28ms/step - loss: 13.7743 - accuracy: 0.5024\n",
            "Epoch 35/50\n",
            "5/5 [==============================] - 0s 34ms/step - loss: 13.7741 - accuracy: 0.5024\n",
            "Epoch 36/50\n",
            "5/5 [==============================] - 0s 37ms/step - loss: 13.7738 - accuracy: 0.5024\n",
            "Epoch 37/50\n",
            "5/5 [==============================] - 0s 27ms/step - loss: 13.7738 - accuracy: 0.4996\n",
            "Epoch 38/50\n",
            "5/5 [==============================] - 0s 28ms/step - loss: 13.7736 - accuracy: 0.4990\n",
            "Epoch 39/50\n",
            "5/5 [==============================] - 0s 30ms/step - loss: 13.7734 - accuracy: 0.5011\n",
            "Epoch 40/50\n",
            "5/5 [==============================] - 0s 26ms/step - loss: 13.7732 - accuracy: 0.4995\n",
            "Epoch 41/50\n",
            "5/5 [==============================] - 0s 27ms/step - loss: 13.7729 - accuracy: 0.4990\n",
            "Epoch 42/50\n",
            "5/5 [==============================] - 0s 25ms/step - loss: 13.7727 - accuracy: 0.4990\n",
            "Epoch 43/50\n",
            "5/5 [==============================] - 0s 25ms/step - loss: 13.7726 - accuracy: 0.4990\n",
            "Epoch 44/50\n",
            "5/5 [==============================] - 0s 27ms/step - loss: 13.7724 - accuracy: 0.4990\n",
            "Epoch 45/50\n",
            "5/5 [==============================] - 0s 27ms/step - loss: 13.7723 - accuracy: 0.4990\n",
            "Epoch 46/50\n",
            "5/5 [==============================] - 0s 29ms/step - loss: 13.7721 - accuracy: 0.4990\n",
            "Epoch 47/50\n",
            "5/5 [==============================] - 0s 27ms/step - loss: 13.7720 - accuracy: 0.4990\n",
            "Epoch 48/50\n",
            "5/5 [==============================] - 0s 27ms/step - loss: 13.7719 - accuracy: 0.4990\n",
            "Epoch 49/50\n",
            "5/5 [==============================] - 0s 26ms/step - loss: 13.7717 - accuracy: 0.4990\n",
            "Epoch 50/50\n",
            "5/5 [==============================] - 0s 29ms/step - loss: 13.7720 - accuracy: 0.4990\n"
          ],
          "name": "stdout"
        }
      ]
    },
    {
      "cell_type": "code",
      "metadata": {
        "colab": {
          "base_uri": "https://localhost:8080/"
        },
        "id": "LalDDVCStkcH",
        "outputId": "5cfd8c84-ef59-4e78-db8c-a91c5fa6cbea"
      },
      "source": [
        "ann.compile(loss='sparse_categorical_crossentropy', optimizer='adam', metrics=['mae', 'acc'])\n",
        "\n",
        "\n",
        "history = ann.fit(X_train, Y_train, validation_split=0.2, batch_size=batch_size, epochs=nb_epoch)\n",
        "score = ann.evaluate(X_test, Y_test, batch_size=batch_size)"
      ],
      "execution_count": null,
      "outputs": [
        {
          "output_type": "stream",
          "text": [
            "Epoch 1/20\n",
            "32/32 [==============================] - 1s 11ms/step - loss: 13.5554 - mae: 20.3328 - acc: 0.4875 - val_loss: 14.6372 - val_mae: 20.2039 - val_acc: 0.5461\n",
            "Epoch 2/20\n",
            "32/32 [==============================] - 0s 6ms/step - loss: 13.5551 - mae: 20.0636 - acc: 0.4887 - val_loss: 14.6349 - val_mae: 19.7918 - val_acc: 0.5501\n",
            "Epoch 3/20\n",
            "32/32 [==============================] - 0s 6ms/step - loss: 13.5506 - mae: 19.6510 - acc: 0.4941 - val_loss: 14.6308 - val_mae: 19.4926 - val_acc: 0.5580\n",
            "Epoch 4/20\n",
            "32/32 [==============================] - 0s 7ms/step - loss: 13.5448 - mae: 19.4543 - acc: 0.5050 - val_loss: 14.6227 - val_mae: 19.3065 - val_acc: 0.5697\n",
            "Epoch 5/20\n",
            "32/32 [==============================] - 0s 6ms/step - loss: 13.5358 - mae: 19.0291 - acc: 0.5107 - val_loss: 14.6084 - val_mae: 18.8859 - val_acc: 0.5816\n",
            "Epoch 6/20\n",
            "32/32 [==============================] - 0s 6ms/step - loss: 13.5235 - mae: 18.6518 - acc: 0.5241 - val_loss: 14.5936 - val_mae: 18.5489 - val_acc: 0.5993\n",
            "Epoch 7/20\n",
            "32/32 [==============================] - 0s 6ms/step - loss: 13.5133 - mae: 18.4243 - acc: 0.5349 - val_loss: 14.5830 - val_mae: 18.4812 - val_acc: 0.6186\n",
            "Epoch 8/20\n",
            "32/32 [==============================] - 0s 6ms/step - loss: 13.4907 - mae: 18.1283 - acc: 0.5706 - val_loss: 14.5008 - val_mae: 18.0798 - val_acc: 0.6691\n",
            "Epoch 9/20\n",
            "32/32 [==============================] - 0s 6ms/step - loss: 13.4061 - mae: 17.8261 - acc: 0.6265 - val_loss: 14.1443 - val_mae: 17.8275 - val_acc: 0.6334\n",
            "Epoch 10/20\n",
            "32/32 [==============================] - 0s 6ms/step - loss: 13.1905 - mae: 17.7177 - acc: 0.5887 - val_loss: 14.3757 - val_mae: 17.8476 - val_acc: 0.6985\n",
            "Epoch 11/20\n",
            "32/32 [==============================] - 0s 6ms/step - loss: 13.3445 - mae: 17.6393 - acc: 0.6458 - val_loss: 14.2502 - val_mae: 17.6890 - val_acc: 0.6689\n",
            "Epoch 12/20\n",
            "32/32 [==============================] - 0s 6ms/step - loss: 12.5096 - mae: 17.5699 - acc: 0.5174 - val_loss: 12.5736 - val_mae: 17.7516 - val_acc: 0.5312\n",
            "Epoch 13/20\n",
            "32/32 [==============================] - 0s 6ms/step - loss: 10.8401 - mae: 17.5886 - acc: 0.4922 - val_loss: 8.3180 - val_mae: 17.7743 - val_acc: 0.5312\n",
            "Epoch 14/20\n",
            "32/32 [==============================] - 0s 6ms/step - loss: 8.3180 - mae: 17.6111 - acc: 0.4922 - val_loss: 8.3180 - val_mae: 17.7814 - val_acc: 0.5312\n",
            "Epoch 15/20\n",
            "32/32 [==============================] - 0s 6ms/step - loss: 8.3180 - mae: 17.6133 - acc: 0.4922 - val_loss: 8.3180 - val_mae: 17.7816 - val_acc: 0.5312\n",
            "Epoch 16/20\n",
            "32/32 [==============================] - 0s 6ms/step - loss: 8.3180 - mae: 17.6134 - acc: 0.4922 - val_loss: 8.3180 - val_mae: 17.7816 - val_acc: 0.5312\n",
            "Epoch 17/20\n",
            "32/32 [==============================] - 0s 6ms/step - loss: 8.3180 - mae: 17.6134 - acc: 0.4922 - val_loss: 8.3180 - val_mae: 17.7816 - val_acc: 0.5312\n",
            "Epoch 18/20\n",
            "32/32 [==============================] - 0s 6ms/step - loss: 8.3180 - mae: 17.6134 - acc: 0.4922 - val_loss: 8.3180 - val_mae: 17.7816 - val_acc: 0.5312\n",
            "Epoch 19/20\n",
            "32/32 [==============================] - 0s 8ms/step - loss: 8.3180 - mae: 17.6134 - acc: 0.4922 - val_loss: 8.3180 - val_mae: 17.7816 - val_acc: 0.5312\n",
            "Epoch 20/20\n",
            "32/32 [==============================] - 0s 6ms/step - loss: 8.3180 - mae: 17.6134 - acc: 0.4922 - val_loss: 8.3180 - val_mae: 17.7816 - val_acc: 0.5312\n",
            "10/10 [==============================] - 0s 3ms/step - loss: 8.3180 - mae: 20.3552 - acc: 0.5000\n"
          ],
          "name": "stdout"
        }
      ]
    },
    {
      "cell_type": "markdown",
      "source": [
        "# ANN Model"
      ],
      "metadata": {
        "id": "LTZFHyhfPv56"
      }
    },
    {
      "cell_type": "code",
      "metadata": {
        "colab": {
          "base_uri": "https://localhost:8080/",
          "height": 590
        },
        "id": "JUGucsPktof4",
        "outputId": "ca98f1ed-4e54-40a8-862b-a3716ec1008e"
      },
      "source": [
        "# list all data in history\n",
        "print(history.history.keys())\n",
        "# summarize history for accuracy\n",
        "plt.plot(history.history['acc'])\n",
        "plt.plot(history.history['val_acc'])\n",
        "plt.title('model accuracy')\n",
        "plt.ylabel('accuracy')\n",
        "plt.xlabel('epoch')\n",
        "plt.legend(['train', 'test'], loc='upper left')\n",
        "plt.show()\n",
        "# summarize history for loss\n",
        "plt.plot(history.history['loss'])\n",
        "plt.plot(history.history['val_loss'])\n",
        "plt.title('model loss')\n",
        "plt.ylabel('loss')\n",
        "plt.xlabel('epoch')\n",
        "plt.legend(['train', 'test'], loc='upper left')\n",
        "plt.show()"
      ],
      "execution_count": null,
      "outputs": [
        {
          "output_type": "stream",
          "text": [
            "dict_keys(['loss', 'mae', 'acc', 'val_loss', 'val_mae', 'val_acc'])\n"
          ],
          "name": "stdout"
        },
        {
          "output_type": "display_data",
          "data": {
            "image/png": "[encoded data removed]",
            "text/plain": [
              "<Figure size 432x288 with 1 Axes>"
            ]
          },
          "metadata": {
            "tags": [],
            "needs_background": "light"
          }
        },
        {
          "output_type": "display_data",
          "data": {
            "image/png": "[encoded data removed]",
            "text/plain": [
              "<Figure size 432x288 with 1 Axes>"
            ]
          },
          "metadata": {
            "tags": [],
            "needs_background": "light"
          }
        }
      ]
    },
    {
      "cell_type": "markdown",
      "metadata": {
        "id": "rKB9744OTFYT"
      },
      "source": []
    },
    {
      "cell_type": "code",
      "metadata": {
        "colab": {
          "base_uri": "https://localhost:8080/"
        },
        "id": "GvgeXKiQTC6O",
        "outputId": "2d607eec-6f0a-435b-aeaf-a75c792ad21b"
      },
      "source": [
        "score = ann.evaluate(X_test, Y_test)"
      ],
      "execution_count": null,
      "outputs": [
        {
          "output_type": "stream",
          "text": [
            "2/2 [==============================] - 0s 10ms/step - loss: 8.3180 - mae: 20.3552 - acc: 0.5000\n"
          ],
          "name": "stdout"
        }
      ]
    }
  ]
}